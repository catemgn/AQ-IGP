{
 "cells": [
  {
   "cell_type": "markdown",
   "metadata": {},
   "source": [
    "## Comment"
   ]
  },
  {
   "cell_type": "raw",
   "metadata": {},
   "source": [
    "This script speciate NMOVCs for EDGAR HTAP transport emissions, based on the total NMVOC speciation provided by WRF-chem Tool for the community (https://www2.acom.ucar.edu/wrf-chem/wrf-chem-tools-community). The total NMVOC speciation is based on the MACCity emission inventory: calculate the percentage contribution of each NMVOC species in each gridbox to total NMVOC emissions in the MACCity inventory and applied those percentage contribution to total NMVOC emissions from the EDGAR-HTAP inventory. \n",
    "I apply the same approach to estimate the conribution to transport to each VOC.\n",
    "\n",
    "This is a first rough apporach for speciation. Indeed I am assuming that the percentage contribution for each transport VOC species is the same percentage applied to the total (all sectors) contribution. It might not be true, since within the total contribution, transport might contribute to certain VOC species differently (eg no isoprene, or higher contribution to aromatics, considering the specificity of transport emissions)."
   ]
  },
  {
   "cell_type": "markdown",
   "metadata": {},
   "source": [
    "## Import modules"
   ]
  },
  {
   "cell_type": "code",
   "execution_count": 1,
   "metadata": {
    "scrolled": true
   },
   "outputs": [],
   "source": [
    "#import modules\n",
    "import xarray as xr\n",
    "import numpy as np\n",
    "import os"
   ]
  },
  {
   "cell_type": "markdown",
   "metadata": {},
   "source": [
    "## Calculate contribution of each VOC in the total emissions"
   ]
  },
  {
   "cell_type": "code",
   "execution_count": 3,
   "metadata": {
    "scrolled": true
   },
   "outputs": [],
   "source": [
    "# Set paths contribution of each VOC in the total emissions.\n",
    "voc_dir = '/geos/d21/s1878599/EMISSIONS_WRF/anthro_data/EDGAR-HTAP/MOZART_MOSAIC/ALL_2010/NMVOC/' # foilder with tot NMVOCs.\n",
    "ds_NMVOC = xr.open_dataset(voc_dir +'EDGAR_HTAP_emi_NMVOC_2010.0.1x0.1.nc') # total NMVOC."
   ]
  },
  {
   "cell_type": "code",
   "execution_count": 4,
   "metadata": {},
   "outputs": [
    {
     "name": "stdout",
     "output_type": "stream",
     "text": [
      "Processing EDGAR_HTAP_emi_CH3OH_2010.0.1x0.1.nc\n",
      "Processing EDGAR_HTAP_emi_CH3COCH3_2010.0.1x0.1.nc\n",
      "Processing EDGAR_HTAP_emi_C3H6_2010.0.1x0.1.nc\n",
      "Processing EDGAR_HTAP_emi_TOLUENE_2010.0.1x0.1.nc\n",
      "Processing EDGAR_HTAP_emi_BIGENE_2010.0.1x0.1.nc\n",
      "Processing EDGAR_HTAP_emi_C3H8_2010.0.1x0.1.nc\n",
      "Processing EDGAR_HTAP_emi_BIGALK_2010.0.1x0.1.nc\n",
      "Processing EDGAR_HTAP_emi_C2H4_2010.0.1x0.1.nc\n",
      "Processing EDGAR_HTAP_emi_CH3CHO_2010.0.1x0.1.nc\n",
      "Processing EDGAR_HTAP_emi_C2H5OH_2010.0.1x0.1.nc\n",
      "Processing EDGAR_HTAP_emi_MEK_2010.0.1x0.1.nc\n",
      "Processing EDGAR_HTAP_emi_NMVOC_2010.0.1x0.1.nc\n",
      "Processing EDGAR_HTAP_emi_XYLENE_2010.0.1x0.1.nc\n",
      "Processing EDGAR_HTAP_emi_BENZENE_2010.0.1x0.1.nc\n",
      "Processing EDGAR_HTAP_emi_C2H6_2010.0.1x0.1.nc\n",
      "Processing EDGAR_HTAP_emi_CH2O_2010.0.1x0.1.nc\n"
     ]
    }
   ],
   "source": [
    "# Looping over VOC species and calculate the relative contribution to NMVOC.\n",
    "\n",
    "sum_coeff = 0\n",
    "\n",
    "for file in os.listdir(voc_dir):\n",
    "    \n",
    "    if file.startswith('EDGAR'):\n",
    "    \n",
    "        ds_voc = xr.open_dataset(voc_dir + file) # open VOC file.\n",
    "        coeff = (ds_voc['emis_tot']/ds_NMVOC['emis_tot']).fillna(value=0)  #calculate relative contribution. Fill nan (division by 0) with 0.\n",
    "        print('Processing ' + file)\n",
    "        voc_name = file.split('_')[3] # get VOC name.\n",
    "        path = voc_dir + voc_name + '_percent.nc'\n",
    "        coeff.to_netcdf(path)   # Save to netCDF file.\n",
    "        sum_coeff = sum_coeff + coeff  # for checking sum all coefficient is one.\n",
    "\n",
    "sum_coeff.to_netcdf(voc_dir + 'sum_all_percent.nc')"
   ]
  },
  {
   "cell_type": "raw",
   "metadata": {},
   "source": [
    "! Check if sum is one by plotting the following data files in voc_dir.\n",
    "   'NMVOC_percent.nc' (should be 1 everywhere)\n",
    "   'sum_percent.nc' (should be 2 everywhere)"
   ]
  },
  {
   "cell_type": "markdown",
   "metadata": {},
   "source": [
    "## Making emissions files of Transport from EDGAR compatible with WRF-Chem preprocess tools"
   ]
  },
  {
   "cell_type": "code",
   "execution_count": 5,
   "metadata": {},
   "outputs": [],
   "source": [
    "# Import NMVOC transport data\n",
    "trans_path = '/geos/d21/s1878599/EMISSIONS_WRF/anthro_data/EDGAR-HTAP/MOZART_MOSAIC/TRANSPORT_2010/'\n",
    "trans_voc_name = 'edgar_HTAP_NMVOC_emi_TRANSPORT_2010_'   # specific monthly file name for each voc."
   ]
  },
  {
   "cell_type": "code",
   "execution_count": 6,
   "metadata": {
    "scrolled": true
   },
   "outputs": [],
   "source": [
    "# create a list with montlhy data with extended time dimension (not present in originl files).\n",
    "\n",
    "month_list =[0]*12  # create list where to store monthly data.\n",
    "\n",
    "for file in os.listdir(trans_path):\n",
    "    \n",
    "    if file.startswith(trans_voc_name):   # get only the species you want.\n",
    "    \n",
    "        month = file.split('_')[6].split('.')[0]   # get month from string.\n",
    "        ds_voc_month = xr.open_dataset(trans_path + file)  # open VOC file.\n",
    "        expanded = ds_voc_month.expand_dims('time') # espand dimension over time.\n",
    "        month_list[int(month)-1] = expanded   #add to list (ordered by month).\n",
    "               "
   ]
  },
  {
   "cell_type": "code",
   "execution_count": 7,
   "metadata": {},
   "outputs": [],
   "source": [
    "#concatenate list elements in a single dataset.\n",
    "annual_emiss = month_list[0] \n",
    "for i in range(len(month_list)-1):\n",
    "    annual_emiss = xr.concat([annual_emiss, month_list[i+1]], 'time')                 "
   ]
  },
  {
   "cell_type": "code",
   "execution_count": 8,
   "metadata": {},
   "outputs": [],
   "source": [
    "# Add date and datesec varaibles to nc files (needed for preprocessing in WRF-Chem anthro_emiss).\n",
    "\n",
    "date = np.array([20100101,20100201,20100301,20100401,20100501,20100601,20100701,20100801,20100101,20100901,20101001,20101201]).astype(np.int32)\n",
    "datesec = np.zeros([(12)]).astype(np.int32)\n",
    "annual_emiss['datesec'] = xr.DataArray(datesec, dims=['time'])\n",
    "annual_emiss['date'] = xr.DataArray(date, dims=['time'])\n",
    "annual_emiss.attrs['title'] = 'Monthly Mean Emissions of NMVOC'"
   ]
  },
  {
   "cell_type": "code",
   "execution_count": 9,
   "metadata": {},
   "outputs": [],
   "source": [
    "#save to netcdf file\n",
    "annual_emiss.to_netcdf(trans_path + 'edgar_HTAP_NMVOC_emi_TRANSPORT_2010_all.0.1x0.1.nc')"
   ]
  },
  {
   "cell_type": "code",
   "execution_count": 13,
   "metadata": {},
   "outputs": [],
   "source": [
    "# Speciate NMVOC transport emissions.\n",
    "\n",
    "trans_NMVOC = trans_path + 'edgar_HTAP_NMVOC_emi_TRANSPORT_2010_all.0.1x0.1.nc'\n",
    "tr_ds_NMVOC = xr.open_dataset(trans_NMVOC)\n",
    "spec_path = trans_path + 'NMVOCspec/'\n",
    "\n",
    "date = np.array([20100101,20100201,20100301,20100401,20100501,20100601,20100701,20100801,20100101,20100901,20101001,20101201]).astype(np.int32)\n",
    "datesec = np.zeros([(12)]).astype(np.int32)\n",
    "\n",
    "sum_coeff = 0\n",
    "\n",
    "for file in os.listdir(voc_dir):  # loop over the speciation coefficient files.\n",
    "    \n",
    "    if file.endswith('percent.nc') and file != 'NMVOC_percent.nc': # get only the species you want without the total NMOVC.\n",
    "        ts_voc = xr.open_dataset(voc_dir + file)  # open VOC file.\n",
    "        voc_name = file.split('_')[0]\n",
    "        ts_voc['emis_tot'].values = tr_ds_NMVOC.emi_nmvoc.values * ts_voc.emis_tot.values   \n",
    "        ts_voc['datesec'] = xr.DataArray(datesec, dims=['time'])    \n",
    "        ts_voc['date'] = xr.DataArray(date, dims=['time'])\n",
    "        ts_voc.attrs['title'] = 'Monthly Mean Emissions of TRANSPORT ' + voc_name \n",
    "        ts_voc.to_netcdf(spec_path + 'edgar_HTAP_' + voc_name + '_emi_TRANSPORT_2010.0.1x0.1.nc')  #save to netcdf file\n",
    "        \n",
    "        sum_coeff = sum_coeff + ts_voc  # for checking sum all contribution is the same.\n",
    "\n",
    "sum_coeff.to_netcdf(spec_path + 'NMVOC_sum.nc')"
   ]
  },
  {
   "cell_type": "code",
   "execution_count": 21,
   "metadata": {},
   "outputs": [],
   "source": [
    "# Repeat for all other species (BC, OC, CO, NOx, SO2, NH3, PM10, PM2.5). \n",
    "#! CHANGE 'name' variable accordingly.\n",
    "\n",
    "# create a list with montlhy data with extended time dimension.\n",
    "\n",
    "name = 'PM2.5'\n",
    "trans_voc_name = 'edgar_HTAP_'+ name +'_emi_TRANSPORT_2010_'\n",
    "month_list =[0]*12  # create list where to store monthly data.\n",
    "\n",
    "for file in os.listdir(trans_path):\n",
    "    \n",
    "    if file.startswith(trans_voc_name):   # get only the species you want.\n",
    "    \n",
    "        month = file.split('_')[6].split('.')[0]   # get month from string.\n",
    "        ds_voc_month = xr.open_dataset(trans_path + file)  # open VOC file.\n",
    "        expanded = ds_voc_month.expand_dims('time') # espand dimension over time.\n",
    "        month_list[int(month)-1] = expanded   #add to list (ordered by month) .\n",
    "               \n",
    "\n",
    "#concatenate in a single dataset.\n",
    "annual_emiss = month_list[0] \n",
    "for i in range(len(month_list)-1):\n",
    "    annual_emiss = xr.concat([annual_emiss, month_list[i+1]], 'time')      \n",
    "    \n",
    "\n",
    "# Add date and datesec varaibles to nc files (needed for preprocessing in WRF-Chem anthro_emiss).\n",
    "\n",
    "date = np.array([20100101,20100201,20100301,20100401,20100501,20100601,20100701,20100801,20100101,20100901,20101001,20101201]).astype(np.int32)\n",
    "datesec = np.zeros([(12)]).astype(np.int32)\n",
    "annual_emiss['datesec'] = xr.DataArray(datesec, dims=['time'])\n",
    "annual_emiss['date'] = xr.DataArray(date, dims=['time'])\n",
    "annual_emiss.attrs['title'] = 'Monthly Mean Emissions of ' + name\n",
    "annual_emiss = annual_emiss.rename_vars({'emi_' + name.lower() :'emis_tot'})\n",
    "\n",
    "#save to netcdf file\n",
    "annual_emiss.to_netcdf(trans_path + 'edgar_HTAP_' + name +'_emi_TRANSPORT_2010_allmonths.0.1x0.1.nc')"
   ]
  },
  {
   "cell_type": "markdown",
   "metadata": {},
   "source": [
    "## Calculate difference from  TOT_EMIS - TRANSPORT EMISSIONS"
   ]
  },
  {
   "cell_type": "code",
   "execution_count": 30,
   "metadata": {
    "scrolled": true
   },
   "outputs": [
    {
     "name": "stdout",
     "output_type": "stream",
     "text": [
      "CH3OH\n",
      "SO2\n",
      "CH3COCH3\n",
      "C3H6\n",
      "TOLUENE\n",
      "BIGENE\n",
      "C3H8\n",
      "BC\n",
      "BIGALK\n",
      "NH3\n",
      "NOx\n",
      "C2H4\n",
      "CH3CHO\n",
      "OC\n",
      "C2H5OH\n",
      "MEK\n",
      "NMVOC\n",
      "XYLENE\n",
      "PM10\n",
      "BENZENE\n",
      "C2H6\n",
      "PM2.5\n",
      "CO\n",
      "CH2O\n"
     ]
    }
   ],
   "source": [
    "emi_path = '/geos/d21/s1878599/EMISSIONS_WRF/anthro_data/EDGAR-HTAP/MOZART_MOSAIC/'\n",
    "\n",
    "for file in os.listdir(emi_path + 'ALL_2010/'):\n",
    "    \n",
    "    if file.startswith('EDGAR_HTAP'):\n",
    "        spec_name = file.split('_')[3]  # get species name from string.\n",
    "        print(spec_name)\n",
    "        ds_tot = xr.open_dataset(emi_path +'ALL_2010/' + file)  # open tot emi file\n",
    "        \n",
    "        if os.path.isfile((emi_path + 'TRANSPORT_2010/' + 'edgar_HTAP_' + spec_name + '_emi_TRANSPORT_2010_allmonths.0.1x0.1.nc')) and spec_name != 'NMVOC':\n",
    "            ds_trans = xr.open_dataset(emi_path + 'TRANSPORT_2010/' + 'edgar_HTAP_' + spec_name + '_emi_TRANSPORT_2010_allmonths.0.1x0.1.nc') \n",
    "            ds_tot['emis_tot'] =  ds_tot['emis_tot'] - ds_trans['emis_tot']\n",
    "\n",
    "        elif spec_name != 'NMVOC':\n",
    "            ds_trans = xr.open_dataset(emi_path + 'TRANSPORT_2010/NMVOCspec/' + 'edgar_HTAP_' + spec_name + '_emi_TRANSPORT_2010.0.1x0.1.nc') \n",
    "            ds_tot['emis_tot'] =  ds_tot['emis_tot'] - ds_trans['emis_tot']\n",
    "\n",
    "        \n",
    "        ds_tot.to_netcdf('/geos/d21/s1878599/EMISSIONS_WRF/anthro_data/EDGAR-HTAP/MOZART_MOSAIC/ALL_NO_TRANSPORT_2010/' + 'EDGAR_HTAP_emi_' + spec_name\n",
    "        + '_2010.0.1x0.1.nc', format = 'NETCDF3_64BIT')"
   ]
  },
  {
   "cell_type": "code",
   "execution_count": 31,
   "metadata": {},
   "outputs": [],
   "source": []
  },
  {
   "cell_type": "code",
   "execution_count": null,
   "metadata": {},
   "outputs": [],
   "source": []
  }
 ],
 "metadata": {
  "kernelspec": {
   "display_name": "Python 3",
   "language": "python",
   "name": "python3"
  },
  "language_info": {
   "codemirror_mode": {
    "name": "ipython",
    "version": 3
   },
   "file_extension": ".py",
   "mimetype": "text/x-python",
   "name": "python",
   "nbconvert_exporter": "python",
   "pygments_lexer": "ipython3",
   "version": "3.8.2"
  }
 },
 "nbformat": 4,
 "nbformat_minor": 2
}
