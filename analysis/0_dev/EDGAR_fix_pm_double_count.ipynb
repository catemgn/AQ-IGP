{
 "cells": [
  {
   "cell_type": "code",
   "execution_count": 2,
   "metadata": {},
   "outputs": [],
   "source": [
    "#import modules\n",
    "import xarray as xr\n",
    "import numpy as np\n",
    "import pandas as pd\n",
    "import plotly.graph_objects as go\n",
    "\n",
    "import warnings\n",
    "warnings.filterwarnings('ignore')"
   ]
  },
  {
   "cell_type": "code",
   "execution_count": 8,
   "metadata": {},
   "outputs": [],
   "source": [
    "#Get data\n",
    "pth= \"/geos/d21/s1878599/EMISSIONS_WRF/anthro_data/EDGAR-HTAP_2010/MOZART_MOSAIC/ALL_2010/\"\n",
    "out_dir = pth + \"no_double_pm/\""
   ]
  },
  {
   "cell_type": "code",
   "execution_count": 9,
   "metadata": {},
   "outputs": [],
   "source": [
    "# Open files\n",
    "pm10 = xr.open_dataset(pth + \"EDGAR_HTAP_emi_PM10_2010.0.1x0.1.nc\") \n",
    "bc = xr.open_dataset(pth + \"EDGAR_HTAP_emi_BC_2010.0.1x0.1.nc\")\n",
    "oc = xr.open_dataset(pth + \"EDGAR_HTAP_emi_OC_2010.0.1x0.1.nc\")\n",
    "pm25 = xr.open_dataset(pth + \"EDGAR_HTAP_emi_PM2.5_2010.0.1x0.1.nc\")"
   ]
  },
  {
   "cell_type": "code",
   "execution_count": 16,
   "metadata": {},
   "outputs": [],
   "source": [
    "# CORRECT PM10\n",
    "  \n",
    "#substract pm25\n",
    "pm10[\"emis_tot_corr\"] = pm10.emis_tot - pm25.emis_tot\n",
    "\n",
    "#Set possible negative values to zero.\n",
    "#pm10.emis_tot_corr.values = pm10.emis_tot_corr.values.clip(min=0)   \n",
    "\n",
    "# create new dataset to save\n",
    "pm10new= pm10.drop(\"emis_tot\")\n",
    "pm10new=pm10new.rename({\"emis_tot_corr\":\"emis_tot\"})\n",
    "\n",
    "# save to file\n",
    "outpath = out_dir + \"EDGAR_HTAP_emi_PM10_2010.0.1x0.1_new.nc\" \n",
    "pm10new.to_netcdf(outpath,format = 'NETCDF3_64BIT')"
   ]
  },
  {
   "cell_type": "code",
   "execution_count": 17,
   "metadata": {},
   "outputs": [],
   "source": [
    "# CORRECT PM2.5\n",
    "  \n",
    "#substract oc and bc\n",
    "pm25[\"emis_tot_corr\"] = pm25.emis_tot - oc.emis_tot - bc.emis_tot\n",
    "\n",
    "#Set possible negative values to zero.\n",
    "#pm25.emis_tot_corr.values = pm25.emis_tot_corr.values.clip(min=0.0)   \n",
    "\n",
    "# create new dataset to save\n",
    "pm25new= pm25.drop(\"emis_tot\")\n",
    "pm25new= pm25new.rename({\"emis_tot_corr\":\"emis_tot\"})\n",
    "\n",
    "# save to file\n",
    "outpath = out_dir + \"EDGAR_HTAP_emi_PM2.5_2010.0.1x0.1_new.nc\" \n",
    "pm25new.to_netcdf(outpath,format = 'NETCDF3_64BIT')"
   ]
  },
  {
   "cell_type": "code",
   "execution_count": null,
   "metadata": {},
   "outputs": [],
   "source": [
    "#check max values corrected < default"
   ]
  },
  {
   "cell_type": "code",
   "execution_count": 12,
   "metadata": {},
   "outputs": [
    {
     "data": {
      "text/plain": [
       "4.104924e-08"
      ]
     },
     "execution_count": 12,
     "metadata": {},
     "output_type": "execute_result"
    }
   ],
   "source": [
    "pm10.emis_tot.values.max()"
   ]
  },
  {
   "cell_type": "code",
   "execution_count": 13,
   "metadata": {},
   "outputs": [
    {
     "data": {
      "text/plain": [
       "3.1559033e-08"
      ]
     },
     "execution_count": 13,
     "metadata": {},
     "output_type": "execute_result"
    }
   ],
   "source": [
    "pm25.emis_tot.values.max()"
   ]
  },
  {
   "cell_type": "code",
   "execution_count": 31,
   "metadata": {},
   "outputs": [],
   "source": [
    "pm10corr = xr.open_dataset(out_dir + \"EDGAR_HTAP_emi_PM10_2010.0.1x0.1_new.nc\") \n",
    "pm25corr = xr.open_dataset(out_dir + \"EDGAR_HTAP_emi_PM2.5_2010.0.1x0.1_new.nc\")"
   ]
  },
  {
   "cell_type": "code",
   "execution_count": 24,
   "metadata": {},
   "outputs": [],
   "source": [
    "pm10corr.emis_tot.values = pm10corr.emis_tot.values.clip(min=0.0)    #[0,:,:].plot.imshow()"
   ]
  },
  {
   "cell_type": "code",
   "execution_count": 32,
   "metadata": {},
   "outputs": [
    {
     "data": {
      "text/plain": [
       "1.1017133e-08"
      ]
     },
     "execution_count": 32,
     "metadata": {},
     "output_type": "execute_result"
    }
   ],
   "source": [
    "pm10corr.emis_tot.values.max()"
   ]
  },
  {
   "cell_type": "code",
   "execution_count": 27,
   "metadata": {},
   "outputs": [
    {
     "data": {
      "text/plain": [
       "<matplotlib.image.AxesImage at 0x7f2a9f13ba50>"
      ]
     },
     "execution_count": 27,
     "metadata": {},
     "output_type": "execute_result"
    },
    {
     "data": {
      "image/png": "[encoded data removed]",
      "text/plain": [
       "<Figure size 432x288 with 2 Axes>"
      ]
     },
     "metadata": {
      "needs_background": "light"
     },
     "output_type": "display_data"
    }
   ],
   "source": [
    "pm10corr.emis_tot[0,:,:].plot.imshow()"
   ]
  },
  {
   "cell_type": "code",
   "execution_count": 33,
   "metadata": {},
   "outputs": [],
   "source": [
    "# check negative emissions and set to zero\n",
    "import xarray as xr\n",
    "import warnings\n",
    "warnings.filterwarnings('ignore')\n",
    "path1=\"/geos/d21/s1878599/IGP/inputs/autumn/base/wrfchemi_00z_d01\"\n",
    "path2=\"/geos/d21/s1878599/IGP/inputs/autumn/base/wrfchemi_12z_d01\"\n",
    "a1=xr.open_mfdataset(path1,concat_dim=\"Time\")\n",
    "a2=xr.open_mfdataset(path2,concat_dim=\"Time\")\n",
    "\n",
    "a1.E_PM_10.values = a1.E_PM_10.values.clip(min=0.0) \n",
    "a1.E_PM25I.values = a1.E_PM25I.values.clip(min=0.0)\n",
    "a1.E_PM25J.values = a1.E_PM25J.values.clip(min=0.0)\n",
    "\n",
    "a2.E_PM_10.values = a2.E_PM_10.values.clip(min=0.0) \n",
    "a2.E_PM25I.values = a2.E_PM25I.values.clip(min=0.0)\n",
    "a2.E_PM25J.values = a2.E_PM25J.values.clip(min=0.0)\n",
    "\n",
    "# save to file\n",
    "a1.to_netcdf(path1 +\"_corr\",format = 'NETCDF3_64BIT')\n",
    "a2.to_netcdf(path2+\"_corr\",format = 'NETCDF3_64BIT')"
   ]
  },
  {
   "cell_type": "code",
   "execution_count": 3,
   "metadata": {},
   "outputs": [],
   "source": [
    "#CHECK\n",
    "path3=\"/scratch/local/caterina/WRFChem3.9.1.1/WRF/run_autumn/emi_base/wrfchemi_12z_d01\"\n",
    "path4=\"/scratch/local/caterina/WRFChem3.9.1.1/WRF/run_autumn/emi_ptrb/wrfchemi_12z_d01\"\n",
    "a3=xr.open_mfdataset(path3,concat_dim=\"Time\")\n",
    "a4=xr.open_mfdataset(path4,concat_dim=\"Time\")"
   ]
  },
  {
   "cell_type": "code",
   "execution_count": 6,
   "metadata": {
    "scrolled": true
   },
   "outputs": [
    {
     "data": {
      "text/plain": [
       "-6.374421e-10"
      ]
     },
     "execution_count": 6,
     "metadata": {},
     "output_type": "execute_result"
    }
   ],
   "source": [
    "a4.E_PM25I.values.min()"
   ]
  },
  {
   "cell_type": "code",
   "execution_count": 8,
   "metadata": {},
   "outputs": [
    {
     "data": {
      "text/plain": [
       "0.24027118"
      ]
     },
     "execution_count": 8,
     "metadata": {},
     "output_type": "execute_result"
    }
   ],
   "source": [
    "a4.E_PM25I.values.max()"
   ]
  },
  {
   "cell_type": "code",
   "execution_count": 4,
   "metadata": {},
   "outputs": [
    {
     "data": {
      "text/plain": [
       "<matplotlib.image.AxesImage at 0x7f491c08ccd0>"
      ]
     },
     "execution_count": 4,
     "metadata": {},
     "output_type": "execute_result"
    },
    {
     "data": {
      "image/png": "[encoded data removed]",
      "text/plain": [
       "<Figure size 432x288 with 2 Axes>"
      ]
     },
     "metadata": {
      "needs_background": "light"
     },
     "output_type": "display_data"
    }
   ],
   "source": [
    "a4.E_PM25I[11,0,:,:].plot.imshow()"
   ]
  },
  {
   "cell_type": "code",
   "execution_count": null,
   "metadata": {},
   "outputs": [],
   "source": []
  }
 ],
 "metadata": {
  "kernelspec": {
   "display_name": "Python 3",
   "language": "python",
   "name": "python3"
  },
  "language_info": {
   "codemirror_mode": {
    "name": "ipython",
    "version": 3
   },
   "file_extension": ".py",
   "mimetype": "text/x-python",
   "name": "python",
   "nbconvert_exporter": "python",
   "pygments_lexer": "ipython3",
   "version": "3.8.2"
  }
 },
 "nbformat": 4,
 "nbformat_minor": 2
}
