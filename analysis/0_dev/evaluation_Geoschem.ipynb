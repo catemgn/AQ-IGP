{
 "cells": [
  {
   "cell_type": "markdown",
   "metadata": {},
   "source": [
    "# Evaluation of WRF-Chem with GEos-Chem"
   ]
  },
  {
   "cell_type": "code",
   "execution_count": 1,
   "metadata": {},
   "outputs": [],
   "source": [
    "#import modules\n",
    "from load_main import *\n",
    "import sys\n",
    "sys.path.append('/exports/csce/datastore/geos/users/s1878599/python_code/')\n",
    "from Air_Quality_notebooks import utils as utl\n",
    "from WRFChemToolkit.analysis import aerosols_202 as aer"
   ]
  },
  {
   "cell_type": "markdown",
   "metadata": {},
   "source": [
    "### Load model data"
   ]
  },
  {
   "cell_type": "code",
   "execution_count": 2,
   "metadata": {},
   "outputs": [],
   "source": [
    "#Get data for each season\n",
    "post_pth='/geos/d21/s1878599/IGP/outputs/autumn/base2/wrfout*'\n",
    "win_pth='/geos/d21/s1878599/IGP/outputs/winter/base2/wrfout*.nc'\n",
    "mon_pth='/geos/d21/s1878599/IGP/outputs/monsoon/base2/wrfout*.nc'\n",
    "pre_pth='/geos/d21/s1878599/IGP/outputs/premonsoon/base2/wrfout*.nc'\n",
    "\n",
    "pth_d={\"pre\":pre_pth,\"mon\":mon_pth,\"post\":post_pth,\"win\":win_pth}\n",
    "\n",
    "s=utl.dictdata(pth_d)"
   ]
  },
  {
   "cell_type": "code",
   "execution_count": 3,
   "metadata": {},
   "outputs": [],
   "source": [
    "# Rain production\n",
    "def calc_totrain(ds):\n",
    "    # following formula userguide v4 \n",
    "    bucket_mm=100\n",
    "    ds[\"RAINTOT\"]=(ds.RAINC + bucket_mm*ds.I_RAINC) + (ds.RAINNC + bucket_mm*ds.I_RAINNC)\n",
    "    ds[\"RAINTOT\"]=ds[\"RAINTOT\"][len(ds.Time)-1,:,:] #get only lsat value (accumulated)\n",
    "    \n",
    "for v in s.values():\n",
    "        calc_totrain(v)"
   ]
  },
  {
   "cell_type": "code",
   "execution_count": 4,
   "metadata": {},
   "outputs": [],
   "source": [
    "# get geos-chem data\n",
    "gc_pth='/geos/d21/mmarvin/for_cate/geoschem_output_2017.nc'\n",
    "gc=xr.open_mfdataset(gc_pth)"
   ]
  },
  {
   "cell_type": "code",
   "execution_count": 5,
   "metadata": {},
   "outputs": [],
   "source": [
    "# regrid meteo data on model grid\n",
    "new_lon = s[\"mon\"]['XLONG'][0,0,:].values\n",
    "new_lat = s[\"mon\"]['XLAT'][0,:,0].values\n",
    "\n",
    "gc_igp =gc.interp(lon=new_lon, lat=new_lat, method='nearest')"
   ]
  },
  {
   "cell_type": "code",
   "execution_count": 6,
   "metadata": {},
   "outputs": [],
   "source": [
    "#select seasons\n",
    "gc_pre = gc_igp.sel(time=slice('2017-04-01T00:00:00.000000000','2017-05-01T00:00:00.000000000')).mean(\"time\")\n",
    "gc_mon = gc_igp.sel(time=slice('2017-06-01T00:00:00.000000000','2017-07-01T00:00:00.000000000')).mean(\"time\")\n",
    "gc_post = gc_igp.sel(time=slice('2017-10-01T00:00:00.000000000','2017-11-01T00:00:00.000000000')).mean(\"time\")\n",
    "gc_win = gc_igp.sel(time=slice('2017-01-01T00:00:00.000000000','2017-02-01T00:00:00.000000000')).mean(\"time\")\n",
    "\n",
    "gcs={\"pre\":gc_pre,\"mon\":gc_mon,\"post\":gc_post,\"win\":gc_win}"
   ]
  },
  {
   "cell_type": "code",
   "execution_count": 7,
   "metadata": {},
   "outputs": [],
   "source": [
    "#get aerosols for wrf-chem\n",
    "a_wf={}\n",
    "for k in s.keys():\n",
    "    a_wf.update({k: aer.get_aerosols(s[k])})"
   ]
  },
  {
   "cell_type": "code",
   "execution_count": 8,
   "metadata": {},
   "outputs": [],
   "source": [
    "# Get seasonal values\n",
    "for k in s.keys():\n",
    "    s[k]=s[k].mean(\"Time\")\n",
    "    a_wf[k]=a_wf[k].mean(\"Time\")"
   ]
  },
  {
   "cell_type": "code",
   "execution_count": 9,
   "metadata": {},
   "outputs": [],
   "source": [
    "# Get only relevant variables\n",
    "\n",
    "lats=gcs[\"mon\"].lat\n",
    "lons=gcs[\"mon\"].lon\n",
    "coords={'lat': (['lat'],lats), 'lon': (['lon'], lons)}\n",
    "\n",
    "ds_gc={}\n",
    "for k,v in gcs.items():\n",
    "    data ={\"PM25\" : ([\"lat\",\"lon\"], v.IJ_SOA_S_PM25.values[0,:,:]),\n",
    "           \"POA\" : ([\"lat\",\"lon\"], v.IJ_SOA_S_POA.values[0,:,:]),\n",
    "           \"SOA\" : ([\"lat\",\"lon\"], (v.IJ_SOA_S_TSOA +v.IJ_SOA_S_ISOA+v.IJ_SOA_S_ASOA).values[0,:,:]),\n",
    "           \"NO\" : ([\"lat\",\"lon\"], v.IJ_AVG_S_NO.values[0,:,:]),\n",
    "           \"NO2\" : ([\"lat\",\"lon\"], v.IJ_AVG_S_NO2.values[0,:,:]),\n",
    "           \"CO\" : ([\"lat\",\"lon\"], v.IJ_AVG_S_CO.values[0,:,:])\n",
    "          }\n",
    "    ds = xr.Dataset(data, coords=coords,attrs=s[k].attrs)\n",
    "    ds_gc.update({k:ds})\n",
    "\n",
    "\n",
    "ds_wf={}\n",
    "for k in s.keys():\n",
    "    data ={\"PM25\" : ([\"lat\",\"lon\"], a_wf[k].pm25_tot.values[0,:,:]),\n",
    "           \"POA\" : ([\"lat\",\"lon\"], a_wf[k].pm10_POA.values[0,:,:]),\n",
    "           \"SOA\" : ([\"lat\",\"lon\"], a_wf[k].pm10_SOA.values[0,:,:]),\n",
    "           \"NO\" : ([\"lat\",\"lon\"], s[k].no.values[0,:,:]),\n",
    "           \"NO2\" : ([\"lat\",\"lon\"], s[k].no2.values[0,:,:]),\n",
    "           \"CO\" : ([\"lat\",\"lon\"], s[k].co.values[0,:,:])\n",
    "           }\n",
    "    ds = xr.Dataset(data, coords=coords,attrs=s[k].attrs)\n",
    "    ds_wf.update({k:ds})"
   ]
  },
  {
   "cell_type": "code",
   "execution_count": 10,
   "metadata": {},
   "outputs": [],
   "source": [
    "# shape files for IGP\n",
    "import salem\n",
    "shdf= salem.read_shapefile(\"/exports/csce/datastore/geos/users/s1878599//python_code/gadm_data/IGP/IGP.shp\")\n",
    "\n",
    "for k in s.keys():\n",
    "    ds_wf[k]= ds_wf[k].salem.roi(shape=shdf)\n",
    "    ds_gc[k]= ds_gc[k].salem.roi(shape=shdf)"
   ]
  },
  {
   "cell_type": "markdown",
   "metadata": {},
   "source": [
    "## Plot"
   ]
  },
  {
   "cell_type": "code",
   "execution_count": 11,
   "metadata": {},
   "outputs": [],
   "source": [
    "import matplotlib.pyplot as plt\n",
    "import matplotlib as mpl\n",
    "import matplotlib.colors as colors\n",
    "\n",
    "# set the colormap and centre the colorbar\n",
    "class MidpointNormalize(colors.Normalize):\n",
    "    \"\"\"\n",
    "    Normalise the colorbar so that diverging bars work there way either side from a prescribed midpoint value)\n",
    "    e.g. im=ax1.imshow(array, norm=MidpointNormalize(midpoint=0.,vmin=-100, vmax=100))\n",
    "    \"\"\"\n",
    "    def __init__(self, vmin=None, vmax=None, midpoint=None, clip=False):\n",
    "        self.midpoint = midpoint\n",
    "        colors.Normalize.__init__(self, vmin, vmax, clip)\n",
    "\n",
    "    def __call__(self, value, clip=None):\n",
    "        # I'm ignoring masked values and all kinds of edge cases to make a\n",
    "        # simple example...\n",
    "        x, y = [self.vmin, self.midpoint, self.vmax], [0, 0.5, 1]\n",
    "        return np.ma.masked_array(np.interp(value, x, y), np.isnan(value))"
   ]
  },
  {
   "cell_type": "code",
   "execution_count": 20,
   "metadata": {
    "scrolled": true
   },
   "outputs": [],
   "source": [
    "lat=gcs[\"mon\"].lat.values\n",
    "lon=gcs[\"mon\"].lon.values\n",
    "\n",
    "def plot_compare(lat,lon,mod,obs,var,label=\"\",vmin=0,vmax=100,vmin_d=-200,vmax_d=200):\n",
    "    \n",
    "    fig, axes =plt.subplots(nrows=3,ncols=4,figsize=[16,10],sharey=True,sharex=True)\n",
    "\n",
    "    for ax in fig.axes:\n",
    "        ax.grid()\n",
    "\n",
    "    levels = np.linspace(vmin, vmax, 20)  \n",
    "    levels_d = np.linspace(vmin_d,vmax_d, 20)\n",
    "    \n",
    "    for k,i in zip(mod.keys(),np.arange(0,len(mod))):\n",
    "     \n",
    "    \n",
    "        mo=mod[k][var].values\n",
    "        st=obs[k][var].values\n",
    "        d=(mo-st)\n",
    "    \n",
    "        a=axes[0,i].contourf(lon,lat,mo,cmap=\"jet\",levels=levels,extend=\"both\")\n",
    "        b=axes[1,i].contourf(lon,lat,st,cmap=\"jet\",levels=levels,extend=\"both\")\n",
    "        c=axes[2,i].contourf(lon,lat,d,cmap=\"bwr\",levels=levels_d,extend=\"both\", \n",
    "                         norm=MidpointNormalize(vmin=vmin_d,vmax=vmax_d,midpoint=0))\n",
    "        a.cmap.set_under('#00008B')\n",
    "        a.cmap.set_over(\"#800000\")\n",
    "        b.cmap.set_under('#00008B')\n",
    "        b.cmap.set_over(\"#800000\")\n",
    "        c.cmap.set_under('#00008B')\n",
    "        c.cmap.set_over(\"#800000\")\n",
    "    \n",
    "        axes[0,i].set_title(k)\n",
    "\n",
    "    fig.subplots_adjust(right=0.5) \n",
    "    cbar_ax1 = fig.add_axes([1, 0.4, 0.01, 0.5]) \n",
    "    cbar_ax2 = fig.add_axes([1, 0.035, 0.01, 0.3]) \n",
    "    cbar1 = fig.colorbar(a, cax=cbar_ax1,format=\"%.f\",extend=\"both\",label=label)\n",
    "    cbar3 = fig.colorbar(c, cax=cbar_ax2,format=\"%.1f\",extend=\"both\",label=label)  \n",
    "    \n",
    "\n",
    "    axes[0,0].text(-0.2, 0.55, \"WRF-CHEM\", va='bottom', ha='center',\n",
    "        rotation='vertical', rotation_mode='anchor', fontsize=13,\n",
    "        transform=axes[0,0].transAxes)\n",
    "    axes[1,0].text(-0.2, 0.55, \"GEOS-CHEM 4x5\", va='bottom', ha='center',\n",
    "        rotation='vertical', rotation_mode='anchor', fontsize=13,\n",
    "        transform=axes[1,0].transAxes)\n",
    "    axes[2,0].text(-0.2, 0.55, \"DIFFERENCE\", va='bottom', ha='center',\n",
    "        rotation='vertical', rotation_mode='anchor', fontsize=13,\n",
    "        transform=axes[2,0].transAxes)    \n",
    "\n",
    "    plt.tight_layout()\n",
    "    \n",
    "    fig.show()"
   ]
  },
  {
   "cell_type": "code",
   "execution_count": 29,
   "metadata": {
    "scrolled": true
   },
   "outputs": [
    {
     "data": {
      "image/png": "[encoded data removed]",
      "text/plain": [
       "<Figure size 1152x720 with 14 Axes>"
      ]
     },
     "metadata": {
      "needs_background": "light"
     },
     "output_type": "display_data"
    }
   ],
   "source": [
    "plot_compare(lat,lon,ds_wf,ds_gc,\"SOA\",label=\"ug m-3\",vmin=0,vmax=50,vmin_d=-20,vmax_d=+20)"
   ]
  },
  {
   "cell_type": "code",
   "execution_count": null,
   "metadata": {
    "scrolled": true
   },
   "outputs": [],
   "source": [
    "import plotly.express as px\n",
    "import plotly.graph_objects as go\n",
    "import scipy.stats.mstats as ss\n",
    "#def plot_scatter(ds,metr,sp,xtitle,ytitle,f=0.1):\n",
    "\n",
    "f=1\n",
    "xd=ds_met[\"win\"][\"T\"].values.flatten()\n",
    "xd=xd[~np.isnan(xd)]\n",
    "yd=ds_mod[\"win\"][\"T\"].values.flatten()\n",
    "yd=yd[~np.isnan(yd)]\n",
    "\n",
    "#points\n",
    "fig=go.Figure()\n",
    "fig.add_trace(\n",
    "        go.Scatter(x=xd, y=yd,mode='markers', marker_line_width=1.5,showlegend=False))\n",
    "#fig = px.scatter(ds, x=xd, y=yd)\n",
    "#fig.update_traces(mode='markers', marker_line_width=1.5)\n",
    "\n",
    "#guide lines\n",
    "maxi=max(xd.max(),yd.max())\n",
    "x = np.linspace(0,maxi+maxi*0.15,15)\n",
    "lines=[[x,x],[x,0.5*x]]\n",
    "lab=[\"y=x\",\"y=0.5x\"]\n",
    "    \n",
    "for v,l in zip(lines,lab):\n",
    "    fig.add_trace(\n",
    "        go.Scatter(\n",
    "        x=v[0],\n",
    "        y=v[1],\n",
    "        mode=\"lines+text\",\n",
    "        line=go.scatter.Line(color=\"gray\",width=0.7),\n",
    "        showlegend=False,\n",
    "        text=[\"\",\"\",\"\",\"\",\"\",\"\",\"\",\"\",\"\",\"\",\"\",\"\",\"\",l,\"\"],\n",
    "        textposition=\"top left\",\n",
    "        textfont=dict(\n",
    "        family=\"sans serif\",\n",
    "        size=16,\n",
    "        color=\"gray\"\n",
    "        ),\n",
    "        )\n",
    "        )\n",
    "        \n",
    "        #add 2x label\n",
    "x1 = np.linspace(0,maxi+maxi*f,40)\n",
    "fig.add_trace(\n",
    "        go.Scatter(\n",
    "        x=x1,\n",
    "        y=2*x1,\n",
    "        mode=\"lines+text\",\n",
    "        line=go.scatter.Line(color=\"gray\",width=0.7),\n",
    "        showlegend=False,\n",
    "        text=[\"\",\"\",\"\",\"\",\"\",\"\",\"\",\"\",\"\",\"\",\"y=2x\",\"\",\"\"],\n",
    "        textposition=\"bottom right\",\n",
    "        textfont=dict(\n",
    "        family=\"sans serif\",\n",
    "        size=14,\n",
    "        color=\"gray\"\n",
    "        ),\n",
    "        )\n",
    "        )\n",
    "\n",
    "#best fit\n",
    "m, q, r, p, std  =ss.linregress(xd,yd)   \n",
    "print(m)\n",
    "    #gradient\n",
    "fig.add_trace(\n",
    "        go.Scatter(\n",
    "        x=x,\n",
    "        y=m*x+q,\n",
    "        mode=\"lines\",\n",
    "        line=go.scatter.Line(color=\"orange\",width=1),\n",
    "        showlegend=False,\n",
    "        ),\n",
    "        )\n",
    "        \n",
    "    # add r value\n",
    "fig.add_annotation(\n",
    "        x=0.03,\n",
    "        y=0.95,\n",
    "        xref=\"paper\",\n",
    "        yref=\"paper\",\n",
    "        text=\"r=\"+ str(round(r,2)) +\"<br>\"+\n",
    "             \"best fit: y=\"+str(round(m,2)) +\"x + \"+ str(round(q,3)),\n",
    "        showarrow=False,\n",
    "        font=dict(\n",
    "            size=14,\n",
    "            color=\"black\"\n",
    "        ),\n",
    "        align=\"left\",\n",
    "        bgcolor=\"White\",\n",
    "        bordercolor=\"Black\",\n",
    "        borderwidth=1\n",
    "        )\n",
    "\n",
    "fig.update_xaxes(range= [280,320])#[0-maxi*0.05, maxi+maxi*0.15])\n",
    "fig.update_yaxes(range= [280,320])  #[0-maxi*0.05, maxi+maxi*0.15])\n",
    "fig.update_layout(\n",
    "    width = 600,\n",
    "    height = 600,\n",
    "    xaxis=dict(title=\"GMAO T(K)\"),\n",
    "    yaxis = dict(\n",
    "      scaleanchor = \"x\",\n",
    "      scaleratio = 1,\n",
    "      title=\"WRF-Chem T (k)\")\n",
    "    )\n",
    "\n",
    "fig.update_layout(title_text=\"WINTER\",title_x=0.5)\n",
    "\n",
    "fig.show()"
   ]
  },
  {
   "cell_type": "code",
   "execution_count": null,
   "metadata": {},
   "outputs": [],
   "source": []
  }
 ],
 "metadata": {
  "kernelspec": {
   "display_name": "Python 3",
   "language": "python",
   "name": "python3"
  },
  "language_info": {
   "codemirror_mode": {
    "name": "ipython",
    "version": 3
   },
   "file_extension": ".py",
   "mimetype": "text/x-python",
   "name": "python",
   "nbconvert_exporter": "python",
   "pygments_lexer": "ipython3",
   "version": "3.8.2"
  }
 },
 "nbformat": 4,
 "nbformat_minor": 4
}
