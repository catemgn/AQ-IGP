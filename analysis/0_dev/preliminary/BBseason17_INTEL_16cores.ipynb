{
 "cells": [
  {
   "cell_type": "code",
   "execution_count": 1,
   "metadata": {},
   "outputs": [
    {
     "name": "stderr",
     "output_type": "stream",
     "text": [
      "/usr/lib/python3.6/site-packages/dask/config.py:129: YAMLLoadWarning: calling yaml.load() without Loader=... is deprecated, as the default Loader is unsafe. Please read https://msg.pyyaml.org/load for full details.\n",
      "  data = yaml.load(f.read()) or {}\n"
     ]
    }
   ],
   "source": [
    "#import modules\n",
    "import xarray as xr\n",
    "import numpy as np\n",
    "import pandas as pd\n",
    "import plotly.graph_objects as go\n",
    "\n",
    "import matplotlib.pyplot as plt\n",
    "import matplotlib.ticker as mticker\n",
    "\n",
    "from cartopy import config\n",
    "import cartopy.crs as ccrs\n",
    "import cartopy.feature as cfeature\n",
    "from cartopy.mpl.gridliner import LONGITUDE_FORMATTER, LATITUDE_FORMATTER\n",
    "import cartopy.io.shapereader as shpreader\n",
    "\n",
    "\n",
    "import warnings\n",
    "warnings.filterwarnings('ignore')"
   ]
  },
  {
   "cell_type": "code",
   "execution_count": 2,
   "metadata": {},
   "outputs": [
    {
     "ename": "OSError",
     "evalue": "no files to open",
     "output_type": "error",
     "traceback": [
      "\u001b[0;31m---------------------------------------------------------------------------\u001b[0m",
      "\u001b[0;31mOSError\u001b[0m                                   Traceback (most recent call last)",
      "\u001b[0;32m<ipython-input-2-ef0aeadd3b11>\u001b[0m in \u001b[0;36m<module>\u001b[0;34m\u001b[0m\n\u001b[1;32m      1\u001b[0m \u001b[0;31m# Import data and merge\u001b[0m\u001b[0;34m\u001b[0m\u001b[0;34m\u001b[0m\u001b[0;34m\u001b[0m\u001b[0m\n\u001b[1;32m      2\u001b[0m \u001b[0mdatapath\u001b[0m \u001b[0;34m=\u001b[0m\u001b[0;34m'/scratch/local/s1878599/outputs/BB_season2017_16cores_rebus_intel/wrfout_*'\u001b[0m\u001b[0;34m\u001b[0m\u001b[0;34m\u001b[0m\u001b[0m\n\u001b[0;32m----> 3\u001b[0;31m \u001b[0mds\u001b[0m \u001b[0;34m=\u001b[0m \u001b[0mxr\u001b[0m\u001b[0;34m.\u001b[0m\u001b[0mopen_mfdataset\u001b[0m\u001b[0;34m(\u001b[0m\u001b[0mdatapath\u001b[0m\u001b[0;34m)\u001b[0m\u001b[0;34m\u001b[0m\u001b[0;34m\u001b[0m\u001b[0m\n\u001b[0m",
      "\u001b[0;32m/usr/lib/python3.6/site-packages/xarray/backends/api.py\u001b[0m in \u001b[0;36mopen_mfdataset\u001b[0;34m(paths, chunks, concat_dim, compat, preprocess, engine, lock, data_vars, coords, autoclose, parallel, **kwargs)\u001b[0m\n\u001b[1;32m    600\u001b[0m \u001b[0;34m\u001b[0m\u001b[0m\n\u001b[1;32m    601\u001b[0m     \u001b[0;32mif\u001b[0m \u001b[0;32mnot\u001b[0m \u001b[0mpaths\u001b[0m\u001b[0;34m:\u001b[0m\u001b[0;34m\u001b[0m\u001b[0;34m\u001b[0m\u001b[0m\n\u001b[0;32m--> 602\u001b[0;31m         \u001b[0;32mraise\u001b[0m \u001b[0mIOError\u001b[0m\u001b[0;34m(\u001b[0m\u001b[0;34m'no files to open'\u001b[0m\u001b[0;34m)\u001b[0m\u001b[0;34m\u001b[0m\u001b[0;34m\u001b[0m\u001b[0m\n\u001b[0m\u001b[1;32m    603\u001b[0m \u001b[0;34m\u001b[0m\u001b[0m\n\u001b[1;32m    604\u001b[0m     \u001b[0;31m# Coerce 1D input into ND to maintain backwards-compatible API until API\u001b[0m\u001b[0;34m\u001b[0m\u001b[0;34m\u001b[0m\u001b[0;34m\u001b[0m\u001b[0m\n",
      "\u001b[0;31mOSError\u001b[0m: no files to open"
     ]
    }
   ],
   "source": [
    "# Import data and merge\n",
    "datapath='/scratch/local/s1878599/outputs/BB_season2017_16cores_rebus_intel/wrfout_*'\n",
    "ds = xr.open_mfdataset(datapath)"
   ]
  },
  {
   "cell_type": "code",
   "execution_count": null,
   "metadata": {},
   "outputs": [],
   "source": [
    "#Function to compute organics species for PM2.5.\n",
    "def pm25_component_of(dataset, species):\n",
    "    \"\"\"\n",
    "    Sum up the species values for bin sizes (from 1 to 3) making up PM25.\n",
    "    Add the total contribution of the species to PM25 concentration.\n",
    "    TODO change units from mixing ratio to ug/m3.\n",
    "\n",
    "    :param species: name of the chemical species\n",
    "    :type species: string.\n",
    "    :return:\n",
    "    :rtype: xarray DataArray.\n",
    "    \"\"\"\n",
    "    return dataset[species + '_a01'] + dataset[species + '_a02'] + dataset[species + '_a03']"
   ]
  },
  {
   "cell_type": "code",
   "execution_count": null,
   "metadata": {
    "scrolled": true
   },
   "outputs": [],
   "source": [
    "#Calculating all species that contribute to PM2.5 and convert to ug/m3. \n",
    "#According to code in module_mosaic_sumpm.F   subroutine sum_pm_mosaic_vbs0 \n",
    "\n",
    "#Secondary Inorganic Aerosols (SIA)\n",
    "ds['so4_pm25'] = pm25_component_of(ds,'so4')/ds['ALT']\n",
    "ds.so4_pm25['units'] = 'ug m-3'\n",
    "ds['nh4_pm25'] = pm25_component_of(ds,'nh4')/ds['ALT'] \n",
    "ds.nh4_pm25['units'] = 'ug m-3'\n",
    "ds['no3_pm25'] = pm25_component_of(ds,'no3')/ds['ALT'] \n",
    "ds.no3_pm25['units'] = 'ug m-3'\n",
    "\n",
    "#Secondary Organic Aerosols (SOA)\n",
    "ds['pm25_bio_soa'] =(pm25_component_of(ds,'biog1_o') + pm25_component_of(ds,'biog1_c'))/ds['ALT']   # biogenic from isoprene and pinenes.\n",
    "ds.pm25_bio_soa['units']= 'ug m-3'\n",
    "ds['pm25_bb_soa']  =  pm25_component_of(ds,'smpbb')/ds['ALT']  #biomass burning\n",
    "ds.pm25_bb_soa['units']= 'ug m-3'\n",
    "ds['pm25_anthro_soa'] = pm25_component_of(ds,'smpa')/ds['ALT']   #anthropogenic\n",
    "ds.pm25_anthro_soa['units']= 'ug m-3'\n",
    "ds['pm25_gly_soa'] = pm25_component_of(ds,'glysoa_sfc')/ds['ALT']  #glyoxal\n",
    "ds.pm25_gly_soa['units']= 'ug m-3'\n",
    "ds['pm25_soa'] = (ds['pm25_bio_soa'] + ds['pm25_bb_soa'] + ds['pm25_anthro_soa']+ ds['pm25_gly_soa']) #total PM2.5 SOA\n",
    "ds.pm25_soa['units']= 'ug m-3'\n",
    "\n",
    "#Black carbon organic carbon BC OC\n",
    "ds['oc_pm25'] = pm25_component_of(ds,'oc')/ds['ALT'] \n",
    "ds.oc_pm25['units']= 'ug m-3'\n",
    "ds['bc_pm25'] = pm25_component_of(ds,'bc')/ds['ALT'] \n",
    "ds.bc_pm25['units']= 'ug m-3'\n",
    "\n",
    "#Other contributions\n",
    "ds['pm25_dust'] = pm25_component_of(ds,'oin')/ds['ALT']   #dust\n",
    "ds.pm25_dust['units']= 'ug m-3'\n",
    "ds['pm25_seas'] = (pm25_component_of(ds,'na') + pm25_component_of(ds,'cl'))/ds['ALT']   #sea salt\n",
    "ds.pm25_seas['units']= 'ug m-3'\n",
    "\n",
    "#Total contribution\n",
    "ds['pm25_tot_dry'] = ds['pm25_soa'] + ds['oc_pm25'] + ds['bc_pm25'] + ds['so4_pm25'] +ds['nh4_pm25'] + ds['no3_pm25'] +ds['pm25_dust']+ ds['pm25_seas'] \n",
    "ds.pm25_tot_dry['units']= 'ug m-3'"
   ]
  },
  {
   "cell_type": "code",
   "execution_count": null,
   "metadata": {},
   "outputs": [],
   "source": [
    "#Defining functions for analysis\n",
    "\n",
    "def var_space_mean(ds):\n",
    " \"\"\"\n",
    "  Make the average over 'xlat and xlong' dimension of a datarray.\n",
    "\n",
    "  :param da:\n",
    "    datarray to be averaged.\n",
    "  :type da: xarray DataArray.\n",
    "  :return:\n",
    "    Time averaged da.\n",
    "  :rtype: xarray DataSet.\n",
    " \"\"\"\n",
    " return xr.Dataset(dict(ds.mean(dim= ['south_north','west_east'],keep_attrs=True).data_vars), coords=dict(ds.coords))\n",
    "\n",
    "def timeavg(ds):\n",
    "    \"\"\"\n",
    "      Make the average over 'time' dimension of a datarray.\n",
    "    \"\"\"\n",
    "    return xr.Dataset(dict(ds.mean(dim='Time', keep_attrs=True).data_vars), coords = dict(ds.coords))\n",
    "\n",
    "\n",
    "def space_subset(dataset, lat_lim, long_lim ):\n",
    "    \"\"\"\n",
    "    Extract spatial subset of data given lat and long limits.\n",
    "    \"\"\"\n",
    "    \n",
    "    s_subset=ds.where((long_lim[0] < ds.XLONG) & (ds.XLONG < long_lim[1]) & (lat_lim[0] < ds.XLAT) & (ds.XLAT < lat_lim[1]), drop=True)\n",
    "  \n",
    "    return s_subset"
   ]
  },
  {
   "cell_type": "code",
   "execution_count": null,
   "metadata": {},
   "outputs": [],
   "source": [
    "#Defining functions for plot\n",
    "\n",
    "def var_plot_2D(dataset, var_name, level, title):\n",
    "    \n",
    "    var = dataset[var_name]\n",
    "    \n",
    "    #draw map\n",
    "    ax = plt.subplot(projection=ccrs.PlateCarree())\n",
    "    \n",
    "    # draw coastlines and borders\n",
    "    ax.add_feature(cfeature.COASTLINE)\n",
    "    ax.add_feature(cfeature.BORDERS, lw=0.5)\n",
    "    \n",
    "    \n",
    "    # Add data from Global Administrative Areas Dataset GDAM https://gadm.org/index.html\n",
    "    fname = '/exports/csce/datastore/geos/users/s1878599/python_scripts/WRFChemToolkit/geo_data/gadm36_IND_shp/gadm36_IND_1.shp'   \n",
    "\n",
    "    provinces = list(shpreader.Reader(fname).geometries())\n",
    "    ax.add_geometries(provinces, ccrs.PlateCarree(),\n",
    "                      edgecolor='black', facecolor='none', alpha=0.5,\n",
    "                      lw=0.5)\n",
    " \n",
    "    #draw meridians and parallels\n",
    "    gl = ax.gridlines(crs=ccrs.PlateCarree(), draw_labels=True,\n",
    "                  linewidth=0.5, color='k', alpha=0.4, linestyle='-')\n",
    "    gl.xlabels_top = False\n",
    "    gl.ylabels_right = False\n",
    "    gl.xformatter = LONGITUDE_FORMATTER\n",
    "    gl.yformatter = LATITUDE_FORMATTER\n",
    "    gl.xlabel_style = {'size': 10, 'color': 'gray'}\n",
    "    gl.ylabel_style = {'size': 10, 'color': 'grey'}\n",
    "    \n",
    "    #plot SURFACE data\n",
    "    long = dataset.XLONG.values[0,:,:]\n",
    "    lat  = dataset.XLAT.values[0,:,:]\n",
    "    var_values= var[level,:,:]\n",
    "    res = 15 #controls the resolution for the map plotting.\n",
    "    \n",
    "    cs=plt.contourf( long, lat, var_values,res,\n",
    "             transform=ccrs.PlateCarree(), cmap=plt.cm.YlGnBu)\n",
    "\n",
    "    #colorbar\n",
    "    cbar = plt.colorbar(cs) # pad=0.2 #format='%.2e'\n",
    "    #cbar.set_label(var.units)\n",
    "    ax.set_title(title)\n",
    "    \n",
    "    #plotting parameters\n",
    "    plt.rcParams['figure.figsize'] = [10, 5]\n",
    "    "
   ]
  },
  {
   "cell_type": "code",
   "execution_count": null,
   "metadata": {},
   "outputs": [],
   "source": [
    "#create dates array.\n",
    "dates = pd.DatetimeIndex(ds.XTIME.values)"
   ]
  },
  {
   "cell_type": "code",
   "execution_count": null,
   "metadata": {},
   "outputs": [],
   "source": [
    "# Space average over the domain\n",
    "spat_avg = var_space_mean(ds)"
   ]
  },
  {
   "cell_type": "code",
   "execution_count": null,
   "metadata": {},
   "outputs": [],
   "source": [
    "# Create traces\n",
    "fig = go.Figure()\n",
    "fig.add_trace(go.Scatter(x=dates, y= spat_avg.pm25_bio_soa[:,0].values,\n",
    "                    mode='lines',\n",
    "                    name='SOA biogenic'))\n",
    "\n",
    "fig.add_trace(go.Scatter(x=dates, y= spat_avg.pm25_bb_soa[:,0].values,\n",
    "                    mode='lines',\n",
    "                    name='SOA biomass burning'))\n",
    "\n",
    "fig.add_trace(go.Scatter(x=dates, y= spat_avg.pm25_anthro_soa[:,0].values,\n",
    "                    mode='lines',\n",
    "                    name='SOA anthropogenic'))\n",
    "\n",
    "fig.add_trace(go.Scatter(x=dates, y= spat_avg.pm25_gly_soa[:,0].values,\n",
    "                    mode='lines',\n",
    "                    name='SOA glyoxal'))\n",
    "\n",
    "fig.add_trace(go.Scatter(x=dates, y= spat_avg.pm25_soa[:,0].values,\n",
    "                    mode='lines',\n",
    "                    name='SOA total'))\n",
    "\n",
    "fig.add_trace(go.Scatter(x=dates, y= spat_avg.so4_pm25[:,0].values,\n",
    "                    mode='lines',\n",
    "                    name='SIA sulfate so4'))\n",
    "\n",
    "fig.add_trace(go.Scatter(x=dates, y= spat_avg.nh4_pm25[:,0].values,\n",
    "                    mode='lines',\n",
    "                    name='SIA ammonium nh4'))\n",
    "\n",
    "fig.add_trace(go.Scatter(x=dates, y= spat_avg.no3_pm25[:,0].values,\n",
    "                    mode='lines',\n",
    "                    name='SIA nitrate no3'))\n",
    "\n",
    "\n",
    "#fig.add_trace(go.Scatter(x=dates, y= spat_avg.bc_pm25[:,0].values,\n",
    "                    #mode='lines',\n",
    "                    #name='BC black carbon'))\n",
    "\n",
    "#fig.add_trace(go.Scatter(x=dates, y= spat_avg.oc_pm25[:,0].values,\n",
    "                    #mode='lines',\n",
    "                    #name='POA (OC) primary organic aerosols'))\n",
    "\n",
    "#fig.add_trace(go.Scatter(x=dates, y= spat_avg.pm25_dust[:,0].values,\n",
    "                    #mode='lines',\n",
    "                    #name='Dust'))\n",
    "\n",
    "#fig.add_trace(go.Scatter(x=dates, y= spat_avg.pm25_seas[:,0].values,\n",
    "                    #mode='lines',\n",
    "                    #name='Sea Salt'))\n",
    "\n",
    "#fig.add_trace(go.Scatter(x=dates, y= spat_avg.pm25_tot_dry[:,0].values,\n",
    "                    #mode='lines',\n",
    "                    #name='PM2.5 total (calculated)'))\n",
    "# Edit the layout\n",
    "fig.update_layout(title='surface PM2.5 composition contribution from Secondary Aerosols- ALL DOMAIN',\n",
    "                   xaxis_title='date',\n",
    "                   yaxis_title='ug/m3')"
   ]
  },
  {
   "cell_type": "code",
   "execution_count": null,
   "metadata": {
    "scrolled": true
   },
   "outputs": [],
   "source": [
    "# Check that output variable and handcalculated from individual components match.\n",
    "\n",
    "fig = go.Figure()\n",
    "fig.add_trace(go.Scatter(x=dates, y= spat_avg.PM2_5_DRY[:,0].values,\n",
    "                    mode='lines',\n",
    "                    name='PM2_5_DRY'))\n",
    "\n",
    "fig.add_trace(go.Scatter(x=dates, y= spat_avg.pm25_tot_dry[:,0].values,\n",
    "                    mode='lines',\n",
    "                    name='Pm2.5 calculated'))\n",
    "# Edit the layout\n",
    "fig.update_layout(title='PM2.5 from model and calcualted from sum of individual contributions ug/m3',\n",
    "                   xaxis_title='date',\n",
    "                   yaxis_title='ug/m3')"
   ]
  },
  {
   "cell_type": "code",
   "execution_count": null,
   "metadata": {},
   "outputs": [],
   "source": [
    "#Extrapolating the subset for NCR + BB region.\n",
    "NCR = space_subset(ds,[28,33], [73.5,78])"
   ]
  },
  {
   "cell_type": "code",
   "execution_count": null,
   "metadata": {},
   "outputs": [],
   "source": [
    "NCR_space_avg = var_space_mean(NCR)"
   ]
  },
  {
   "cell_type": "code",
   "execution_count": null,
   "metadata": {},
   "outputs": [],
   "source": [
    "# Create traces\n",
    "fig = go.Figure()\n",
    "fig.add_trace(go.Scatter(x=dates, y= NCR_space_avg.pm25_bio_soa[:,0].values,\n",
    "                    mode='lines',\n",
    "                    name='SOA biogenic'))\n",
    "\n",
    "fig.add_trace(go.Scatter(x=dates, y= NCR_space_avg.pm25_bb_soa[:,0].values,\n",
    "                    mode='lines',\n",
    "                    name='SOA biomass burning'))\n",
    "\n",
    "fig.add_trace(go.Scatter(x=dates, y= NCR_space_avg.pm25_anthro_soa[:,0].values,\n",
    "                    mode='lines',\n",
    "                    name='SOA anthropogenic'))\n",
    "\n",
    "fig.add_trace(go.Scatter(x=dates, y= NCR_space_avg.pm25_gly_soa[:,0].values,\n",
    "                    mode='lines',\n",
    "                    name='SOA glyoxal'))\n",
    "\n",
    "fig.add_trace(go.Scatter(x=dates, y= NCR_space_avg.pm25_soa[:,0].values,\n",
    "                    mode='lines',\n",
    "                    name='SOA total'))\n",
    "\n",
    "fig.add_trace(go.Scatter(x=dates, y= NCR_space_avg.so4_pm25[:,0].values,\n",
    "                    mode='lines',\n",
    "                    name='SIA sulfate so4'))\n",
    "\n",
    "fig.add_trace(go.Scatter(x=dates, y= NCR_space_avg.nh4_pm25[:,0].values,\n",
    "                    mode='lines',\n",
    "                    name='SIA ammonium nh4'))\n",
    "\n",
    "fig.add_trace(go.Scatter(x=dates, y= NCR_space_avg.no3_pm25[:,0].values,\n",
    "                    mode='lines',\n",
    "                    name='SIA nitrate no3'))\n",
    "\n",
    "fig.add_trace(go.Scatter(x=dates, y= NCR_space_avg.bc_pm25[:,0].values,\n",
    "                    mode='lines',\n",
    "                    name='BC black carbon'))\n",
    "\n",
    "fig.add_trace(go.Scatter(x=dates, y= NCR_space_avg.oc_pm25[:,0].values,\n",
    "                    mode='lines',\n",
    "                    name='POA (OC) primary organic aerosols'))\n",
    "\n",
    "fig.add_trace(go.Scatter(x=dates, y= NCR_space_avg.pm25_dust[:,0].values,\n",
    "                    mode='lines',\n",
    "                    name='Dust'))\n",
    "\n",
    "fig.add_trace(go.Scatter(x=dates, y= NCR_space_avg.pm25_seas[:,0].values,\n",
    "                    mode='lines',\n",
    "                    name='Sea Salt'))\n",
    "\n",
    "fig.add_trace(go.Scatter(x=dates, y= NCR_space_avg.pm25_tot_dry[:,0].values,\n",
    "                    mode='lines',\n",
    "                    name='PM2.5 total (calculated)'))\n",
    "# Edit the layout\n",
    "fig.update_layout(title='surface PM2.5 composition contributions- NCR subset',\n",
    "                   xaxis_title='date',\n",
    "                   yaxis_title='ug/m3')"
   ]
  },
  {
   "cell_type": "code",
   "execution_count": null,
   "metadata": {},
   "outputs": [],
   "source": [
    "ds['SIA_pm25'] = ds['no3_pm25'] + ds['so4_pm25'] + ds['nh4_pm25']"
   ]
  },
  {
   "cell_type": "code",
   "execution_count": null,
   "metadata": {},
   "outputs": [],
   "source": [
    "time_avg = timeavg(ds)"
   ]
  },
  {
   "cell_type": "code",
   "execution_count": null,
   "metadata": {},
   "outputs": [],
   "source": [
    "var_plot_2D(time_avg, 'PM2_5_DRY', 0, 'surface PM2.5 average 11/29 Oct 2019')"
   ]
  },
  {
   "cell_type": "code",
   "execution_count": null,
   "metadata": {
    "scrolled": true
   },
   "outputs": [],
   "source": [
    "var_plot_2D(time_avg, 'pm25_soa', 0, 'surface SOA (pm2.5) 11/29 Oct 2019')"
   ]
  },
  {
   "cell_type": "code",
   "execution_count": null,
   "metadata": {},
   "outputs": [],
   "source": [
    "var_plot_2D(time_avg, 'oc_pm25', 0, 'surface POA (pm2.5) 11/29 Oct 2019')"
   ]
  },
  {
   "cell_type": "code",
   "execution_count": null,
   "metadata": {
    "scrolled": false
   },
   "outputs": [],
   "source": [
    "var_plot_2D(time_avg, 'bc_pm25', 0, 'surface bc (pm2.5) 11/29 Oct 2019')"
   ]
  },
  {
   "cell_type": "code",
   "execution_count": null,
   "metadata": {},
   "outputs": [],
   "source": [
    "var_plot_2D(time_avg, 'pm25_bb_soa', 0, 'surface SOA from biomasss burning (pm2.5) 11/29 Oct 2019')"
   ]
  },
  {
   "cell_type": "code",
   "execution_count": null,
   "metadata": {},
   "outputs": [],
   "source": [
    "var_plot_2D(time_avg, 'pm25_anthro_soa', 0, 'surface SOA from anthro emissions (pm2.5) 11/29 Oct 2019')"
   ]
  },
  {
   "cell_type": "code",
   "execution_count": null,
   "metadata": {},
   "outputs": [],
   "source": [
    "var_plot_2D(time_avg, 'pm25_bio_soa', 0, 'surface SOA from biog emissions (pm2.5) 11/29 Oct 2019')"
   ]
  },
  {
   "cell_type": "code",
   "execution_count": null,
   "metadata": {},
   "outputs": [],
   "source": [
    "var_plot_2D(time_avg, 'pm25_gly_soa', 0, 'surface SOA from glyoxal emissions (pm2.5) 11/29 Oct 2019')"
   ]
  },
  {
   "cell_type": "code",
   "execution_count": null,
   "metadata": {},
   "outputs": [],
   "source": [
    "vertical_profile =var_space_mean(time_avg)"
   ]
  },
  {
   "cell_type": "code",
   "execution_count": null,
   "metadata": {},
   "outputs": [],
   "source": [
    "var_plot_2D(time_avg, 'pm25_dust', 0, 'surface dust emissions (pm2.5) 11/29 Oct 2019')"
   ]
  },
  {
   "cell_type": "code",
   "execution_count": null,
   "metadata": {
    "scrolled": false
   },
   "outputs": [],
   "source": [
    "var_plot_2D(time_avg, 'pm25_seas', 0, 'surface seas emissions (pm2.5) 11/29 Oct 2019')"
   ]
  },
  {
   "cell_type": "code",
   "execution_count": null,
   "metadata": {},
   "outputs": [],
   "source": [
    "var_plot_2D(time_avg, 'SIA_pm25', 0, 'surface SIA emissions (pm2.5) 11/29 Oct 2019')"
   ]
  },
  {
   "cell_type": "code",
   "execution_count": null,
   "metadata": {},
   "outputs": [],
   "source": [
    "var_plot_2D(time_avg, 'co', 0, 'surface CO 11/29 Oct 2019')"
   ]
  },
  {
   "cell_type": "code",
   "execution_count": null,
   "metadata": {},
   "outputs": [],
   "source": [
    "var_plot_2D(time_avg, 'no', 0, 'surface NO 11/29 Oct 2019')"
   ]
  },
  {
   "cell_type": "code",
   "execution_count": null,
   "metadata": {},
   "outputs": [],
   "source": [
    "# Create traces\n",
    "fig = go.Figure()\n",
    "fig.add_trace(go.Scatter(x= vertical_profile.PM2_5_DRY, y=vertical_profile.P_HYD*0.01,\n",
    "                    mode='lines',\n",
    "                    ))\n",
    "# Edit the layout\n",
    "fig.update_layout(title='Vertical profile',\n",
    "                   xaxis_title='PM2_5_DRY [ug/m3]',\n",
    "                   yaxis_title='Pressure hPa')"
   ]
  },
  {
   "cell_type": "code",
   "execution_count": null,
   "metadata": {},
   "outputs": [],
   "source": []
  }
 ],
 "metadata": {
  "kernelspec": {
   "display_name": "Python 3",
   "language": "python",
   "name": "python3"
  },
  "language_info": {
   "codemirror_mode": {
    "name": "ipython",
    "version": 3
   },
   "file_extension": ".py",
   "mimetype": "text/x-python",
   "name": "python",
   "nbconvert_exporter": "python",
   "pygments_lexer": "ipython3",
   "version": "3.7.5"
  }
 },
 "nbformat": 4,
 "nbformat_minor": 2
}
