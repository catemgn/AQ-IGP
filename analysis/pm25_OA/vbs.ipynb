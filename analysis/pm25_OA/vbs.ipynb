{
 "cells": [
  {
   "cell_type": "markdown",
   "metadata": {},
   "source": [
    "This notebook extract and calculate the VBS partitioning for the IGP."
   ]
  },
  {
   "cell_type": "code",
   "execution_count": 1,
   "metadata": {},
   "outputs": [
    {
     "name": "stdout",
     "output_type": "stream",
     "text": [
      "WRFchem outputs data path is: dpath=/geos/d21/s1878599/IGP\n"
     ]
    }
   ],
   "source": [
    "#load modules\n",
    "%run ../load_main.py\n",
    "import salem\n",
    "from WRFChemToolkit.analysis import aerosols_202 as aer, plots as pt, statistics as st, IGP as igp, utils as utl"
   ]
  },
  {
   "cell_type": "markdown",
   "metadata": {},
   "source": [
    "## Load data"
   ]
  },
  {
   "cell_type": "code",
   "execution_count": 2,
   "metadata": {},
   "outputs": [],
   "source": [
    "#Get IGP data for each season\n",
    "aut_pth=dpath+'/outputs/autumn/wrfout*.nc'\n",
    "win_pth=dpath+'/outputs/winter/wrfout*.nc'\n",
    "mon_pth=dpath+'/outputs/monsoon/wrfout*.nc'\n",
    "pmon_pth=dpath+'/outputs/premonsoon/wrfout*.nc'\n",
    "\n",
    "shp_path =  '/exports/csce/datastore/geos/users/s1878599/phd_work/IGP/gadm_data/IGP/IGP.shp'\n",
    "aIGP =igp.get_IGP(aut_pth, shp_path)\n",
    "wIGP =igp.get_IGP(win_pth, shp_path)\n",
    "mIGP =igp.get_IGP(mon_pth, shp_path)\n",
    "pmIGP =igp.get_IGP(pmon_pth, shp_path)"
   ]
  },
  {
   "cell_type": "code",
   "execution_count": 3,
   "metadata": {},
   "outputs": [],
   "source": [
    "#Get time and space avg aerosols for each IGP administration\n",
    "def get_tsm_aerIGP(dict):\n",
    "    tsaer_IGP={}\n",
    "    for adm, val in dict.items():\n",
    "        tsaer_IGP.update({adm : st.space_mean(st.time_mean(aer.get_aerosols(val),\"Time\"))})\n",
    "    return tsaer_IGP\n",
    "\n",
    "a= get_tsm_aerIGP(aIGP)\n",
    "w= get_tsm_aerIGP(wIGP)\n",
    "m= get_tsm_aerIGP(mIGP)\n",
    "pm= get_tsm_aerIGP(pmIGP)"
   ]
  },
  {
   "cell_type": "markdown",
   "metadata": {},
   "source": [
    "## Extract VBS"
   ]
  },
  {
   "cell_type": "code",
   "execution_count": 4,
   "metadata": {},
   "outputs": [],
   "source": [
    "#Get only aerosols vbs for each size bin.\n",
    "def get_vbs_aerbins(ds):    \n",
    "    vbs= np.array([[(ds.asoaX_a01 + ds.bsoaX_a01).values[0],(ds.asoaX_a02  + ds.bsoaX_a02).values[0],(ds.asoaX_a03 + ds.bsoaX_a03).values[0],(ds.asoaX_a04 + ds.bsoaX_a04).values[0]],\n",
    "                  [(ds.asoa1_a01 + ds.bsoa1_a01).values[0],(ds.asoa1_a02 + ds.bsoa1_a02).values[0],(ds.asoa1_a03 + ds.bsoa1_a03).values[0],(ds.asoa1_a04 + ds.bsoa1_a04).values[0]],\n",
    "                  [(ds.asoa2_a01 + ds.bsoa2_a01).values[0],(ds.asoa2_a02 + ds.bsoa2_a02).values[0],(ds.asoa2_a03 + ds.bsoa2_a03).values[0],(ds.asoa2_a04 + ds.bsoa2_a04).values[0]],\n",
    "                  [(ds.asoa3_a01 + ds.bsoa3_a01).values[0],(ds.asoa3_a02 + ds.bsoa3_a02).values[0],(ds.asoa3_a03 + ds.bsoa3_a03).values[0],(ds.asoa3_a04 + ds.bsoa3_a04).values[0]],\n",
    "                  [(ds.asoa4_a01 + ds.bsoa4_a01).values[0],(ds.asoa4_a02 + ds.bsoa4_a02).values[0],(ds.asoa4_a03 + ds.bsoa4_a03).values[0],(ds.asoa4_a04 + ds.bsoa4_a04).values[0]]\n",
    "                 ])\n",
    "    return vbs   "
   ]
  },
  {
   "cell_type": "code",
   "execution_count": 5,
   "metadata": {},
   "outputs": [],
   "source": [
    "#Get only aerosols and gas partitioning. Matrix 2x5\n",
    "def get_vbs(ds):    \n",
    "    cond_vap=[\n",
    "        'cvasoaX','cvasoa1','cvasoa2','cvasoa3','cvasoa4',\n",
    "        'cvbsoaX','cvbsoa1','cvbsoa2','cvbsoa3','cvbsoa4'\n",
    "        ]\n",
    "        \n",
    "    aer = [\n",
    "        'asoaX','asoa1','asoa2','asoa3','asoa4',\n",
    "        'bsoaX','bsoa1','bsoa2','bsoa3','bsoa4'\n",
    "        ]\n",
    "        \n",
    "    for v in aer:\n",
    "        #sum each aer bin\n",
    "        ds[v] = ds[v +'_a01'] + ds[v +'_a02'] +ds[v +'_a03']+ ds[v +'_a04']\n",
    "\n",
    "    vbs= np.array([[(ds.asoaX + ds.bsoaX).values[0],(ds.asoa1 + ds.bsoa1).values[0],(ds.asoa2 + ds.bsoa2).values[0],(ds.asoa3 + ds.bsoa3).values[0],(ds.asoa4 + ds.bsoa4).values[0]],\n",
    "                  [(ds.cvasoaX + ds.cvbsoaX).values[0],(ds.cvasoa1 + ds.cvbsoa1).values[0],(ds.cvasoa2 + ds.cvbsoa2).values[0],(ds.cvasoa3 + ds.cvbsoa3).values[0],(ds.cvasoa4 + ds.cvbsoa4).values[0]]\n",
    "                 ])\n",
    "    return vbs   "
   ]
  },
  {
   "cell_type": "code",
   "execution_count": 6,
   "metadata": {},
   "outputs": [],
   "source": [
    "#extract VBS for each season and subregion\n",
    "pmu_vbs = get_vbs(pm['U_IGP'])\n",
    "pmm_vbs = get_vbs(pm['M_IGP'])\n",
    "pml_vbs = get_vbs(pm['L_IGP'])\n",
    "\n",
    "mu_vbs = get_vbs(m['U_IGP'])\n",
    "mm_vbs = get_vbs(m['M_IGP'])\n",
    "ml_vbs = get_vbs(m['L_IGP'])\n",
    "\n",
    "au_vbs = get_vbs(a['U_IGP'])\n",
    "am_vbs = get_vbs(a['M_IGP'])\n",
    "al_vbs = get_vbs(a['L_IGP'])\n",
    "\n",
    "wu_vbs = get_vbs(w['U_IGP'])\n",
    "wm_vbs = get_vbs(w['M_IGP'])\n",
    "wl_vbs = get_vbs(w['L_IGP'])"
   ]
  },
  {
   "cell_type": "markdown",
   "metadata": {},
   "source": [
    "## Plot VBS"
   ]
  },
  {
   "cell_type": "code",
   "execution_count": 23,
   "metadata": {},
   "outputs": [
    {
     "data": {
      "application/vnd.plotly.v1+json": {
       "config": {
        "plotlyServerURL": "https://plot.ly"
       },
       "data": [
        {
         "marker": {
          "color": "rgb(60,179,113)"
         },
         "name": "aerosol",
         "showlegend": false,
         "type": "bar",
         "x": [
          "-4",
          "-3",
          "-2",
          "-1",
          "0",
          "1",
          "2",
          "3"
         ],
         "xaxis": "x",
         "y": [
          1.2344987392425537,
          0,
          0,
          0,
          0.9812861084938049,
          0.3123307526111603,
          0.037605077028274536,
          0.004451403394341469
         ],
         "yaxis": "y"
        },
        {
         "marker": {
          "color": "rgb(255,255,102)"
         },
         "name": "gas",
         "showlegend": false,
         "type": "bar",
         "x": [
          "-4",
          "-3",
          "-2",
          "-1",
          "0",
          "1",
          "2",
          "3"
         ],
         "xaxis": "x",
         "y": [
          2.341886647627689e-05,
          0,
          0,
          0,
          0.39405640959739685,
          0.7204300165176392,
          0.6807095408439636,
          0.6371945738792419
         ],
         "yaxis": "y"
        },
        {
         "marker": {
          "color": "rgb(60,179,113)"
         },
         "name": "aerosol",
         "showlegend": false,
         "type": "bar",
         "x": [
          "-4",
          "-3",
          "-2",
          "-1",
          "0",
          "1",
          "2",
          "3"
         ],
         "xaxis": "x2",
         "y": [
          2.4724624156951904,
          0,
          0,
          0,
          2.6246111392974854,
          0.8948087692260742,
          0.10506202280521393,
          0.011915420182049274
         ],
         "yaxis": "y2"
        },
        {
         "marker": {
          "color": "rgb(255,255,102)"
         },
         "name": "gas",
         "showlegend": false,
         "type": "bar",
         "x": [
          "-4",
          "-3",
          "-2",
          "-1",
          "0",
          "1",
          "2",
          "3"
         ],
         "xaxis": "x2",
         "y": [
          3.122135967714712e-05,
          0,
          0,
          0,
          0.7701152563095093,
          1.5875378847122192,
          1.496551275253296,
          1.3825275897979736
         ],
         "yaxis": "y2"
        },
        {
         "marker": {
          "color": "rgb(60,179,113)"
         },
         "name": "aerosol",
         "showlegend": false,
         "type": "bar",
         "x": [
          "-4",
          "-3",
          "-2",
          "-1",
          "0",
          "1",
          "2",
          "3"
         ],
         "xaxis": "x3",
         "y": [
          1.5263891220092773,
          0,
          0,
          0,
          2.4526500701904297,
          1.0222797393798828,
          0.12874984741210938,
          0.01466350257396698
         ],
         "yaxis": "y3"
        },
        {
         "marker": {
          "color": "rgb(255,255,102)"
         },
         "name": "gas",
         "showlegend": false,
         "type": "bar",
         "x": [
          "-4",
          "-3",
          "-2",
          "-1",
          "0",
          "1",
          "2",
          "3"
         ],
         "xaxis": "x3",
         "y": [
          1.556654751766473e-05,
          0,
          0,
          0,
          0.4527263045310974,
          1.1446053981781006,
          1.1321195363998413,
          1.1127699613571167
         ],
         "yaxis": "y3"
        },
        {
         "marker": {
          "color": "rgb(60,179,113)"
         },
         "name": "aerosol",
         "showlegend": false,
         "type": "bar",
         "x": [
          "-4",
          "-3",
          "-2",
          "-1",
          "0",
          "1",
          "2",
          "3"
         ],
         "xaxis": "x4",
         "y": [
          3.584409475326538,
          0,
          0,
          0,
          3.0206542015075684,
          0.5540756583213806,
          0.04591342806816101,
          0.004644405096769333
         ],
         "yaxis": "y4"
        },
        {
         "marker": {
          "color": "rgb(255,255,102)"
         },
         "name": "gas",
         "showlegend": false,
         "type": "bar",
         "x": [
          "-4",
          "-3",
          "-2",
          "-1",
          "0",
          "1",
          "2",
          "3"
         ],
         "xaxis": "x4",
         "y": [
          4.376003926154226e-05,
          0,
          0,
          0,
          0.9311871528625488,
          1.1361737251281738,
          0.7771420478820801,
          0.6443053483963013
         ],
         "yaxis": "y4"
        },
        {
         "marker": {
          "color": "rgb(60,179,113)"
         },
         "name": "aerosol",
         "showlegend": false,
         "type": "bar",
         "x": [
          "-4",
          "-3",
          "-2",
          "-1",
          "0",
          "1",
          "2",
          "3"
         ],
         "xaxis": "x5",
         "y": [
          2.6087236404418945,
          0,
          0,
          0,
          3.5432093143463135,
          0.9484919905662537,
          0.09931597113609314,
          0.010522089898586273
         ],
         "yaxis": "y5"
        },
        {
         "marker": {
          "color": "rgb(255,255,102)"
         },
         "name": "gas",
         "showlegend": false,
         "type": "bar",
         "x": [
          "-4",
          "-3",
          "-2",
          "-1",
          "0",
          "1",
          "2",
          "3"
         ],
         "xaxis": "x5",
         "y": [
          2.6301338948542252e-05,
          0,
          0,
          0,
          0.7297642230987549,
          1.4613162279129028,
          1.2927974462509155,
          1.1722301244735718
         ],
         "yaxis": "y5"
        },
        {
         "marker": {
          "color": "rgb(60,179,113)"
         },
         "name": "aerosol",
         "showlegend": false,
         "type": "bar",
         "x": [
          "-4",
          "-3",
          "-2",
          "-1",
          "0",
          "1",
          "2",
          "3"
         ],
         "xaxis": "x6",
         "y": [
          1.3745862245559692,
          0,
          0,
          0,
          2.2478232383728027,
          0.7657439708709717,
          0.09403717517852783,
          0.01060167420655489
         ],
         "yaxis": "y6"
        },
        {
         "marker": {
          "color": "rgb(255,255,102)"
         },
         "name": "gas",
         "showlegend": false,
         "type": "bar",
         "x": [
          "-4",
          "-3",
          "-2",
          "-1",
          "0",
          "1",
          "2",
          "3"
         ],
         "xaxis": "x6",
         "y": [
          1.2576612789416686e-05,
          0,
          0,
          0,
          0.3692329525947571,
          0.9331303834915161,
          0.9480880498886108,
          0.9319908022880554
         ],
         "yaxis": "y6"
        },
        {
         "marker": {
          "color": "rgb(60,179,113)"
         },
         "name": "aerosol",
         "showlegend": false,
         "type": "bar",
         "x": [
          "-4",
          "-3",
          "-2",
          "-1",
          "0",
          "1",
          "2",
          "3"
         ],
         "xaxis": "x7",
         "y": [
          1.4781720638275146,
          0,
          0,
          0,
          6.778332233428955,
          7.44089937210083,
          1.7095855474472046,
          0.17517882585525513
         ],
         "yaxis": "y7"
        },
        {
         "marker": {
          "color": "rgb(255,255,102)"
         },
         "name": "gas",
         "showlegend": false,
         "type": "bar",
         "x": [
          "-4",
          "-3",
          "-2",
          "-1",
          "0",
          "1",
          "2",
          "3"
         ],
         "xaxis": "x7",
         "y": [
          8.351353244506754e-06,
          0,
          0,
          0,
          0.31883442401885986,
          1.6366630792617798,
          2.4606516361236572,
          2.2045419216156006
         ],
         "yaxis": "y7"
        },
        {
         "marker": {
          "color": "rgb(60,179,113)"
         },
         "name": "aerosol",
         "showlegend": false,
         "type": "bar",
         "x": [
          "-4",
          "-3",
          "-2",
          "-1",
          "0",
          "1",
          "2",
          "3"
         ],
         "xaxis": "x8",
         "y": [
          1.429012417793274,
          0,
          0,
          0,
          9.1942138671875,
          10.203083038330078,
          1.9744315147399902,
          0.19178470969200134
         ],
         "yaxis": "y8"
        },
        {
         "marker": {
          "color": "rgb(255,255,102)"
         },
         "name": "gas",
         "showlegend": false,
         "type": "bar",
         "x": [
          "-4",
          "-3",
          "-2",
          "-1",
          "0",
          "1",
          "2",
          "3"
         ],
         "xaxis": "x8",
         "y": [
          4.261533831595443e-06,
          0,
          0,
          0,
          0.30414456129074097,
          2.4127798080444336,
          3.690513849258423,
          3.351266384124756
         ],
         "yaxis": "y8"
        },
        {
         "marker": {
          "color": "rgb(60,179,113)"
         },
         "name": "aerosol",
         "showlegend": false,
         "type": "bar",
         "x": [
          "-4",
          "-3",
          "-2",
          "-1",
          "0",
          "1",
          "2",
          "3"
         ],
         "xaxis": "x9",
         "y": [
          1.1675617694854736,
          0,
          0,
          0,
          6.445600986480713,
          6.192104339599609,
          1.1676324605941772,
          0.11876191198825836
         ],
         "yaxis": "y9"
        },
        {
         "marker": {
          "color": "rgb(255,255,102)"
         },
         "name": "gas",
         "showlegend": false,
         "type": "bar",
         "x": [
          "-4",
          "-3",
          "-2",
          "-1",
          "0",
          "1",
          "2",
          "3"
         ],
         "xaxis": "x9",
         "y": [
          3.2778714285086608e-06,
          0,
          0,
          0,
          0.20981836318969727,
          1.5517935752868652,
          2.3233890533447266,
          2.219852924346924
         ],
         "yaxis": "y9"
        },
        {
         "marker": {
          "color": "rgb(60,179,113)"
         },
         "name": "aerosol",
         "showlegend": false,
         "type": "bar",
         "x": [
          "-4",
          "-3",
          "-2",
          "-1",
          "0",
          "1",
          "2",
          "3"
         ],
         "xaxis": "x10",
         "y": [
          0.1836869865655899,
          0,
          0,
          0,
          1.9417247772216797,
          3.6286556720733643,
          1.1706719398498535,
          0.15702328085899353
         ],
         "yaxis": "y10"
        },
        {
         "marker": {
          "color": "rgb(255,255,102)"
         },
         "name": "gas",
         "showlegend": false,
         "type": "bar",
         "x": [
          "-4",
          "-3",
          "-2",
          "-1",
          "0",
          "1",
          "2",
          "3"
         ],
         "xaxis": "x10",
         "y": [
          1.0877763543248875e-06,
          0,
          0,
          0,
          0.06353140622377396,
          0.6602994203567505,
          1.2556695938110352,
          1.4364361763000488
         ],
         "yaxis": "y10"
        },
        {
         "marker": {
          "color": "rgb(60,179,113)"
         },
         "name": "aerosol",
         "showlegend": true,
         "type": "bar",
         "x": [
          "-4",
          "-3",
          "-2",
          "-1",
          "0",
          "1",
          "2",
          "3"
         ],
         "xaxis": "x11",
         "y": [
          0.19590185582637787,
          0,
          0,
          0,
          2.458096742630005,
          6.757702827453613,
          2.8208723068237305,
          0.3858834505081177
         ],
         "yaxis": "y11"
        },
        {
         "marker": {
          "color": "rgb(255,255,102)"
         },
         "name": "gas",
         "showlegend": true,
         "type": "bar",
         "x": [
          "-4",
          "-3",
          "-2",
          "-1",
          "0",
          "1",
          "2",
          "3"
         ],
         "xaxis": "x11",
         "y": [
          5.805317755402939e-07,
          0,
          0,
          0,
          0.03320518508553505,
          0.6686449646949768,
          2.127493381500244,
          2.857853889465332
         ],
         "yaxis": "y11"
        },
        {
         "marker": {
          "color": "rgb(60,179,113)"
         },
         "name": "aerosol",
         "showlegend": false,
         "type": "bar",
         "x": [
          "-4",
          "-3",
          "-2",
          "-1",
          "0",
          "1",
          "2",
          "3"
         ],
         "xaxis": "x12",
         "y": [
          0.2180168330669403,
          0,
          0,
          0,
          3.6345114707946777,
          11.90650463104248,
          4.36271858215332,
          0.4516470432281494
         ],
         "yaxis": "y12"
        },
        {
         "marker": {
          "color": "rgb(255,255,102)"
         },
         "name": "gas",
         "showlegend": false,
         "type": "bar",
         "x": [
          "-4",
          "-3",
          "-2",
          "-1",
          "0",
          "1",
          "2",
          "3"
         ],
         "xaxis": "x12",
         "y": [
          4.665850781293557e-07,
          0,
          0,
          0,
          0.04441608488559723,
          1.0933425426483154,
          2.9048757553100586,
          2.716108560562134
         ],
         "yaxis": "y12"
        }
       ],
       "layout": {
        "annotations": [
         {
          "align": "left",
          "font": {
           "color": "black",
           "size": 20
          },
          "showarrow": false,
          "text": "(a)",
          "x": 0.265,
          "xref": "paper",
          "y": 0.99,
          "yref": "paper"
         },
         {
          "align": "left",
          "font": {
           "color": "black",
           "size": 20
          },
          "showarrow": false,
          "text": "(b)",
          "x": 0.63,
          "xref": "paper",
          "y": 0.99,
          "yref": "paper"
         },
         {
          "align": "left",
          "font": {
           "color": "black",
           "size": 20
          },
          "showarrow": false,
          "text": "(c)",
          "x": 0.99,
          "xref": "paper",
          "y": 0.99,
          "yref": "paper"
         },
         {
          "align": "left",
          "font": {
           "color": "black",
           "size": 20
          },
          "showarrow": false,
          "text": "(d)",
          "x": 0.265,
          "xref": "paper",
          "y": 0.73,
          "yref": "paper"
         },
         {
          "align": "left",
          "font": {
           "color": "black",
           "size": 20
          },
          "showarrow": false,
          "text": "(e)",
          "x": 0.63,
          "xref": "paper",
          "y": 0.73,
          "yref": "paper"
         },
         {
          "align": "left",
          "font": {
           "color": "black",
           "size": 20
          },
          "showarrow": false,
          "text": "(f)",
          "x": 0.99,
          "xref": "paper",
          "y": 0.73,
          "yref": "paper"
         },
         {
          "align": "left",
          "font": {
           "color": "black",
           "size": 20
          },
          "showarrow": false,
          "text": "(g)",
          "x": 0.265,
          "xref": "paper",
          "y": 0.45,
          "yref": "paper"
         },
         {
          "align": "left",
          "font": {
           "color": "black",
           "size": 20
          },
          "showarrow": false,
          "text": "(h)",
          "x": 0.63,
          "xref": "paper",
          "y": 0.45,
          "yref": "paper"
         },
         {
          "align": "left",
          "font": {
           "color": "black",
           "size": 20
          },
          "showarrow": false,
          "text": "(i)",
          "x": 0.99,
          "xref": "paper",
          "y": 0.45,
          "yref": "paper"
         },
         {
          "align": "left",
          "font": {
           "color": "black",
           "size": 20
          },
          "showarrow": false,
          "text": "(j)",
          "x": 0.265,
          "xref": "paper",
          "y": 0.17,
          "yref": "paper"
         },
         {
          "align": "left",
          "font": {
           "color": "black",
           "size": 20
          },
          "showarrow": false,
          "text": "(k)",
          "x": 0.63,
          "xref": "paper",
          "y": 0.17,
          "yref": "paper"
         },
         {
          "align": "left",
          "font": {
           "color": "black",
           "size": 20
          },
          "showarrow": false,
          "text": "(l)",
          "x": 0.99,
          "xref": "paper",
          "y": 0.17,
          "yref": "paper"
         },
         {
          "font": {
           "size": 100
          },
          "showarrow": false,
          "text": "$Organic \\ Mass \\ (\\mu g \\ m^{-3})$",
          "textangle": -90,
          "x": -0.07,
          "xref": "paper",
          "y": 0.5,
          "yref": "paper"
         },
         {
          "font": {
           "size": 100
          },
          "showarrow": false,
          "text": "$log_{10}(C^*)$",
          "x": 0.5,
          "xref": "paper",
          "y": -0.06,
          "yref": "paper"
         },
         {
          "font": {
           "size": 20
          },
          "showarrow": false,
          "text": "UPPER",
          "x": 0.12,
          "xref": "paper",
          "y": 1.05,
          "yref": "paper"
         },
         {
          "font": {
           "size": 20
          },
          "showarrow": false,
          "text": "MIDDLE",
          "x": 0.5,
          "xref": "paper",
          "y": 1.05,
          "yref": "paper"
         },
         {
          "font": {
           "size": 20
          },
          "showarrow": false,
          "text": "LOWER",
          "x": 0.9,
          "xref": "paper",
          "y": 1.05,
          "yref": "paper"
         },
         {
          "font": {
           "size": 20
          },
          "showarrow": false,
          "text": "PRE-MONSOON",
          "textangle": 90,
          "x": 1.05,
          "xref": "paper",
          "y": 0.985,
          "yref": "paper"
         },
         {
          "font": {
           "size": 20
          },
          "showarrow": false,
          "text": "MONSOON",
          "textangle": 90,
          "x": 1.05,
          "xref": "paper",
          "y": 0.7,
          "yref": "paper"
         },
         {
          "font": {
           "size": 20
          },
          "showarrow": false,
          "text": "POST-MONSOON",
          "textangle": 90,
          "x": 1.05,
          "xref": "paper",
          "y": 0.27,
          "yref": "paper"
         },
         {
          "font": {
           "size": 20
          },
          "showarrow": false,
          "text": "WINTER",
          "textangle": 90,
          "x": 1.05,
          "xref": "paper",
          "y": 0.07,
          "yref": "paper"
         }
        ],
        "autosize": false,
        "barmode": "stack",
        "font": {
         "size": 20
        },
        "height": 1000,
        "legend": {
         "font": {
          "size": 23
         },
         "orientation": "h",
         "x": 0.4
        },
        "template": {
         "data": {
          "bar": [
           {
            "error_x": {
             "color": "#2a3f5f"
            },
            "error_y": {
             "color": "#2a3f5f"
            },
            "marker": {
             "line": {
              "color": "#E5ECF6",
              "width": 0.5
             }
            },
            "type": "bar"
           }
          ],
          "barpolar": [
           {
            "marker": {
             "line": {
              "color": "#E5ECF6",
              "width": 0.5
             }
            },
            "type": "barpolar"
           }
          ],
          "carpet": [
           {
            "aaxis": {
             "endlinecolor": "#2a3f5f",
             "gridcolor": "white",
             "linecolor": "white",
             "minorgridcolor": "white",
             "startlinecolor": "#2a3f5f"
            },
            "baxis": {
             "endlinecolor": "#2a3f5f",
             "gridcolor": "white",
             "linecolor": "white",
             "minorgridcolor": "white",
             "startlinecolor": "#2a3f5f"
            },
            "type": "carpet"
           }
          ],
          "choropleth": [
           {
            "colorbar": {
             "outlinewidth": 0,
             "ticks": ""
            },
            "type": "choropleth"
           }
          ],
          "contour": [
           {
            "colorbar": {
             "outlinewidth": 0,
             "ticks": ""
            },
            "colorscale": [
             [
              0,
              "#0d0887"
             ],
             [
              0.1111111111111111,
              "#46039f"
             ],
             [
              0.2222222222222222,
              "#7201a8"
             ],
             [
              0.3333333333333333,
              "#9c179e"
             ],
             [
              0.4444444444444444,
              "#bd3786"
             ],
             [
              0.5555555555555556,
              "#d8576b"
             ],
             [
              0.6666666666666666,
              "#ed7953"
             ],
             [
              0.7777777777777778,
              "#fb9f3a"
             ],
             [
              0.8888888888888888,
              "#fdca26"
             ],
             [
              1,
              "#f0f921"
             ]
            ],
            "type": "contour"
           }
          ],
          "contourcarpet": [
           {
            "colorbar": {
             "outlinewidth": 0,
             "ticks": ""
            },
            "type": "contourcarpet"
           }
          ],
          "heatmap": [
           {
            "colorbar": {
             "outlinewidth": 0,
             "ticks": ""
            },
            "colorscale": [
             [
              0,
              "#0d0887"
             ],
             [
              0.1111111111111111,
              "#46039f"
             ],
             [
              0.2222222222222222,
              "#7201a8"
             ],
             [
              0.3333333333333333,
              "#9c179e"
             ],
             [
              0.4444444444444444,
              "#bd3786"
             ],
             [
              0.5555555555555556,
              "#d8576b"
             ],
             [
              0.6666666666666666,
              "#ed7953"
             ],
             [
              0.7777777777777778,
              "#fb9f3a"
             ],
             [
              0.8888888888888888,
              "#fdca26"
             ],
             [
              1,
              "#f0f921"
             ]
            ],
            "type": "heatmap"
           }
          ],
          "heatmapgl": [
           {
            "colorbar": {
             "outlinewidth": 0,
             "ticks": ""
            },
            "colorscale": [
             [
              0,
              "#0d0887"
             ],
             [
              0.1111111111111111,
              "#46039f"
             ],
             [
              0.2222222222222222,
              "#7201a8"
             ],
             [
              0.3333333333333333,
              "#9c179e"
             ],
             [
              0.4444444444444444,
              "#bd3786"
             ],
             [
              0.5555555555555556,
              "#d8576b"
             ],
             [
              0.6666666666666666,
              "#ed7953"
             ],
             [
              0.7777777777777778,
              "#fb9f3a"
             ],
             [
              0.8888888888888888,
              "#fdca26"
             ],
             [
              1,
              "#f0f921"
             ]
            ],
            "type": "heatmapgl"
           }
          ],
          "histogram": [
           {
            "marker": {
             "colorbar": {
              "outlinewidth": 0,
              "ticks": ""
             }
            },
            "type": "histogram"
           }
          ],
          "histogram2d": [
           {
            "colorbar": {
             "outlinewidth": 0,
             "ticks": ""
            },
            "colorscale": [
             [
              0,
              "#0d0887"
             ],
             [
              0.1111111111111111,
              "#46039f"
             ],
             [
              0.2222222222222222,
              "#7201a8"
             ],
             [
              0.3333333333333333,
              "#9c179e"
             ],
             [
              0.4444444444444444,
              "#bd3786"
             ],
             [
              0.5555555555555556,
              "#d8576b"
             ],
             [
              0.6666666666666666,
              "#ed7953"
             ],
             [
              0.7777777777777778,
              "#fb9f3a"
             ],
             [
              0.8888888888888888,
              "#fdca26"
             ],
             [
              1,
              "#f0f921"
             ]
            ],
            "type": "histogram2d"
           }
          ],
          "histogram2dcontour": [
           {
            "colorbar": {
             "outlinewidth": 0,
             "ticks": ""
            },
            "colorscale": [
             [
              0,
              "#0d0887"
             ],
             [
              0.1111111111111111,
              "#46039f"
             ],
             [
              0.2222222222222222,
              "#7201a8"
             ],
             [
              0.3333333333333333,
              "#9c179e"
             ],
             [
              0.4444444444444444,
              "#bd3786"
             ],
             [
              0.5555555555555556,
              "#d8576b"
             ],
             [
              0.6666666666666666,
              "#ed7953"
             ],
             [
              0.7777777777777778,
              "#fb9f3a"
             ],
             [
              0.8888888888888888,
              "#fdca26"
             ],
             [
              1,
              "#f0f921"
             ]
            ],
            "type": "histogram2dcontour"
           }
          ],
          "mesh3d": [
           {
            "colorbar": {
             "outlinewidth": 0,
             "ticks": ""
            },
            "type": "mesh3d"
           }
          ],
          "parcoords": [
           {
            "line": {
             "colorbar": {
              "outlinewidth": 0,
              "ticks": ""
             }
            },
            "type": "parcoords"
           }
          ],
          "pie": [
           {
            "automargin": true,
            "type": "pie"
           }
          ],
          "scatter": [
           {
            "marker": {
             "colorbar": {
              "outlinewidth": 0,
              "ticks": ""
             }
            },
            "type": "scatter"
           }
          ],
          "scatter3d": [
           {
            "line": {
             "colorbar": {
              "outlinewidth": 0,
              "ticks": ""
             }
            },
            "marker": {
             "colorbar": {
              "outlinewidth": 0,
              "ticks": ""
             }
            },
            "type": "scatter3d"
           }
          ],
          "scattercarpet": [
           {
            "marker": {
             "colorbar": {
              "outlinewidth": 0,
              "ticks": ""
             }
            },
            "type": "scattercarpet"
           }
          ],
          "scattergeo": [
           {
            "marker": {
             "colorbar": {
              "outlinewidth": 0,
              "ticks": ""
             }
            },
            "type": "scattergeo"
           }
          ],
          "scattergl": [
           {
            "marker": {
             "colorbar": {
              "outlinewidth": 0,
              "ticks": ""
             }
            },
            "type": "scattergl"
           }
          ],
          "scattermapbox": [
           {
            "marker": {
             "colorbar": {
              "outlinewidth": 0,
              "ticks": ""
             }
            },
            "type": "scattermapbox"
           }
          ],
          "scatterpolar": [
           {
            "marker": {
             "colorbar": {
              "outlinewidth": 0,
              "ticks": ""
             }
            },
            "type": "scatterpolar"
           }
          ],
          "scatterpolargl": [
           {
            "marker": {
             "colorbar": {
              "outlinewidth": 0,
              "ticks": ""
             }
            },
            "type": "scatterpolargl"
           }
          ],
          "scatterternary": [
           {
            "marker": {
             "colorbar": {
              "outlinewidth": 0,
              "ticks": ""
             }
            },
            "type": "scatterternary"
           }
          ],
          "surface": [
           {
            "colorbar": {
             "outlinewidth": 0,
             "ticks": ""
            },
            "colorscale": [
             [
              0,
              "#0d0887"
             ],
             [
              0.1111111111111111,
              "#46039f"
             ],
             [
              0.2222222222222222,
              "#7201a8"
             ],
             [
              0.3333333333333333,
              "#9c179e"
             ],
             [
              0.4444444444444444,
              "#bd3786"
             ],
             [
              0.5555555555555556,
              "#d8576b"
             ],
             [
              0.6666666666666666,
              "#ed7953"
             ],
             [
              0.7777777777777778,
              "#fb9f3a"
             ],
             [
              0.8888888888888888,
              "#fdca26"
             ],
             [
              1,
              "#f0f921"
             ]
            ],
            "type": "surface"
           }
          ],
          "table": [
           {
            "cells": {
             "fill": {
              "color": "#EBF0F8"
             },
             "line": {
              "color": "white"
             }
            },
            "header": {
             "fill": {
              "color": "#C8D4E3"
             },
             "line": {
              "color": "white"
             }
            },
            "type": "table"
           }
          ]
         },
         "layout": {
          "annotationdefaults": {
           "arrowcolor": "#2a3f5f",
           "arrowhead": 0,
           "arrowwidth": 1
          },
          "coloraxis": {
           "colorbar": {
            "outlinewidth": 0,
            "ticks": ""
           }
          },
          "colorscale": {
           "diverging": [
            [
             0,
             "#8e0152"
            ],
            [
             0.1,
             "#c51b7d"
            ],
            [
             0.2,
             "#de77ae"
            ],
            [
             0.3,
             "#f1b6da"
            ],
            [
             0.4,
             "#fde0ef"
            ],
            [
             0.5,
             "#f7f7f7"
            ],
            [
             0.6,
             "#e6f5d0"
            ],
            [
             0.7,
             "#b8e186"
            ],
            [
             0.8,
             "#7fbc41"
            ],
            [
             0.9,
             "#4d9221"
            ],
            [
             1,
             "#276419"
            ]
           ],
           "sequential": [
            [
             0,
             "#0d0887"
            ],
            [
             0.1111111111111111,
             "#46039f"
            ],
            [
             0.2222222222222222,
             "#7201a8"
            ],
            [
             0.3333333333333333,
             "#9c179e"
            ],
            [
             0.4444444444444444,
             "#bd3786"
            ],
            [
             0.5555555555555556,
             "#d8576b"
            ],
            [
             0.6666666666666666,
             "#ed7953"
            ],
            [
             0.7777777777777778,
             "#fb9f3a"
            ],
            [
             0.8888888888888888,
             "#fdca26"
            ],
            [
             1,
             "#f0f921"
            ]
           ],
           "sequentialminus": [
            [
             0,
             "#0d0887"
            ],
            [
             0.1111111111111111,
             "#46039f"
            ],
            [
             0.2222222222222222,
             "#7201a8"
            ],
            [
             0.3333333333333333,
             "#9c179e"
            ],
            [
             0.4444444444444444,
             "#bd3786"
            ],
            [
             0.5555555555555556,
             "#d8576b"
            ],
            [
             0.6666666666666666,
             "#ed7953"
            ],
            [
             0.7777777777777778,
             "#fb9f3a"
            ],
            [
             0.8888888888888888,
             "#fdca26"
            ],
            [
             1,
             "#f0f921"
            ]
           ]
          },
          "colorway": [
           "#636efa",
           "#EF553B",
           "#00cc96",
           "#ab63fa",
           "#FFA15A",
           "#19d3f3",
           "#FF6692",
           "#B6E880",
           "#FF97FF",
           "#FECB52"
          ],
          "font": {
           "color": "#2a3f5f"
          },
          "geo": {
           "bgcolor": "white",
           "lakecolor": "white",
           "landcolor": "#E5ECF6",
           "showlakes": true,
           "showland": true,
           "subunitcolor": "white"
          },
          "hoverlabel": {
           "align": "left"
          },
          "hovermode": "closest",
          "mapbox": {
           "style": "light"
          },
          "paper_bgcolor": "white",
          "plot_bgcolor": "#E5ECF6",
          "polar": {
           "angularaxis": {
            "gridcolor": "white",
            "linecolor": "white",
            "ticks": ""
           },
           "bgcolor": "#E5ECF6",
           "radialaxis": {
            "gridcolor": "white",
            "linecolor": "white",
            "ticks": ""
           }
          },
          "scene": {
           "xaxis": {
            "backgroundcolor": "#E5ECF6",
            "gridcolor": "white",
            "gridwidth": 2,
            "linecolor": "white",
            "showbackground": true,
            "ticks": "",
            "zerolinecolor": "white"
           },
           "yaxis": {
            "backgroundcolor": "#E5ECF6",
            "gridcolor": "white",
            "gridwidth": 2,
            "linecolor": "white",
            "showbackground": true,
            "ticks": "",
            "zerolinecolor": "white"
           },
           "zaxis": {
            "backgroundcolor": "#E5ECF6",
            "gridcolor": "white",
            "gridwidth": 2,
            "linecolor": "white",
            "showbackground": true,
            "ticks": "",
            "zerolinecolor": "white"
           }
          },
          "shapedefaults": {
           "line": {
            "color": "#2a3f5f"
           }
          },
          "ternary": {
           "aaxis": {
            "gridcolor": "white",
            "linecolor": "white",
            "ticks": ""
           },
           "baxis": {
            "gridcolor": "white",
            "linecolor": "white",
            "ticks": ""
           },
           "bgcolor": "#E5ECF6",
           "caxis": {
            "gridcolor": "white",
            "linecolor": "white",
            "ticks": ""
           }
          },
          "title": {
           "x": 0.05
          },
          "xaxis": {
           "automargin": true,
           "gridcolor": "white",
           "linecolor": "white",
           "ticks": "",
           "title": {
            "standoff": 15
           },
           "zerolinecolor": "white",
           "zerolinewidth": 2
          },
          "yaxis": {
           "automargin": true,
           "gridcolor": "white",
           "linecolor": "white",
           "ticks": "",
           "title": {
            "standoff": 15
           },
           "zerolinecolor": "white",
           "zerolinewidth": 2
          }
         }
        },
        "width": 1000,
        "xaxis": {
         "anchor": "y",
         "domain": [
          0,
          0.3133333333333333
         ],
         "matches": "x10",
         "showticklabels": false
        },
        "xaxis10": {
         "anchor": "y10",
         "domain": [
          0,
          0.3133333333333333
         ]
        },
        "xaxis11": {
         "anchor": "y11",
         "domain": [
          0.34333333333333327,
          0.6566666666666665
         ]
        },
        "xaxis12": {
         "anchor": "y12",
         "domain": [
          0.6866666666666665,
          0.9999999999999998
         ]
        },
        "xaxis2": {
         "anchor": "y2",
         "domain": [
          0.34333333333333327,
          0.6566666666666665
         ],
         "matches": "x11",
         "showticklabels": false
        },
        "xaxis3": {
         "anchor": "y3",
         "domain": [
          0.6866666666666665,
          0.9999999999999998
         ],
         "matches": "x12",
         "showticklabels": false
        },
        "xaxis4": {
         "anchor": "y4",
         "domain": [
          0,
          0.3133333333333333
         ],
         "matches": "x10",
         "showticklabels": false
        },
        "xaxis5": {
         "anchor": "y5",
         "domain": [
          0.34333333333333327,
          0.6566666666666665
         ],
         "matches": "x11",
         "showticklabels": false
        },
        "xaxis6": {
         "anchor": "y6",
         "domain": [
          0.6866666666666665,
          0.9999999999999998
         ],
         "matches": "x12",
         "showticklabels": false
        },
        "xaxis7": {
         "anchor": "y7",
         "domain": [
          0,
          0.3133333333333333
         ],
         "matches": "x10",
         "showticklabels": false
        },
        "xaxis8": {
         "anchor": "y8",
         "domain": [
          0.34333333333333327,
          0.6566666666666665
         ],
         "matches": "x11",
         "showticklabels": false
        },
        "xaxis9": {
         "anchor": "y9",
         "domain": [
          0.6866666666666665,
          0.9999999999999998
         ],
         "matches": "x12",
         "showticklabels": false
        },
        "yaxis": {
         "anchor": "x",
         "domain": [
          0.78,
          1
         ],
         "range": [
          0,
          15
         ]
        },
        "yaxis10": {
         "anchor": "x10",
         "domain": [
          0,
          0.22
         ],
         "range": [
          0,
          15
         ]
        },
        "yaxis11": {
         "anchor": "x11",
         "domain": [
          0,
          0.22
         ],
         "matches": "y10",
         "range": [
          0,
          15
         ],
         "showticklabels": false
        },
        "yaxis12": {
         "anchor": "x12",
         "domain": [
          0,
          0.22
         ],
         "matches": "y10",
         "range": [
          0,
          15
         ],
         "showticklabels": false
        },
        "yaxis2": {
         "anchor": "x2",
         "domain": [
          0.78,
          1
         ],
         "matches": "y",
         "range": [
          0,
          15
         ],
         "showticklabels": false
        },
        "yaxis3": {
         "anchor": "x3",
         "domain": [
          0.78,
          1
         ],
         "matches": "y",
         "range": [
          0,
          15
         ],
         "showticklabels": false
        },
        "yaxis4": {
         "anchor": "x4",
         "domain": [
          0.52,
          0.74
         ],
         "range": [
          0,
          15
         ]
        },
        "yaxis5": {
         "anchor": "x5",
         "domain": [
          0.52,
          0.74
         ],
         "matches": "y4",
         "range": [
          0,
          15
         ],
         "showticklabels": false
        },
        "yaxis6": {
         "anchor": "x6",
         "domain": [
          0.52,
          0.74
         ],
         "matches": "y4",
         "range": [
          0,
          15
         ],
         "showticklabels": false
        },
        "yaxis7": {
         "anchor": "x7",
         "domain": [
          0.26,
          0.48
         ],
         "range": [
          0,
          15
         ]
        },
        "yaxis8": {
         "anchor": "x8",
         "domain": [
          0.26,
          0.48
         ],
         "matches": "y7",
         "range": [
          0,
          15
         ],
         "showticklabels": false
        },
        "yaxis9": {
         "anchor": "x9",
         "domain": [
          0.26,
          0.48
         ],
         "matches": "y7",
         "range": [
          0,
          15
         ],
         "showticklabels": false
        }
       }
      },
      "text/html": [
       "<div>\n",
       "        \n",
       "        \n",
       "            <div id=\"7827a384-0a91-48b4-b746-81e61ad9009a\" class=\"plotly-graph-div\" style=\"height:1000px; width:1000px;\"></div>\n",
       "            <script type=\"text/javascript\">\n",
       "                require([\"plotly\"], function(Plotly) {\n",
       "                    window.PLOTLYENV=window.PLOTLYENV || {};\n",
       "                    \n",
       "                if (document.getElementById(\"7827a384-0a91-48b4-b746-81e61ad9009a\")) {\n",
       "                    Plotly.newPlot(\n",
       "                        '7827a384-0a91-48b4-b746-81e61ad9009a',\n",
       "                        [{\"marker\": {\"color\": \"rgb(60,179,113)\"}, \"name\": \"aerosol\", \"showlegend\": false, \"type\": \"bar\", \"x\": [\"-4\", \"-3\", \"-2\", \"-1\", \"0\", \"1\", \"2\", \"3\"], \"xaxis\": \"x\", \"y\": [1.2344987392425537, 0, 0, 0, 0.9812861084938049, 0.3123307526111603, 0.037605077028274536, 0.004451403394341469], \"yaxis\": \"y\"}, {\"marker\": {\"color\": \"rgb(255,255,102)\"}, \"name\": \"gas\", \"showlegend\": false, \"type\": \"bar\", \"x\": [\"-4\", \"-3\", \"-2\", \"-1\", \"0\", \"1\", \"2\", \"3\"], \"xaxis\": \"x\", \"y\": [2.341886647627689e-05, 0, 0, 0, 0.39405640959739685, 0.7204300165176392, 0.6807095408439636, 0.6371945738792419], \"yaxis\": \"y\"}, {\"marker\": {\"color\": \"rgb(60,179,113)\"}, \"name\": \"aerosol\", \"showlegend\": false, \"type\": \"bar\", \"x\": [\"-4\", \"-3\", \"-2\", \"-1\", \"0\", \"1\", \"2\", \"3\"], \"xaxis\": \"x2\", \"y\": [2.4724624156951904, 0, 0, 0, 2.6246111392974854, 0.8948087692260742, 0.10506202280521393, 0.011915420182049274], \"yaxis\": \"y2\"}, {\"marker\": {\"color\": \"rgb(255,255,102)\"}, \"name\": \"gas\", \"showlegend\": false, \"type\": \"bar\", \"x\": [\"-4\", \"-3\", \"-2\", \"-1\", \"0\", \"1\", \"2\", \"3\"], \"xaxis\": \"x2\", \"y\": [3.122135967714712e-05, 0, 0, 0, 0.7701152563095093, 1.5875378847122192, 1.496551275253296, 1.3825275897979736], \"yaxis\": \"y2\"}, {\"marker\": {\"color\": \"rgb(60,179,113)\"}, \"name\": \"aerosol\", \"showlegend\": false, \"type\": \"bar\", \"x\": [\"-4\", \"-3\", \"-2\", \"-1\", \"0\", \"1\", \"2\", \"3\"], \"xaxis\": \"x3\", \"y\": [1.5263891220092773, 0, 0, 0, 2.4526500701904297, 1.0222797393798828, 0.12874984741210938, 0.01466350257396698], \"yaxis\": \"y3\"}, {\"marker\": {\"color\": \"rgb(255,255,102)\"}, \"name\": \"gas\", \"showlegend\": false, \"type\": \"bar\", \"x\": [\"-4\", \"-3\", \"-2\", \"-1\", \"0\", \"1\", \"2\", \"3\"], \"xaxis\": \"x3\", \"y\": [1.556654751766473e-05, 0, 0, 0, 0.4527263045310974, 1.1446053981781006, 1.1321195363998413, 1.1127699613571167], \"yaxis\": \"y3\"}, {\"marker\": {\"color\": \"rgb(60,179,113)\"}, \"name\": \"aerosol\", \"showlegend\": false, \"type\": \"bar\", \"x\": [\"-4\", \"-3\", \"-2\", \"-1\", \"0\", \"1\", \"2\", \"3\"], \"xaxis\": \"x4\", \"y\": [3.584409475326538, 0, 0, 0, 3.0206542015075684, 0.5540756583213806, 0.04591342806816101, 0.004644405096769333], \"yaxis\": \"y4\"}, {\"marker\": {\"color\": \"rgb(255,255,102)\"}, \"name\": \"gas\", \"showlegend\": false, \"type\": \"bar\", \"x\": [\"-4\", \"-3\", \"-2\", \"-1\", \"0\", \"1\", \"2\", \"3\"], \"xaxis\": \"x4\", \"y\": [4.376003926154226e-05, 0, 0, 0, 0.9311871528625488, 1.1361737251281738, 0.7771420478820801, 0.6443053483963013], \"yaxis\": \"y4\"}, {\"marker\": {\"color\": \"rgb(60,179,113)\"}, \"name\": \"aerosol\", \"showlegend\": false, \"type\": \"bar\", \"x\": [\"-4\", \"-3\", \"-2\", \"-1\", \"0\", \"1\", \"2\", \"3\"], \"xaxis\": \"x5\", \"y\": [2.6087236404418945, 0, 0, 0, 3.5432093143463135, 0.9484919905662537, 0.09931597113609314, 0.010522089898586273], \"yaxis\": \"y5\"}, {\"marker\": {\"color\": \"rgb(255,255,102)\"}, \"name\": \"gas\", \"showlegend\": false, \"type\": \"bar\", \"x\": [\"-4\", \"-3\", \"-2\", \"-1\", \"0\", \"1\", \"2\", \"3\"], \"xaxis\": \"x5\", \"y\": [2.6301338948542252e-05, 0, 0, 0, 0.7297642230987549, 1.4613162279129028, 1.2927974462509155, 1.1722301244735718], \"yaxis\": \"y5\"}, {\"marker\": {\"color\": \"rgb(60,179,113)\"}, \"name\": \"aerosol\", \"showlegend\": false, \"type\": \"bar\", \"x\": [\"-4\", \"-3\", \"-2\", \"-1\", \"0\", \"1\", \"2\", \"3\"], \"xaxis\": \"x6\", \"y\": [1.3745862245559692, 0, 0, 0, 2.2478232383728027, 0.7657439708709717, 0.09403717517852783, 0.01060167420655489], \"yaxis\": \"y6\"}, {\"marker\": {\"color\": \"rgb(255,255,102)\"}, \"name\": \"gas\", \"showlegend\": false, \"type\": \"bar\", \"x\": [\"-4\", \"-3\", \"-2\", \"-1\", \"0\", \"1\", \"2\", \"3\"], \"xaxis\": \"x6\", \"y\": [1.2576612789416686e-05, 0, 0, 0, 0.3692329525947571, 0.9331303834915161, 0.9480880498886108, 0.9319908022880554], \"yaxis\": \"y6\"}, {\"marker\": {\"color\": \"rgb(60,179,113)\"}, \"name\": \"aerosol\", \"showlegend\": false, \"type\": \"bar\", \"x\": [\"-4\", \"-3\", \"-2\", \"-1\", \"0\", \"1\", \"2\", \"3\"], \"xaxis\": \"x7\", \"y\": [1.4781720638275146, 0, 0, 0, 6.778332233428955, 7.44089937210083, 1.7095855474472046, 0.17517882585525513], \"yaxis\": \"y7\"}, {\"marker\": {\"color\": \"rgb(255,255,102)\"}, \"name\": \"gas\", \"showlegend\": false, \"type\": \"bar\", \"x\": [\"-4\", \"-3\", \"-2\", \"-1\", \"0\", \"1\", \"2\", \"3\"], \"xaxis\": \"x7\", \"y\": [8.351353244506754e-06, 0, 0, 0, 0.31883442401885986, 1.6366630792617798, 2.4606516361236572, 2.2045419216156006], \"yaxis\": \"y7\"}, {\"marker\": {\"color\": \"rgb(60,179,113)\"}, \"name\": \"aerosol\", \"showlegend\": false, \"type\": \"bar\", \"x\": [\"-4\", \"-3\", \"-2\", \"-1\", \"0\", \"1\", \"2\", \"3\"], \"xaxis\": \"x8\", \"y\": [1.429012417793274, 0, 0, 0, 9.1942138671875, 10.203083038330078, 1.9744315147399902, 0.19178470969200134], \"yaxis\": \"y8\"}, {\"marker\": {\"color\": \"rgb(255,255,102)\"}, \"name\": \"gas\", \"showlegend\": false, \"type\": \"bar\", \"x\": [\"-4\", \"-3\", \"-2\", \"-1\", \"0\", \"1\", \"2\", \"3\"], \"xaxis\": \"x8\", \"y\": [4.261533831595443e-06, 0, 0, 0, 0.30414456129074097, 2.4127798080444336, 3.690513849258423, 3.351266384124756], \"yaxis\": \"y8\"}, {\"marker\": {\"color\": \"rgb(60,179,113)\"}, \"name\": \"aerosol\", \"showlegend\": false, \"type\": \"bar\", \"x\": [\"-4\", \"-3\", \"-2\", \"-1\", \"0\", \"1\", \"2\", \"3\"], \"xaxis\": \"x9\", \"y\": [1.1675617694854736, 0, 0, 0, 6.445600986480713, 6.192104339599609, 1.1676324605941772, 0.11876191198825836], \"yaxis\": \"y9\"}, {\"marker\": {\"color\": \"rgb(255,255,102)\"}, \"name\": \"gas\", \"showlegend\": false, \"type\": \"bar\", \"x\": [\"-4\", \"-3\", \"-2\", \"-1\", \"0\", \"1\", \"2\", \"3\"], \"xaxis\": \"x9\", \"y\": [3.2778714285086608e-06, 0, 0, 0, 0.20981836318969727, 1.5517935752868652, 2.3233890533447266, 2.219852924346924], \"yaxis\": \"y9\"}, {\"marker\": {\"color\": \"rgb(60,179,113)\"}, \"name\": \"aerosol\", \"showlegend\": false, \"type\": \"bar\", \"x\": [\"-4\", \"-3\", \"-2\", \"-1\", \"0\", \"1\", \"2\", \"3\"], \"xaxis\": \"x10\", \"y\": [0.1836869865655899, 0, 0, 0, 1.9417247772216797, 3.6286556720733643, 1.1706719398498535, 0.15702328085899353], \"yaxis\": \"y10\"}, {\"marker\": {\"color\": \"rgb(255,255,102)\"}, \"name\": \"gas\", \"showlegend\": false, \"type\": \"bar\", \"x\": [\"-4\", \"-3\", \"-2\", \"-1\", \"0\", \"1\", \"2\", \"3\"], \"xaxis\": \"x10\", \"y\": [1.0877763543248875e-06, 0, 0, 0, 0.06353140622377396, 0.6602994203567505, 1.2556695938110352, 1.4364361763000488], \"yaxis\": \"y10\"}, {\"marker\": {\"color\": \"rgb(60,179,113)\"}, \"name\": \"aerosol\", \"showlegend\": true, \"type\": \"bar\", \"x\": [\"-4\", \"-3\", \"-2\", \"-1\", \"0\", \"1\", \"2\", \"3\"], \"xaxis\": \"x11\", \"y\": [0.19590185582637787, 0, 0, 0, 2.458096742630005, 6.757702827453613, 2.8208723068237305, 0.3858834505081177], \"yaxis\": \"y11\"}, {\"marker\": {\"color\": \"rgb(255,255,102)\"}, \"name\": \"gas\", \"showlegend\": true, \"type\": \"bar\", \"x\": [\"-4\", \"-3\", \"-2\", \"-1\", \"0\", \"1\", \"2\", \"3\"], \"xaxis\": \"x11\", \"y\": [5.805317755402939e-07, 0, 0, 0, 0.03320518508553505, 0.6686449646949768, 2.127493381500244, 2.857853889465332], \"yaxis\": \"y11\"}, {\"marker\": {\"color\": \"rgb(60,179,113)\"}, \"name\": \"aerosol\", \"showlegend\": false, \"type\": \"bar\", \"x\": [\"-4\", \"-3\", \"-2\", \"-1\", \"0\", \"1\", \"2\", \"3\"], \"xaxis\": \"x12\", \"y\": [0.2180168330669403, 0, 0, 0, 3.6345114707946777, 11.90650463104248, 4.36271858215332, 0.4516470432281494], \"yaxis\": \"y12\"}, {\"marker\": {\"color\": \"rgb(255,255,102)\"}, \"name\": \"gas\", \"showlegend\": false, \"type\": \"bar\", \"x\": [\"-4\", \"-3\", \"-2\", \"-1\", \"0\", \"1\", \"2\", \"3\"], \"xaxis\": \"x12\", \"y\": [4.665850781293557e-07, 0, 0, 0, 0.04441608488559723, 1.0933425426483154, 2.9048757553100586, 2.716108560562134], \"yaxis\": \"y12\"}],\n",
       "                        {\"annotations\": [{\"align\": \"left\", \"font\": {\"color\": \"black\", \"size\": 20}, \"showarrow\": false, \"text\": \"(a)\", \"x\": 0.265, \"xref\": \"paper\", \"y\": 0.99, \"yref\": \"paper\"}, {\"align\": \"left\", \"font\": {\"color\": \"black\", \"size\": 20}, \"showarrow\": false, \"text\": \"(b)\", \"x\": 0.63, \"xref\": \"paper\", \"y\": 0.99, \"yref\": \"paper\"}, {\"align\": \"left\", \"font\": {\"color\": \"black\", \"size\": 20}, \"showarrow\": false, \"text\": \"(c)\", \"x\": 0.99, \"xref\": \"paper\", \"y\": 0.99, \"yref\": \"paper\"}, {\"align\": \"left\", \"font\": {\"color\": \"black\", \"size\": 20}, \"showarrow\": false, \"text\": \"(d)\", \"x\": 0.265, \"xref\": \"paper\", \"y\": 0.73, \"yref\": \"paper\"}, {\"align\": \"left\", \"font\": {\"color\": \"black\", \"size\": 20}, \"showarrow\": false, \"text\": \"(e)\", \"x\": 0.63, \"xref\": \"paper\", \"y\": 0.73, \"yref\": \"paper\"}, {\"align\": \"left\", \"font\": {\"color\": \"black\", \"size\": 20}, \"showarrow\": false, \"text\": \"(f)\", \"x\": 0.99, \"xref\": \"paper\", \"y\": 0.73, \"yref\": \"paper\"}, {\"align\": \"left\", \"font\": {\"color\": \"black\", \"size\": 20}, \"showarrow\": false, \"text\": \"(g)\", \"x\": 0.265, \"xref\": \"paper\", \"y\": 0.45, \"yref\": \"paper\"}, {\"align\": \"left\", \"font\": {\"color\": \"black\", \"size\": 20}, \"showarrow\": false, \"text\": \"(h)\", \"x\": 0.63, \"xref\": \"paper\", \"y\": 0.45, \"yref\": \"paper\"}, {\"align\": \"left\", \"font\": {\"color\": \"black\", \"size\": 20}, \"showarrow\": false, \"text\": \"(i)\", \"x\": 0.99, \"xref\": \"paper\", \"y\": 0.45, \"yref\": \"paper\"}, {\"align\": \"left\", \"font\": {\"color\": \"black\", \"size\": 20}, \"showarrow\": false, \"text\": \"(j)\", \"x\": 0.265, \"xref\": \"paper\", \"y\": 0.17, \"yref\": \"paper\"}, {\"align\": \"left\", \"font\": {\"color\": \"black\", \"size\": 20}, \"showarrow\": false, \"text\": \"(k)\", \"x\": 0.63, \"xref\": \"paper\", \"y\": 0.17, \"yref\": \"paper\"}, {\"align\": \"left\", \"font\": {\"color\": \"black\", \"size\": 20}, \"showarrow\": false, \"text\": \"(l)\", \"x\": 0.99, \"xref\": \"paper\", \"y\": 0.17, \"yref\": \"paper\"}, {\"font\": {\"size\": 100}, \"showarrow\": false, \"text\": \"$Organic \\\\ Mass \\\\ (\\\\mu g \\\\ m^{-3})$\", \"textangle\": -90, \"x\": -0.07, \"xref\": \"paper\", \"y\": 0.5, \"yref\": \"paper\"}, {\"font\": {\"size\": 100}, \"showarrow\": false, \"text\": \"$log_{10}(C^*)$\", \"x\": 0.5, \"xref\": \"paper\", \"y\": -0.06, \"yref\": \"paper\"}, {\"font\": {\"size\": 20}, \"showarrow\": false, \"text\": \"UPPER\", \"x\": 0.12, \"xref\": \"paper\", \"y\": 1.05, \"yref\": \"paper\"}, {\"font\": {\"size\": 20}, \"showarrow\": false, \"text\": \"MIDDLE\", \"x\": 0.5, \"xref\": \"paper\", \"y\": 1.05, \"yref\": \"paper\"}, {\"font\": {\"size\": 20}, \"showarrow\": false, \"text\": \"LOWER\", \"x\": 0.9, \"xref\": \"paper\", \"y\": 1.05, \"yref\": \"paper\"}, {\"font\": {\"size\": 20}, \"showarrow\": false, \"text\": \"PRE-MONSOON\", \"textangle\": 90, \"x\": 1.05, \"xref\": \"paper\", \"y\": 0.985, \"yref\": \"paper\"}, {\"font\": {\"size\": 20}, \"showarrow\": false, \"text\": \"MONSOON\", \"textangle\": 90, \"x\": 1.05, \"xref\": \"paper\", \"y\": 0.7, \"yref\": \"paper\"}, {\"font\": {\"size\": 20}, \"showarrow\": false, \"text\": \"POST-MONSOON\", \"textangle\": 90, \"x\": 1.05, \"xref\": \"paper\", \"y\": 0.27, \"yref\": \"paper\"}, {\"font\": {\"size\": 20}, \"showarrow\": false, \"text\": \"WINTER\", \"textangle\": 90, \"x\": 1.05, \"xref\": \"paper\", \"y\": 0.07, \"yref\": \"paper\"}], \"autosize\": false, \"barmode\": \"stack\", \"font\": {\"size\": 20}, \"height\": 1000, \"legend\": {\"font\": {\"size\": 23}, \"orientation\": \"h\", \"x\": 0.4}, \"template\": {\"data\": {\"bar\": [{\"error_x\": {\"color\": \"#2a3f5f\"}, \"error_y\": {\"color\": \"#2a3f5f\"}, \"marker\": {\"line\": {\"color\": \"#E5ECF6\", \"width\": 0.5}}, \"type\": \"bar\"}], \"barpolar\": [{\"marker\": {\"line\": {\"color\": \"#E5ECF6\", \"width\": 0.5}}, \"type\": \"barpolar\"}], \"carpet\": [{\"aaxis\": {\"endlinecolor\": \"#2a3f5f\", \"gridcolor\": \"white\", \"linecolor\": \"white\", \"minorgridcolor\": \"white\", \"startlinecolor\": \"#2a3f5f\"}, \"baxis\": {\"endlinecolor\": \"#2a3f5f\", \"gridcolor\": \"white\", \"linecolor\": \"white\", \"minorgridcolor\": \"white\", \"startlinecolor\": \"#2a3f5f\"}, \"type\": \"carpet\"}], \"choropleth\": [{\"colorbar\": {\"outlinewidth\": 0, \"ticks\": \"\"}, \"type\": \"choropleth\"}], \"contour\": [{\"colorbar\": {\"outlinewidth\": 0, \"ticks\": \"\"}, \"colorscale\": [[0.0, \"#0d0887\"], [0.1111111111111111, \"#46039f\"], [0.2222222222222222, \"#7201a8\"], [0.3333333333333333, \"#9c179e\"], [0.4444444444444444, \"#bd3786\"], [0.5555555555555556, \"#d8576b\"], [0.6666666666666666, \"#ed7953\"], [0.7777777777777778, \"#fb9f3a\"], [0.8888888888888888, \"#fdca26\"], [1.0, \"#f0f921\"]], \"type\": \"contour\"}], \"contourcarpet\": [{\"colorbar\": {\"outlinewidth\": 0, \"ticks\": \"\"}, \"type\": \"contourcarpet\"}], \"heatmap\": [{\"colorbar\": {\"outlinewidth\": 0, \"ticks\": \"\"}, \"colorscale\": [[0.0, \"#0d0887\"], [0.1111111111111111, \"#46039f\"], [0.2222222222222222, \"#7201a8\"], [0.3333333333333333, \"#9c179e\"], [0.4444444444444444, \"#bd3786\"], [0.5555555555555556, \"#d8576b\"], [0.6666666666666666, \"#ed7953\"], [0.7777777777777778, \"#fb9f3a\"], [0.8888888888888888, \"#fdca26\"], [1.0, \"#f0f921\"]], \"type\": \"heatmap\"}], \"heatmapgl\": [{\"colorbar\": {\"outlinewidth\": 0, \"ticks\": \"\"}, \"colorscale\": [[0.0, \"#0d0887\"], [0.1111111111111111, \"#46039f\"], [0.2222222222222222, \"#7201a8\"], [0.3333333333333333, \"#9c179e\"], [0.4444444444444444, \"#bd3786\"], [0.5555555555555556, \"#d8576b\"], [0.6666666666666666, \"#ed7953\"], [0.7777777777777778, \"#fb9f3a\"], [0.8888888888888888, \"#fdca26\"], [1.0, \"#f0f921\"]], \"type\": \"heatmapgl\"}], \"histogram\": [{\"marker\": {\"colorbar\": {\"outlinewidth\": 0, \"ticks\": \"\"}}, \"type\": \"histogram\"}], \"histogram2d\": [{\"colorbar\": {\"outlinewidth\": 0, \"ticks\": \"\"}, \"colorscale\": [[0.0, \"#0d0887\"], [0.1111111111111111, \"#46039f\"], [0.2222222222222222, \"#7201a8\"], [0.3333333333333333, \"#9c179e\"], [0.4444444444444444, \"#bd3786\"], [0.5555555555555556, \"#d8576b\"], [0.6666666666666666, \"#ed7953\"], [0.7777777777777778, \"#fb9f3a\"], [0.8888888888888888, \"#fdca26\"], [1.0, \"#f0f921\"]], \"type\": \"histogram2d\"}], \"histogram2dcontour\": [{\"colorbar\": {\"outlinewidth\": 0, \"ticks\": \"\"}, \"colorscale\": [[0.0, \"#0d0887\"], [0.1111111111111111, \"#46039f\"], [0.2222222222222222, \"#7201a8\"], [0.3333333333333333, \"#9c179e\"], [0.4444444444444444, \"#bd3786\"], [0.5555555555555556, \"#d8576b\"], [0.6666666666666666, \"#ed7953\"], [0.7777777777777778, \"#fb9f3a\"], [0.8888888888888888, \"#fdca26\"], [1.0, \"#f0f921\"]], \"type\": \"histogram2dcontour\"}], \"mesh3d\": [{\"colorbar\": {\"outlinewidth\": 0, \"ticks\": \"\"}, \"type\": \"mesh3d\"}], \"parcoords\": [{\"line\": {\"colorbar\": {\"outlinewidth\": 0, \"ticks\": \"\"}}, \"type\": \"parcoords\"}], \"pie\": [{\"automargin\": true, \"type\": \"pie\"}], \"scatter\": [{\"marker\": {\"colorbar\": {\"outlinewidth\": 0, \"ticks\": \"\"}}, \"type\": \"scatter\"}], \"scatter3d\": [{\"line\": {\"colorbar\": {\"outlinewidth\": 0, \"ticks\": \"\"}}, \"marker\": {\"colorbar\": {\"outlinewidth\": 0, \"ticks\": \"\"}}, \"type\": \"scatter3d\"}], \"scattercarpet\": [{\"marker\": {\"colorbar\": {\"outlinewidth\": 0, \"ticks\": \"\"}}, \"type\": \"scattercarpet\"}], \"scattergeo\": [{\"marker\": {\"colorbar\": {\"outlinewidth\": 0, \"ticks\": \"\"}}, \"type\": \"scattergeo\"}], \"scattergl\": [{\"marker\": {\"colorbar\": {\"outlinewidth\": 0, \"ticks\": \"\"}}, \"type\": \"scattergl\"}], \"scattermapbox\": [{\"marker\": {\"colorbar\": {\"outlinewidth\": 0, \"ticks\": \"\"}}, \"type\": \"scattermapbox\"}], \"scatterpolar\": [{\"marker\": {\"colorbar\": {\"outlinewidth\": 0, \"ticks\": \"\"}}, \"type\": \"scatterpolar\"}], \"scatterpolargl\": [{\"marker\": {\"colorbar\": {\"outlinewidth\": 0, \"ticks\": \"\"}}, \"type\": \"scatterpolargl\"}], \"scatterternary\": [{\"marker\": {\"colorbar\": {\"outlinewidth\": 0, \"ticks\": \"\"}}, \"type\": \"scatterternary\"}], \"surface\": [{\"colorbar\": {\"outlinewidth\": 0, \"ticks\": \"\"}, \"colorscale\": [[0.0, \"#0d0887\"], [0.1111111111111111, \"#46039f\"], [0.2222222222222222, \"#7201a8\"], [0.3333333333333333, \"#9c179e\"], [0.4444444444444444, \"#bd3786\"], [0.5555555555555556, \"#d8576b\"], [0.6666666666666666, \"#ed7953\"], [0.7777777777777778, \"#fb9f3a\"], [0.8888888888888888, \"#fdca26\"], [1.0, \"#f0f921\"]], \"type\": \"surface\"}], \"table\": [{\"cells\": {\"fill\": {\"color\": \"#EBF0F8\"}, \"line\": {\"color\": \"white\"}}, \"header\": {\"fill\": {\"color\": \"#C8D4E3\"}, \"line\": {\"color\": \"white\"}}, \"type\": \"table\"}]}, \"layout\": {\"annotationdefaults\": {\"arrowcolor\": \"#2a3f5f\", \"arrowhead\": 0, \"arrowwidth\": 1}, \"coloraxis\": {\"colorbar\": {\"outlinewidth\": 0, \"ticks\": \"\"}}, \"colorscale\": {\"diverging\": [[0, \"#8e0152\"], [0.1, \"#c51b7d\"], [0.2, \"#de77ae\"], [0.3, \"#f1b6da\"], [0.4, \"#fde0ef\"], [0.5, \"#f7f7f7\"], [0.6, \"#e6f5d0\"], [0.7, \"#b8e186\"], [0.8, \"#7fbc41\"], [0.9, \"#4d9221\"], [1, \"#276419\"]], \"sequential\": [[0.0, \"#0d0887\"], [0.1111111111111111, \"#46039f\"], [0.2222222222222222, \"#7201a8\"], [0.3333333333333333, \"#9c179e\"], [0.4444444444444444, \"#bd3786\"], [0.5555555555555556, \"#d8576b\"], [0.6666666666666666, \"#ed7953\"], [0.7777777777777778, \"#fb9f3a\"], [0.8888888888888888, \"#fdca26\"], [1.0, \"#f0f921\"]], \"sequentialminus\": [[0.0, \"#0d0887\"], [0.1111111111111111, \"#46039f\"], [0.2222222222222222, \"#7201a8\"], [0.3333333333333333, \"#9c179e\"], [0.4444444444444444, \"#bd3786\"], [0.5555555555555556, \"#d8576b\"], [0.6666666666666666, \"#ed7953\"], [0.7777777777777778, \"#fb9f3a\"], [0.8888888888888888, \"#fdca26\"], [1.0, \"#f0f921\"]]}, \"colorway\": [\"#636efa\", \"#EF553B\", \"#00cc96\", \"#ab63fa\", \"#FFA15A\", \"#19d3f3\", \"#FF6692\", \"#B6E880\", \"#FF97FF\", \"#FECB52\"], \"font\": {\"color\": \"#2a3f5f\"}, \"geo\": {\"bgcolor\": \"white\", \"lakecolor\": \"white\", \"landcolor\": \"#E5ECF6\", \"showlakes\": true, \"showland\": true, \"subunitcolor\": \"white\"}, \"hoverlabel\": {\"align\": \"left\"}, \"hovermode\": \"closest\", \"mapbox\": {\"style\": \"light\"}, \"paper_bgcolor\": \"white\", \"plot_bgcolor\": \"#E5ECF6\", \"polar\": {\"angularaxis\": {\"gridcolor\": \"white\", \"linecolor\": \"white\", \"ticks\": \"\"}, \"bgcolor\": \"#E5ECF6\", \"radialaxis\": {\"gridcolor\": \"white\", \"linecolor\": \"white\", \"ticks\": \"\"}}, \"scene\": {\"xaxis\": {\"backgroundcolor\": \"#E5ECF6\", \"gridcolor\": \"white\", \"gridwidth\": 2, \"linecolor\": \"white\", \"showbackground\": true, \"ticks\": \"\", \"zerolinecolor\": \"white\"}, \"yaxis\": {\"backgroundcolor\": \"#E5ECF6\", \"gridcolor\": \"white\", \"gridwidth\": 2, \"linecolor\": \"white\", \"showbackground\": true, \"ticks\": \"\", \"zerolinecolor\": \"white\"}, \"zaxis\": {\"backgroundcolor\": \"#E5ECF6\", \"gridcolor\": \"white\", \"gridwidth\": 2, \"linecolor\": \"white\", \"showbackground\": true, \"ticks\": \"\", \"zerolinecolor\": \"white\"}}, \"shapedefaults\": {\"line\": {\"color\": \"#2a3f5f\"}}, \"ternary\": {\"aaxis\": {\"gridcolor\": \"white\", \"linecolor\": \"white\", \"ticks\": \"\"}, \"baxis\": {\"gridcolor\": \"white\", \"linecolor\": \"white\", \"ticks\": \"\"}, \"bgcolor\": \"#E5ECF6\", \"caxis\": {\"gridcolor\": \"white\", \"linecolor\": \"white\", \"ticks\": \"\"}}, \"title\": {\"x\": 0.05}, \"xaxis\": {\"automargin\": true, \"gridcolor\": \"white\", \"linecolor\": \"white\", \"ticks\": \"\", \"title\": {\"standoff\": 15}, \"zerolinecolor\": \"white\", \"zerolinewidth\": 2}, \"yaxis\": {\"automargin\": true, \"gridcolor\": \"white\", \"linecolor\": \"white\", \"ticks\": \"\", \"title\": {\"standoff\": 15}, \"zerolinecolor\": \"white\", \"zerolinewidth\": 2}}}, \"width\": 1000, \"xaxis\": {\"anchor\": \"y\", \"domain\": [0.0, 0.3133333333333333], \"matches\": \"x10\", \"showticklabels\": false}, \"xaxis10\": {\"anchor\": \"y10\", \"domain\": [0.0, 0.3133333333333333]}, \"xaxis11\": {\"anchor\": \"y11\", \"domain\": [0.34333333333333327, 0.6566666666666665]}, \"xaxis12\": {\"anchor\": \"y12\", \"domain\": [0.6866666666666665, 0.9999999999999998]}, \"xaxis2\": {\"anchor\": \"y2\", \"domain\": [0.34333333333333327, 0.6566666666666665], \"matches\": \"x11\", \"showticklabels\": false}, \"xaxis3\": {\"anchor\": \"y3\", \"domain\": [0.6866666666666665, 0.9999999999999998], \"matches\": \"x12\", \"showticklabels\": false}, \"xaxis4\": {\"anchor\": \"y4\", \"domain\": [0.0, 0.3133333333333333], \"matches\": \"x10\", \"showticklabels\": false}, \"xaxis5\": {\"anchor\": \"y5\", \"domain\": [0.34333333333333327, 0.6566666666666665], \"matches\": \"x11\", \"showticklabels\": false}, \"xaxis6\": {\"anchor\": \"y6\", \"domain\": [0.6866666666666665, 0.9999999999999998], \"matches\": \"x12\", \"showticklabels\": false}, \"xaxis7\": {\"anchor\": \"y7\", \"domain\": [0.0, 0.3133333333333333], \"matches\": \"x10\", \"showticklabels\": false}, \"xaxis8\": {\"anchor\": \"y8\", \"domain\": [0.34333333333333327, 0.6566666666666665], \"matches\": \"x11\", \"showticklabels\": false}, \"xaxis9\": {\"anchor\": \"y9\", \"domain\": [0.6866666666666665, 0.9999999999999998], \"matches\": \"x12\", \"showticklabels\": false}, \"yaxis\": {\"anchor\": \"x\", \"domain\": [0.78, 1.0], \"range\": [0, 15]}, \"yaxis10\": {\"anchor\": \"x10\", \"domain\": [0.0, 0.22], \"range\": [0, 15]}, \"yaxis11\": {\"anchor\": \"x11\", \"domain\": [0.0, 0.22], \"matches\": \"y10\", \"range\": [0, 15], \"showticklabels\": false}, \"yaxis12\": {\"anchor\": \"x12\", \"domain\": [0.0, 0.22], \"matches\": \"y10\", \"range\": [0, 15], \"showticklabels\": false}, \"yaxis2\": {\"anchor\": \"x2\", \"domain\": [0.78, 1.0], \"matches\": \"y\", \"range\": [0, 15], \"showticklabels\": false}, \"yaxis3\": {\"anchor\": \"x3\", \"domain\": [0.78, 1.0], \"matches\": \"y\", \"range\": [0, 15], \"showticklabels\": false}, \"yaxis4\": {\"anchor\": \"x4\", \"domain\": [0.52, 0.74], \"range\": [0, 15]}, \"yaxis5\": {\"anchor\": \"x5\", \"domain\": [0.52, 0.74], \"matches\": \"y4\", \"range\": [0, 15], \"showticklabels\": false}, \"yaxis6\": {\"anchor\": \"x6\", \"domain\": [0.52, 0.74], \"matches\": \"y4\", \"range\": [0, 15], \"showticklabels\": false}, \"yaxis7\": {\"anchor\": \"x7\", \"domain\": [0.26, 0.48], \"range\": [0, 15]}, \"yaxis8\": {\"anchor\": \"x8\", \"domain\": [0.26, 0.48], \"matches\": \"y7\", \"range\": [0, 15], \"showticklabels\": false}, \"yaxis9\": {\"anchor\": \"x9\", \"domain\": [0.26, 0.48], \"matches\": \"y7\", \"range\": [0, 15], \"showticklabels\": false}},\n",
       "                        {\"responsive\": true}\n",
       "                    ).then(function(){\n",
       "                            \n",
       "var gd = document.getElementById('7827a384-0a91-48b4-b746-81e61ad9009a');\n",
       "var x = new MutationObserver(function (mutations, observer) {{\n",
       "        var display = window.getComputedStyle(gd).display;\n",
       "        if (!display || display === 'none') {{\n",
       "            console.log([gd, 'removed!']);\n",
       "            Plotly.purge(gd);\n",
       "            observer.disconnect();\n",
       "        }}\n",
       "}});\n",
       "\n",
       "// Listen for the removal of the full notebook cells\n",
       "var notebookContainer = gd.closest('#notebook-container');\n",
       "if (notebookContainer) {{\n",
       "    x.observe(notebookContainer, {childList: true});\n",
       "}}\n",
       "\n",
       "// Listen for the clearing of the current output cell\n",
       "var outputEl = gd.closest('.output');\n",
       "if (outputEl) {{\n",
       "    x.observe(outputEl, {childList: true});\n",
       "}}\n",
       "\n",
       "                        })\n",
       "                };\n",
       "                });\n",
       "            </script>\n",
       "        </div>"
      ]
     },
     "metadata": {},
     "output_type": "display_data"
    }
   ],
   "source": [
    "#DEFINE PLOT FUNCTION AND PLOT\n",
    "import plotly.graph_objects as go\n",
    "from plotly.subplots import make_subplots\n",
    "import plotly.io as pio\n",
    "pio.orca.config.use_xvfb = True\n",
    "\n",
    "def plot_vbs(vbs,row,col,letter,x,y):\n",
    "    fig.add_trace(go.Bar(name='aerosol', x=bins,  y=[ vbs[0,0], 0, 0, 0, vbs[0,1],vbs[0,2],vbs[0,3],vbs[0,4]], marker_color=\"rgb(60,179,113)\"),row=row,col=col)\n",
    "    fig.add_trace(go.Bar(name='gas', x=bins,  y=[vbs[1,0],0,0,0,vbs[1,1],vbs[1,2],vbs[1,3],vbs[1,4]], marker_color=\"rgb(255,255,102)\"),row=row,col=col)\n",
    "    fig.add_annotation(\n",
    "        x=x, #0.74,\n",
    "        y=y, #0.98,\n",
    "        xref=\"paper\",\n",
    "        yref=\"paper\",\n",
    "        text=letter,\n",
    "        showarrow=False,\n",
    "        font=dict(\n",
    "            size=20,\n",
    "            color=\"black\"\n",
    "        ),\n",
    "        align=\"left\",\n",
    "        )\n",
    "\n",
    "\n",
    "bins=['-4','-3','-2','-1', '0', '1','2', \"3\"]\n",
    "fig = make_subplots(rows=4, cols=3,shared_yaxes=True,shared_xaxes=True,\n",
    "                     horizontal_spacing = 0.03,vertical_spacing = 0.04)\n",
    "col1_x=0.265\n",
    "col2_x=0.630\n",
    "col3_x=0.990\n",
    "\n",
    "row1_y=0.99\n",
    "row2_y=0.73\n",
    "row3_y=0.45\n",
    "row4_y=0.17\n",
    "\n",
    "for i in fig['layout']['annotations']:\n",
    "    i['font'] = dict(size=1)\n",
    "plot_vbs(pmu_vbs,1,1,\"(a)\",col1_x,row1_y)\n",
    "plot_vbs(pmm_vbs,1,2,\"(b)\",col2_x,row1_y)\n",
    "plot_vbs(pml_vbs,1,3,\"(c)\",col3_x,row1_y)\n",
    "plot_vbs(mu_vbs,2,1,\"(d)\",col1_x,row2_y)\n",
    "plot_vbs(mm_vbs,2,2,\"(e)\",col2_x,row2_y)\n",
    "plot_vbs(ml_vbs,2,3,\"(f)\",col3_x,row2_y)\n",
    "plot_vbs(au_vbs,3,1,\"(g)\",col1_x,row3_y)\n",
    "plot_vbs(am_vbs,3,2,\"(h)\",col2_x,row3_y)\n",
    "plot_vbs(al_vbs,3,3,\"(i)\",col3_x,row3_y)\n",
    "plot_vbs(wu_vbs,4,1,\"(j)\",col1_x,row4_y)\n",
    "plot_vbs(wm_vbs,4,2,\"(k)\",col2_x,row4_y)\n",
    "plot_vbs(wl_vbs,4,3,\"(l)\",col3_x,row4_y)\n",
    "\n",
    "\n",
    "# Change the bar mode\n",
    "fig.update_layout(barmode='stack')\n",
    "\n",
    "fig.update_traces(showlegend=False)\n",
    "fig.update_traces(showlegend=True, row=4, col=2)\n",
    "\n",
    "fig.add_annotation(dict(text=\"$Organic \\ Mass \\ (\\mu g \\ m^{-3})$\", x=-0.07, y=0.5,  xref=\"paper\", yref=\"paper\",font_size=100, showarrow=False,textangle=-90))\n",
    "fig.add_annotation(dict(text=\"$log_{10}(C^*)$\", x=0.5, y=-0.06,  xref=\"paper\", yref=\"paper\",font_size=100, showarrow=False))\n",
    "\n",
    "\n",
    "\n",
    "fig.add_annotation(dict(text='UPPER', x=0.12, y=1.05, xref=\"paper\", yref=\"paper\",font_size=20, showarrow=False))\n",
    "fig.add_annotation(dict(text='MIDDLE', x=0.5, y=1.05,  xref=\"paper\", yref=\"paper\",font_size=20, showarrow=False))\n",
    "fig.add_annotation(dict(text='LOWER', x=0.9, y=1.05,  xref=\"paper\", yref=\"paper\",font_size=20, showarrow=False))\n",
    "\n",
    "\n",
    "fig.add_annotation(dict(text='PRE-MONSOON', x=1.05, y=0.985,  xref=\"paper\", yref=\"paper\",font_size=20, showarrow=False,textangle=+90))\n",
    "fig.add_annotation(dict(text='MONSOON', x=1.05, y=0.7,  xref=\"paper\", yref=\"paper\",font_size=20, showarrow=False,textangle=+90))\n",
    "fig.add_annotation(dict(text='POST-MONSOON', x=1.05, y=0.27,  xref=\"paper\", yref=\"paper\",font_size=20, showarrow=False,textangle=+90))\n",
    "fig.add_annotation(dict(text='WINTER', x=1.05, y=0.07,  xref=\"paper\", yref=\"paper\",font_size=20, showarrow=False,textangle=+90))\n",
    "\n",
    "fig.update_layout(legend=dict(\n",
    "    orientation=\"h\",\n",
    "    x=0.4,\n",
    "    font=dict(\n",
    "        #amily=\"Courier New, monospace\",\n",
    "        size=23\n",
    "        #olor=\"#7f7f7f\"\n",
    "    )),font_size=20)\n",
    "fig.update_yaxes(range=[0,15])\n",
    "fig.update_layout(\n",
    "    autosize=False,\n",
    "    width=1000,\n",
    "    height=1000)\n",
    "fig.show()\n",
    "fig.write_image('fig08.pdf')"
   ]
  },
  {
   "cell_type": "code",
   "execution_count": null,
   "metadata": {},
   "outputs": [],
   "source": []
  }
 ],
 "metadata": {
  "kernelspec": {
   "display_name": "Python 3",
   "language": "python",
   "name": "python3"
  },
  "language_info": {
   "codemirror_mode": {
    "name": "ipython",
    "version": 3
   },
   "file_extension": ".py",
   "mimetype": "text/x-python",
   "name": "python",
   "nbconvert_exporter": "python",
   "pygments_lexer": "ipython3",
   "version": "3.8.2"
  }
 },
 "nbformat": 4,
 "nbformat_minor": 2
}
