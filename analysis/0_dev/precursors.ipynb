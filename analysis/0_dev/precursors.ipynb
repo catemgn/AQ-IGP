{
 "cells": [
  {
   "cell_type": "code",
   "execution_count": 1,
   "metadata": {},
   "outputs": [],
   "source": [
    "#import modules\n",
    "import xarray as xr\n",
    "import numpy as np\n",
    "import pandas as pd\n",
    "import salem\n",
    "import plotly.graph_objects as go\n",
    "\n",
    "import sys\n",
    "sys.path.append('/exports/csce/datastore/geos/users/s1878599/python_code/')\n",
    "from WRFChemToolkit.analysis import aerosols_202 as aer, plots as pt, statistics as st, IGP as igp\n",
    "\n",
    "import warnings\n",
    "warnings.filterwarnings('ignore')"
   ]
  },
  {
   "cell_type": "code",
   "execution_count": 2,
   "metadata": {},
   "outputs": [],
   "source": [
    "#Get IGP data for each season\n",
    "#Get IGP data for each season\n",
    "aut_pth='/geos/d21/s1878599/IGP/sims_0304_2020/outputs/autumn/base/wrfout*.nc'\n",
    "win_pth='/geos/d21/s1878599/IGP/sims_0304_2020/outputs/winter/wrfout*.nc'\n",
    "mon_pth='/geos/d21/s1878599/IGP/sims_0304_2020/outputs/monsoon/wrfout*.nc'\n",
    "pmon_pth='/geos/d21/s1878599/IGP/sims_0304_2020/outputs/premonsoon/wrfout*'\n",
    "\n",
    "shp_path =  '/exports/csce/datastore/geos/users/s1878599//python_code/gadm_data/IGP/IGP.shp'\n",
    "\n",
    "aIGP =igp.get_IGP(aut_pth, shp_path)\n",
    "wIGP =igp.get_IGP(win_pth, shp_path)\n",
    "mIGP =igp.get_IGP(mon_pth, shp_path)\n",
    "pmIGP =igp.get_IGP(pmon_pth, shp_path)"
   ]
  },
  {
   "cell_type": "code",
   "execution_count": 3,
   "metadata": {},
   "outputs": [],
   "source": [
    "#Get time and space vars for each IGP administration\n",
    "\n",
    "def get_tsm_IGP(dict):\n",
    "    tsaer_IGP={}\n",
    "    for adm, val in dict.items():\n",
    "        tsaer_IGP.update({adm : st.space_mean(st.time_mean(val,\"time\"))})\n",
    "    return tsaer_IGP"
   ]
  },
  {
   "cell_type": "code",
   "execution_count": 4,
   "metadata": {},
   "outputs": [],
   "source": [
    "a= get_tsm_IGP(aIGP)\n",
    "w= get_tsm_IGP(wIGP)\n",
    "m= get_tsm_IGP(mIGP)\n",
    "pm= get_tsm_IGP(pmIGP)"
   ]
  },
  {
   "cell_type": "code",
   "execution_count": 5,
   "metadata": {},
   "outputs": [],
   "source": [
    "#Get time vars for each IGP administration\n",
    "\n",
    "def get_tm_IGP(dict):\n",
    "    t_IGP={}\n",
    "    for adm, val in dict.items():\n",
    "        t_IGP.update({adm : st.time_mean(val,\"time\")})\n",
    "    return t_IGP"
   ]
  },
  {
   "cell_type": "code",
   "execution_count": 24,
   "metadata": {},
   "outputs": [],
   "source": [
    "at= get_tm_IGP(aIGP)\n",
    "wt= get_tm_IGP(wIGP)\n",
    "mt= get_tm_IGP(mIGP)\n",
    "pmt= get_tm_IGP(pmIGP)"
   ]
  },
  {
   "cell_type": "code",
   "execution_count": 7,
   "metadata": {},
   "outputs": [],
   "source": [
    "#define precurors classes\n",
    "\n",
    "def get_aromatics(d):\n",
    "    for adm, val in d.items():\n",
    "        val[\"arom\"]=val.tol + val.benzene + val.xyl    \n",
    "        val.arom.attrs[\"units\"] =\"ppmv\"\n",
    "    \n",
    "def get_monoterpenes(d):\n",
    "    for adm, val in d.items():\n",
    "        val[\"monot\"]=val.apin + val.bpin + val.limon  \n",
    "        val.monot.attrs[\"units\"] =\"ppmv\"\n",
    "    \n",
    "def get_nox(d):\n",
    "    for adm, val in d.items():\n",
    "        val[\"nox\"]=val.no + val.no2 \n",
    "        val.nox.attrs[\"units\"] =\"ppmv\"\n"
   ]
  },
  {
   "cell_type": "code",
   "execution_count": 8,
   "metadata": {},
   "outputs": [],
   "source": [
    "#get surface values \n",
    "def get_sval(d, vname):\n",
    "    sval={}\n",
    "    for adm, val in d.items():\n",
    "         sval.update({adm : val[vname].values[0]})\n",
    "    return sval"
   ]
  },
  {
   "cell_type": "code",
   "execution_count": 9,
   "metadata": {},
   "outputs": [],
   "source": [
    "get_nox(m)\n",
    "get_nox(pm)\n",
    "get_nox(a)\n",
    "get_nox(w)\n",
    "\n",
    "nox_m =get_sval(m,\"nox\")\n",
    "nox_a =get_sval(a,\"nox\")\n",
    "nox_w =get_sval(w,\"nox\")\n",
    "nox_pm =get_sval(pm,\"nox\")\n"
   ]
  },
  {
   "cell_type": "code",
   "execution_count": 25,
   "metadata": {},
   "outputs": [],
   "source": [
    "get_nox(mt)\n",
    "get_nox(pmt)\n",
    "get_nox(at)\n",
    "get_nox(wt)"
   ]
  },
  {
   "cell_type": "code",
   "execution_count": null,
   "metadata": {},
   "outputs": [],
   "source": [
    "# Get precursors values \n",
    "\n",
    "#mmono_u=get_sval(mt,\"monot\")\n",
    "#maro_u=get_sval(mt,\"arom\")\n",
    "#malk_u=get_sval(mt,\"bigalk\")\n",
    "#mene_u=get_sval(mt,\"bigene\")\n",
    "#misop_u=get_sval(mt,\"isopr\")"
   ]
  },
  {
   "cell_type": "code",
   "execution_count": 10,
   "metadata": {
    "scrolled": false
   },
   "outputs": [],
   "source": [
    "def plot_precursors(pm,m,a,w,title,colors,ylabel=\"ppmv\",sf=1):\n",
    "\n",
    "    data = {\n",
    "    \"upper\":[pm[\"U_IGP\"]*sf,m[\"U_IGP\"]*sf,a[\"U_IGP\"]*sf,w[\"U_IGP\"]*sf],\n",
    "    \"middle\":[pm[\"M_IGP\"]*sf,m[\"M_IGP\"]*sf,a[\"M_IGP\"]*sf,w[\"M_IGP\"]*sf],\n",
    "    \"lower\": [pm[\"L_IGP\"]*sf,m[\"L_IGP\"]*sf,a[\"L_IGP\"]*sf,w[\"L_IGP\"]*sf],\n",
    "    \"labels\": [\n",
    "        \"Premonsoon\",\n",
    "        \"Monsoon\",\n",
    "        \"Autumn\",\n",
    "        \"Winter\",\n",
    "    ]\n",
    "    }\n",
    "\n",
    "    fig = go.Figure(\n",
    "    data=[\n",
    "        go.Bar(\n",
    "            name=\"Upper IGP\",\n",
    "            x=data[\"labels\"],\n",
    "            y=data[\"upper\"],\n",
    "            marker_color=colors[0],            \n",
    "            offsetgroup=0,\n",
    "        ),\n",
    "        go.Bar(\n",
    "            name=\"Middle IGP\",\n",
    "            x=data[\"labels\"],\n",
    "            y=data[\"middle\"],\n",
    "             marker_color= colors[1], \n",
    "            offsetgroup=1,\n",
    "        ),\n",
    "        go.Bar(\n",
    "            name=\"Lower IGP\",\n",
    "            x=data[\"labels\"],\n",
    "            y=data[\"lower\"],\n",
    "            marker_color=colors[2],\n",
    "            offsetgroup=2,\n",
    "        )\n",
    "    ],\n",
    "    layout=go.Layout(\n",
    "        title_text=title, title_x=0.5,\n",
    "        yaxis_title=ylabel\n",
    "    )\n",
    "    )\n",
    "\n",
    "    fig.show()"
   ]
  },
  {
   "cell_type": "code",
   "execution_count": 14,
   "metadata": {
    "scrolled": true
   },
   "outputs": [
    {
     "data": {
      "application/vnd.plotly.v1+json": {
       "config": {
        "plotlyServerURL": "https://plot.ly"
       },
       "data": [
        {
         "marker": {
          "color": "rgb(76,0,153)"
         },
         "name": "Upper IGP",
         "offsetgroup": "0",
         "type": "bar",
         "x": [
          "Premonsoon",
          "Monsoon",
          "Autumn",
          "Winter"
         ],
         "y": [
          9.97232273221016,
          7.907952181994915,
          14.46407288312912,
          16.24433696269989
         ]
        },
        {
         "marker": {
          "color": "rgb(153,0,153)"
         },
         "name": "Middle IGP",
         "offsetgroup": "1",
         "type": "bar",
         "x": [
          "Premonsoon",
          "Monsoon",
          "Autumn",
          "Winter"
         ],
         "y": [
          24.794679135084152,
          16.844086349010468,
          32.57289156317711,
          34.20798480510712
         ]
        },
        {
         "marker": {
          "color": "rgb(178,102,255)"
         },
         "name": "Lower IGP",
         "offsetgroup": "2",
         "type": "bar",
         "x": [
          "Premonsoon",
          "Monsoon",
          "Autumn",
          "Winter"
         ],
         "y": [
          12.782271020114422,
          15.640048310160637,
          22.28631265461445,
          27.605533599853516
         ]
        }
       ],
       "layout": {
        "template": {
         "data": {
          "bar": [
           {
            "error_x": {
             "color": "#2a3f5f"
            },
            "error_y": {
             "color": "#2a3f5f"
            },
            "marker": {
             "line": {
              "color": "#E5ECF6",
              "width": 0.5
             }
            },
            "type": "bar"
           }
          ],
          "barpolar": [
           {
            "marker": {
             "line": {
              "color": "#E5ECF6",
              "width": 0.5
             }
            },
            "type": "barpolar"
           }
          ],
          "carpet": [
           {
            "aaxis": {
             "endlinecolor": "#2a3f5f",
             "gridcolor": "white",
             "linecolor": "white",
             "minorgridcolor": "white",
             "startlinecolor": "#2a3f5f"
            },
            "baxis": {
             "endlinecolor": "#2a3f5f",
             "gridcolor": "white",
             "linecolor": "white",
             "minorgridcolor": "white",
             "startlinecolor": "#2a3f5f"
            },
            "type": "carpet"
           }
          ],
          "choropleth": [
           {
            "colorbar": {
             "outlinewidth": 0,
             "ticks": ""
            },
            "type": "choropleth"
           }
          ],
          "contour": [
           {
            "colorbar": {
             "outlinewidth": 0,
             "ticks": ""
            },
            "colorscale": [
             [
              0,
              "#0d0887"
             ],
             [
              0.1111111111111111,
              "#46039f"
             ],
             [
              0.2222222222222222,
              "#7201a8"
             ],
             [
              0.3333333333333333,
              "#9c179e"
             ],
             [
              0.4444444444444444,
              "#bd3786"
             ],
             [
              0.5555555555555556,
              "#d8576b"
             ],
             [
              0.6666666666666666,
              "#ed7953"
             ],
             [
              0.7777777777777778,
              "#fb9f3a"
             ],
             [
              0.8888888888888888,
              "#fdca26"
             ],
             [
              1,
              "#f0f921"
             ]
            ],
            "type": "contour"
           }
          ],
          "contourcarpet": [
           {
            "colorbar": {
             "outlinewidth": 0,
             "ticks": ""
            },
            "type": "contourcarpet"
           }
          ],
          "heatmap": [
           {
            "colorbar": {
             "outlinewidth": 0,
             "ticks": ""
            },
            "colorscale": [
             [
              0,
              "#0d0887"
             ],
             [
              0.1111111111111111,
              "#46039f"
             ],
             [
              0.2222222222222222,
              "#7201a8"
             ],
             [
              0.3333333333333333,
              "#9c179e"
             ],
             [
              0.4444444444444444,
              "#bd3786"
             ],
             [
              0.5555555555555556,
              "#d8576b"
             ],
             [
              0.6666666666666666,
              "#ed7953"
             ],
             [
              0.7777777777777778,
              "#fb9f3a"
             ],
             [
              0.8888888888888888,
              "#fdca26"
             ],
             [
              1,
              "#f0f921"
             ]
            ],
            "type": "heatmap"
           }
          ],
          "heatmapgl": [
           {
            "colorbar": {
             "outlinewidth": 0,
             "ticks": ""
            },
            "colorscale": [
             [
              0,
              "#0d0887"
             ],
             [
              0.1111111111111111,
              "#46039f"
             ],
             [
              0.2222222222222222,
              "#7201a8"
             ],
             [
              0.3333333333333333,
              "#9c179e"
             ],
             [
              0.4444444444444444,
              "#bd3786"
             ],
             [
              0.5555555555555556,
              "#d8576b"
             ],
             [
              0.6666666666666666,
              "#ed7953"
             ],
             [
              0.7777777777777778,
              "#fb9f3a"
             ],
             [
              0.8888888888888888,
              "#fdca26"
             ],
             [
              1,
              "#f0f921"
             ]
            ],
            "type": "heatmapgl"
           }
          ],
          "histogram": [
           {
            "marker": {
             "colorbar": {
              "outlinewidth": 0,
              "ticks": ""
             }
            },
            "type": "histogram"
           }
          ],
          "histogram2d": [
           {
            "colorbar": {
             "outlinewidth": 0,
             "ticks": ""
            },
            "colorscale": [
             [
              0,
              "#0d0887"
             ],
             [
              0.1111111111111111,
              "#46039f"
             ],
             [
              0.2222222222222222,
              "#7201a8"
             ],
             [
              0.3333333333333333,
              "#9c179e"
             ],
             [
              0.4444444444444444,
              "#bd3786"
             ],
             [
              0.5555555555555556,
              "#d8576b"
             ],
             [
              0.6666666666666666,
              "#ed7953"
             ],
             [
              0.7777777777777778,
              "#fb9f3a"
             ],
             [
              0.8888888888888888,
              "#fdca26"
             ],
             [
              1,
              "#f0f921"
             ]
            ],
            "type": "histogram2d"
           }
          ],
          "histogram2dcontour": [
           {
            "colorbar": {
             "outlinewidth": 0,
             "ticks": ""
            },
            "colorscale": [
             [
              0,
              "#0d0887"
             ],
             [
              0.1111111111111111,
              "#46039f"
             ],
             [
              0.2222222222222222,
              "#7201a8"
             ],
             [
              0.3333333333333333,
              "#9c179e"
             ],
             [
              0.4444444444444444,
              "#bd3786"
             ],
             [
              0.5555555555555556,
              "#d8576b"
             ],
             [
              0.6666666666666666,
              "#ed7953"
             ],
             [
              0.7777777777777778,
              "#fb9f3a"
             ],
             [
              0.8888888888888888,
              "#fdca26"
             ],
             [
              1,
              "#f0f921"
             ]
            ],
            "type": "histogram2dcontour"
           }
          ],
          "mesh3d": [
           {
            "colorbar": {
             "outlinewidth": 0,
             "ticks": ""
            },
            "type": "mesh3d"
           }
          ],
          "parcoords": [
           {
            "line": {
             "colorbar": {
              "outlinewidth": 0,
              "ticks": ""
             }
            },
            "type": "parcoords"
           }
          ],
          "scatter": [
           {
            "marker": {
             "colorbar": {
              "outlinewidth": 0,
              "ticks": ""
             }
            },
            "type": "scatter"
           }
          ],
          "scatter3d": [
           {
            "line": {
             "colorbar": {
              "outlinewidth": 0,
              "ticks": ""
             }
            },
            "marker": {
             "colorbar": {
              "outlinewidth": 0,
              "ticks": ""
             }
            },
            "type": "scatter3d"
           }
          ],
          "scattercarpet": [
           {
            "marker": {
             "colorbar": {
              "outlinewidth": 0,
              "ticks": ""
             }
            },
            "type": "scattercarpet"
           }
          ],
          "scattergeo": [
           {
            "marker": {
             "colorbar": {
              "outlinewidth": 0,
              "ticks": ""
             }
            },
            "type": "scattergeo"
           }
          ],
          "scattergl": [
           {
            "marker": {
             "colorbar": {
              "outlinewidth": 0,
              "ticks": ""
             }
            },
            "type": "scattergl"
           }
          ],
          "scattermapbox": [
           {
            "marker": {
             "colorbar": {
              "outlinewidth": 0,
              "ticks": ""
             }
            },
            "type": "scattermapbox"
           }
          ],
          "scatterpolar": [
           {
            "marker": {
             "colorbar": {
              "outlinewidth": 0,
              "ticks": ""
             }
            },
            "type": "scatterpolar"
           }
          ],
          "scatterpolargl": [
           {
            "marker": {
             "colorbar": {
              "outlinewidth": 0,
              "ticks": ""
             }
            },
            "type": "scatterpolargl"
           }
          ],
          "scatterternary": [
           {
            "marker": {
             "colorbar": {
              "outlinewidth": 0,
              "ticks": ""
             }
            },
            "type": "scatterternary"
           }
          ],
          "surface": [
           {
            "colorbar": {
             "outlinewidth": 0,
             "ticks": ""
            },
            "colorscale": [
             [
              0,
              "#0d0887"
             ],
             [
              0.1111111111111111,
              "#46039f"
             ],
             [
              0.2222222222222222,
              "#7201a8"
             ],
             [
              0.3333333333333333,
              "#9c179e"
             ],
             [
              0.4444444444444444,
              "#bd3786"
             ],
             [
              0.5555555555555556,
              "#d8576b"
             ],
             [
              0.6666666666666666,
              "#ed7953"
             ],
             [
              0.7777777777777778,
              "#fb9f3a"
             ],
             [
              0.8888888888888888,
              "#fdca26"
             ],
             [
              1,
              "#f0f921"
             ]
            ],
            "type": "surface"
           }
          ],
          "table": [
           {
            "cells": {
             "fill": {
              "color": "#EBF0F8"
             },
             "line": {
              "color": "white"
             }
            },
            "header": {
             "fill": {
              "color": "#C8D4E3"
             },
             "line": {
              "color": "white"
             }
            },
            "type": "table"
           }
          ]
         },
         "layout": {
          "annotationdefaults": {
           "arrowcolor": "#2a3f5f",
           "arrowhead": 0,
           "arrowwidth": 1
          },
          "colorscale": {
           "diverging": [
            [
             0,
             "#8e0152"
            ],
            [
             0.1,
             "#c51b7d"
            ],
            [
             0.2,
             "#de77ae"
            ],
            [
             0.3,
             "#f1b6da"
            ],
            [
             0.4,
             "#fde0ef"
            ],
            [
             0.5,
             "#f7f7f7"
            ],
            [
             0.6,
             "#e6f5d0"
            ],
            [
             0.7,
             "#b8e186"
            ],
            [
             0.8,
             "#7fbc41"
            ],
            [
             0.9,
             "#4d9221"
            ],
            [
             1,
             "#276419"
            ]
           ],
           "sequential": [
            [
             0,
             "#0d0887"
            ],
            [
             0.1111111111111111,
             "#46039f"
            ],
            [
             0.2222222222222222,
             "#7201a8"
            ],
            [
             0.3333333333333333,
             "#9c179e"
            ],
            [
             0.4444444444444444,
             "#bd3786"
            ],
            [
             0.5555555555555556,
             "#d8576b"
            ],
            [
             0.6666666666666666,
             "#ed7953"
            ],
            [
             0.7777777777777778,
             "#fb9f3a"
            ],
            [
             0.8888888888888888,
             "#fdca26"
            ],
            [
             1,
             "#f0f921"
            ]
           ],
           "sequentialminus": [
            [
             0,
             "#0d0887"
            ],
            [
             0.1111111111111111,
             "#46039f"
            ],
            [
             0.2222222222222222,
             "#7201a8"
            ],
            [
             0.3333333333333333,
             "#9c179e"
            ],
            [
             0.4444444444444444,
             "#bd3786"
            ],
            [
             0.5555555555555556,
             "#d8576b"
            ],
            [
             0.6666666666666666,
             "#ed7953"
            ],
            [
             0.7777777777777778,
             "#fb9f3a"
            ],
            [
             0.8888888888888888,
             "#fdca26"
            ],
            [
             1,
             "#f0f921"
            ]
           ]
          },
          "colorway": [
           "#636efa",
           "#EF553B",
           "#00cc96",
           "#ab63fa",
           "#FFA15A",
           "#19d3f3",
           "#FF6692",
           "#B6E880",
           "#FF97FF",
           "#FECB52"
          ],
          "font": {
           "color": "#2a3f5f"
          },
          "geo": {
           "bgcolor": "white",
           "lakecolor": "white",
           "landcolor": "#E5ECF6",
           "showlakes": true,
           "showland": true,
           "subunitcolor": "white"
          },
          "hoverlabel": {
           "align": "left"
          },
          "hovermode": "closest",
          "mapbox": {
           "style": "light"
          },
          "paper_bgcolor": "white",
          "plot_bgcolor": "#E5ECF6",
          "polar": {
           "angularaxis": {
            "gridcolor": "white",
            "linecolor": "white",
            "ticks": ""
           },
           "bgcolor": "#E5ECF6",
           "radialaxis": {
            "gridcolor": "white",
            "linecolor": "white",
            "ticks": ""
           }
          },
          "scene": {
           "xaxis": {
            "backgroundcolor": "#E5ECF6",
            "gridcolor": "white",
            "gridwidth": 2,
            "linecolor": "white",
            "showbackground": true,
            "ticks": "",
            "zerolinecolor": "white"
           },
           "yaxis": {
            "backgroundcolor": "#E5ECF6",
            "gridcolor": "white",
            "gridwidth": 2,
            "linecolor": "white",
            "showbackground": true,
            "ticks": "",
            "zerolinecolor": "white"
           },
           "zaxis": {
            "backgroundcolor": "#E5ECF6",
            "gridcolor": "white",
            "gridwidth": 2,
            "linecolor": "white",
            "showbackground": true,
            "ticks": "",
            "zerolinecolor": "white"
           }
          },
          "shapedefaults": {
           "line": {
            "color": "#2a3f5f"
           }
          },
          "ternary": {
           "aaxis": {
            "gridcolor": "white",
            "linecolor": "white",
            "ticks": ""
           },
           "baxis": {
            "gridcolor": "white",
            "linecolor": "white",
            "ticks": ""
           },
           "bgcolor": "#E5ECF6",
           "caxis": {
            "gridcolor": "white",
            "linecolor": "white",
            "ticks": ""
           }
          },
          "title": {
           "x": 0.05
          },
          "xaxis": {
           "automargin": true,
           "gridcolor": "white",
           "linecolor": "white",
           "ticks": "",
           "zerolinecolor": "white",
           "zerolinewidth": 2
          },
          "yaxis": {
           "automargin": true,
           "gridcolor": "white",
           "linecolor": "white",
           "ticks": "",
           "zerolinecolor": "white",
           "zerolinewidth": 2
          }
         }
        },
        "title": {
         "text": "$NO_x$",
         "x": 0.5
        },
        "yaxis": {
         "title": {
          "text": "ppbv"
         }
        }
       }
      },
      "text/html": [
       "<div>\n",
       "        \n",
       "        \n",
       "            <div id=\"1bcaafb0-fde3-410e-b0da-f8c69df35ca1\" class=\"plotly-graph-div\" style=\"height:525px; width:100%;\"></div>\n",
       "            <script type=\"text/javascript\">\n",
       "                require([\"plotly\"], function(Plotly) {\n",
       "                    window.PLOTLYENV=window.PLOTLYENV || {};\n",
       "                    \n",
       "                if (document.getElementById(\"1bcaafb0-fde3-410e-b0da-f8c69df35ca1\")) {\n",
       "                    Plotly.newPlot(\n",
       "                        '1bcaafb0-fde3-410e-b0da-f8c69df35ca1',\n",
       "                        [{\"marker\": {\"color\": \"rgb(76,0,153)\"}, \"name\": \"Upper IGP\", \"offsetgroup\": \"0\", \"type\": \"bar\", \"x\": [\"Premonsoon\", \"Monsoon\", \"Autumn\", \"Winter\"], \"y\": [9.97232273221016, 7.907952181994915, 14.46407288312912, 16.24433696269989]}, {\"marker\": {\"color\": \"rgb(153,0,153)\"}, \"name\": \"Middle IGP\", \"offsetgroup\": \"1\", \"type\": \"bar\", \"x\": [\"Premonsoon\", \"Monsoon\", \"Autumn\", \"Winter\"], \"y\": [24.794679135084152, 16.844086349010468, 32.57289156317711, 34.20798480510712]}, {\"marker\": {\"color\": \"rgb(178,102,255)\"}, \"name\": \"Lower IGP\", \"offsetgroup\": \"2\", \"type\": \"bar\", \"x\": [\"Premonsoon\", \"Monsoon\", \"Autumn\", \"Winter\"], \"y\": [12.782271020114422, 15.640048310160637, 22.28631265461445, 27.605533599853516]}],\n",
       "                        {\"template\": {\"data\": {\"bar\": [{\"error_x\": {\"color\": \"#2a3f5f\"}, \"error_y\": {\"color\": \"#2a3f5f\"}, \"marker\": {\"line\": {\"color\": \"#E5ECF6\", \"width\": 0.5}}, \"type\": \"bar\"}], \"barpolar\": [{\"marker\": {\"line\": {\"color\": \"#E5ECF6\", \"width\": 0.5}}, \"type\": \"barpolar\"}], \"carpet\": [{\"aaxis\": {\"endlinecolor\": \"#2a3f5f\", \"gridcolor\": \"white\", \"linecolor\": \"white\", \"minorgridcolor\": \"white\", \"startlinecolor\": \"#2a3f5f\"}, \"baxis\": {\"endlinecolor\": \"#2a3f5f\", \"gridcolor\": \"white\", \"linecolor\": \"white\", \"minorgridcolor\": \"white\", \"startlinecolor\": \"#2a3f5f\"}, \"type\": \"carpet\"}], \"choropleth\": [{\"colorbar\": {\"outlinewidth\": 0, \"ticks\": \"\"}, \"type\": \"choropleth\"}], \"contour\": [{\"colorbar\": {\"outlinewidth\": 0, \"ticks\": \"\"}, \"colorscale\": [[0.0, \"#0d0887\"], [0.1111111111111111, \"#46039f\"], [0.2222222222222222, \"#7201a8\"], [0.3333333333333333, \"#9c179e\"], [0.4444444444444444, \"#bd3786\"], [0.5555555555555556, \"#d8576b\"], [0.6666666666666666, \"#ed7953\"], [0.7777777777777778, \"#fb9f3a\"], [0.8888888888888888, \"#fdca26\"], [1.0, \"#f0f921\"]], \"type\": \"contour\"}], \"contourcarpet\": [{\"colorbar\": {\"outlinewidth\": 0, \"ticks\": \"\"}, \"type\": \"contourcarpet\"}], \"heatmap\": [{\"colorbar\": {\"outlinewidth\": 0, \"ticks\": \"\"}, \"colorscale\": [[0.0, \"#0d0887\"], [0.1111111111111111, \"#46039f\"], [0.2222222222222222, \"#7201a8\"], [0.3333333333333333, \"#9c179e\"], [0.4444444444444444, \"#bd3786\"], [0.5555555555555556, \"#d8576b\"], [0.6666666666666666, \"#ed7953\"], [0.7777777777777778, \"#fb9f3a\"], [0.8888888888888888, \"#fdca26\"], [1.0, \"#f0f921\"]], \"type\": \"heatmap\"}], \"heatmapgl\": [{\"colorbar\": {\"outlinewidth\": 0, \"ticks\": \"\"}, \"colorscale\": [[0.0, \"#0d0887\"], [0.1111111111111111, \"#46039f\"], [0.2222222222222222, \"#7201a8\"], [0.3333333333333333, \"#9c179e\"], [0.4444444444444444, \"#bd3786\"], [0.5555555555555556, \"#d8576b\"], [0.6666666666666666, \"#ed7953\"], [0.7777777777777778, \"#fb9f3a\"], [0.8888888888888888, \"#fdca26\"], [1.0, \"#f0f921\"]], \"type\": \"heatmapgl\"}], \"histogram\": [{\"marker\": {\"colorbar\": {\"outlinewidth\": 0, \"ticks\": \"\"}}, \"type\": \"histogram\"}], \"histogram2d\": [{\"colorbar\": {\"outlinewidth\": 0, \"ticks\": \"\"}, \"colorscale\": [[0.0, \"#0d0887\"], [0.1111111111111111, \"#46039f\"], [0.2222222222222222, \"#7201a8\"], [0.3333333333333333, \"#9c179e\"], [0.4444444444444444, \"#bd3786\"], [0.5555555555555556, \"#d8576b\"], [0.6666666666666666, \"#ed7953\"], [0.7777777777777778, \"#fb9f3a\"], [0.8888888888888888, \"#fdca26\"], [1.0, \"#f0f921\"]], \"type\": \"histogram2d\"}], \"histogram2dcontour\": [{\"colorbar\": {\"outlinewidth\": 0, \"ticks\": \"\"}, \"colorscale\": [[0.0, \"#0d0887\"], [0.1111111111111111, \"#46039f\"], [0.2222222222222222, \"#7201a8\"], [0.3333333333333333, \"#9c179e\"], [0.4444444444444444, \"#bd3786\"], [0.5555555555555556, \"#d8576b\"], [0.6666666666666666, \"#ed7953\"], [0.7777777777777778, \"#fb9f3a\"], [0.8888888888888888, \"#fdca26\"], [1.0, \"#f0f921\"]], \"type\": \"histogram2dcontour\"}], \"mesh3d\": [{\"colorbar\": {\"outlinewidth\": 0, \"ticks\": \"\"}, \"type\": \"mesh3d\"}], \"parcoords\": [{\"line\": {\"colorbar\": {\"outlinewidth\": 0, \"ticks\": \"\"}}, \"type\": \"parcoords\"}], \"scatter\": [{\"marker\": {\"colorbar\": {\"outlinewidth\": 0, \"ticks\": \"\"}}, \"type\": \"scatter\"}], \"scatter3d\": [{\"line\": {\"colorbar\": {\"outlinewidth\": 0, \"ticks\": \"\"}}, \"marker\": {\"colorbar\": {\"outlinewidth\": 0, \"ticks\": \"\"}}, \"type\": \"scatter3d\"}], \"scattercarpet\": [{\"marker\": {\"colorbar\": {\"outlinewidth\": 0, \"ticks\": \"\"}}, \"type\": \"scattercarpet\"}], \"scattergeo\": [{\"marker\": {\"colorbar\": {\"outlinewidth\": 0, \"ticks\": \"\"}}, \"type\": \"scattergeo\"}], \"scattergl\": [{\"marker\": {\"colorbar\": {\"outlinewidth\": 0, \"ticks\": \"\"}}, \"type\": \"scattergl\"}], \"scattermapbox\": [{\"marker\": {\"colorbar\": {\"outlinewidth\": 0, \"ticks\": \"\"}}, \"type\": \"scattermapbox\"}], \"scatterpolar\": [{\"marker\": {\"colorbar\": {\"outlinewidth\": 0, \"ticks\": \"\"}}, \"type\": \"scatterpolar\"}], \"scatterpolargl\": [{\"marker\": {\"colorbar\": {\"outlinewidth\": 0, \"ticks\": \"\"}}, \"type\": \"scatterpolargl\"}], \"scatterternary\": [{\"marker\": {\"colorbar\": {\"outlinewidth\": 0, \"ticks\": \"\"}}, \"type\": \"scatterternary\"}], \"surface\": [{\"colorbar\": {\"outlinewidth\": 0, \"ticks\": \"\"}, \"colorscale\": [[0.0, \"#0d0887\"], [0.1111111111111111, \"#46039f\"], [0.2222222222222222, \"#7201a8\"], [0.3333333333333333, \"#9c179e\"], [0.4444444444444444, \"#bd3786\"], [0.5555555555555556, \"#d8576b\"], [0.6666666666666666, \"#ed7953\"], [0.7777777777777778, \"#fb9f3a\"], [0.8888888888888888, \"#fdca26\"], [1.0, \"#f0f921\"]], \"type\": \"surface\"}], \"table\": [{\"cells\": {\"fill\": {\"color\": \"#EBF0F8\"}, \"line\": {\"color\": \"white\"}}, \"header\": {\"fill\": {\"color\": \"#C8D4E3\"}, \"line\": {\"color\": \"white\"}}, \"type\": \"table\"}]}, \"layout\": {\"annotationdefaults\": {\"arrowcolor\": \"#2a3f5f\", \"arrowhead\": 0, \"arrowwidth\": 1}, \"colorscale\": {\"diverging\": [[0, \"#8e0152\"], [0.1, \"#c51b7d\"], [0.2, \"#de77ae\"], [0.3, \"#f1b6da\"], [0.4, \"#fde0ef\"], [0.5, \"#f7f7f7\"], [0.6, \"#e6f5d0\"], [0.7, \"#b8e186\"], [0.8, \"#7fbc41\"], [0.9, \"#4d9221\"], [1, \"#276419\"]], \"sequential\": [[0.0, \"#0d0887\"], [0.1111111111111111, \"#46039f\"], [0.2222222222222222, \"#7201a8\"], [0.3333333333333333, \"#9c179e\"], [0.4444444444444444, \"#bd3786\"], [0.5555555555555556, \"#d8576b\"], [0.6666666666666666, \"#ed7953\"], [0.7777777777777778, \"#fb9f3a\"], [0.8888888888888888, \"#fdca26\"], [1.0, \"#f0f921\"]], \"sequentialminus\": [[0.0, \"#0d0887\"], [0.1111111111111111, \"#46039f\"], [0.2222222222222222, \"#7201a8\"], [0.3333333333333333, \"#9c179e\"], [0.4444444444444444, \"#bd3786\"], [0.5555555555555556, \"#d8576b\"], [0.6666666666666666, \"#ed7953\"], [0.7777777777777778, \"#fb9f3a\"], [0.8888888888888888, \"#fdca26\"], [1.0, \"#f0f921\"]]}, \"colorway\": [\"#636efa\", \"#EF553B\", \"#00cc96\", \"#ab63fa\", \"#FFA15A\", \"#19d3f3\", \"#FF6692\", \"#B6E880\", \"#FF97FF\", \"#FECB52\"], \"font\": {\"color\": \"#2a3f5f\"}, \"geo\": {\"bgcolor\": \"white\", \"lakecolor\": \"white\", \"landcolor\": \"#E5ECF6\", \"showlakes\": true, \"showland\": true, \"subunitcolor\": \"white\"}, \"hoverlabel\": {\"align\": \"left\"}, \"hovermode\": \"closest\", \"mapbox\": {\"style\": \"light\"}, \"paper_bgcolor\": \"white\", \"plot_bgcolor\": \"#E5ECF6\", \"polar\": {\"angularaxis\": {\"gridcolor\": \"white\", \"linecolor\": \"white\", \"ticks\": \"\"}, \"bgcolor\": \"#E5ECF6\", \"radialaxis\": {\"gridcolor\": \"white\", \"linecolor\": \"white\", \"ticks\": \"\"}}, \"scene\": {\"xaxis\": {\"backgroundcolor\": \"#E5ECF6\", \"gridcolor\": \"white\", \"gridwidth\": 2, \"linecolor\": \"white\", \"showbackground\": true, \"ticks\": \"\", \"zerolinecolor\": \"white\"}, \"yaxis\": {\"backgroundcolor\": \"#E5ECF6\", \"gridcolor\": \"white\", \"gridwidth\": 2, \"linecolor\": \"white\", \"showbackground\": true, \"ticks\": \"\", \"zerolinecolor\": \"white\"}, \"zaxis\": {\"backgroundcolor\": \"#E5ECF6\", \"gridcolor\": \"white\", \"gridwidth\": 2, \"linecolor\": \"white\", \"showbackground\": true, \"ticks\": \"\", \"zerolinecolor\": \"white\"}}, \"shapedefaults\": {\"line\": {\"color\": \"#2a3f5f\"}}, \"ternary\": {\"aaxis\": {\"gridcolor\": \"white\", \"linecolor\": \"white\", \"ticks\": \"\"}, \"baxis\": {\"gridcolor\": \"white\", \"linecolor\": \"white\", \"ticks\": \"\"}, \"bgcolor\": \"#E5ECF6\", \"caxis\": {\"gridcolor\": \"white\", \"linecolor\": \"white\", \"ticks\": \"\"}}, \"title\": {\"x\": 0.05}, \"xaxis\": {\"automargin\": true, \"gridcolor\": \"white\", \"linecolor\": \"white\", \"ticks\": \"\", \"zerolinecolor\": \"white\", \"zerolinewidth\": 2}, \"yaxis\": {\"automargin\": true, \"gridcolor\": \"white\", \"linecolor\": \"white\", \"ticks\": \"\", \"zerolinecolor\": \"white\", \"zerolinewidth\": 2}}}, \"title\": {\"text\": \"$NO_x$\", \"x\": 0.5}, \"yaxis\": {\"title\": {\"text\": \"ppbv\"}}},\n",
       "                        {\"responsive\": true}\n",
       "                    ).then(function(){\n",
       "                            \n",
       "var gd = document.getElementById('1bcaafb0-fde3-410e-b0da-f8c69df35ca1');\n",
       "var x = new MutationObserver(function (mutations, observer) {{\n",
       "        var display = window.getComputedStyle(gd).display;\n",
       "        if (!display || display === 'none') {{\n",
       "            console.log([gd, 'removed!']);\n",
       "            Plotly.purge(gd);\n",
       "            observer.disconnect();\n",
       "        }}\n",
       "}});\n",
       "\n",
       "// Listen for the removal of the full notebook cells\n",
       "var notebookContainer = gd.closest('#notebook-container');\n",
       "if (notebookContainer) {{\n",
       "    x.observe(notebookContainer, {childList: true});\n",
       "}}\n",
       "\n",
       "// Listen for the clearing of the current output cell\n",
       "var outputEl = gd.closest('.output');\n",
       "if (outputEl) {{\n",
       "    x.observe(outputEl, {childList: true});\n",
       "}}\n",
       "\n",
       "                        })\n",
       "                };\n",
       "                });\n",
       "            </script>\n",
       "        </div>"
      ]
     },
     "metadata": {},
     "output_type": "display_data"
    }
   ],
   "source": [
    "col=[\"rgb(76,0,153)\",\"rgb(153,0,153)\",\"rgb(178,102,255)\"]\n",
    "plot_precursors(nox_pm,nox_m,nox_a,nox_w, colors=col, ylabel=\"ppbv\", title=\"$NO_x$\",sf=1e3)"
   ]
  },
  {
   "cell_type": "code",
   "execution_count": 15,
   "metadata": {},
   "outputs": [],
   "source": [
    "#SPATIAL PLOT IGP\n",
    "\n",
    "import matplotlib as mpl\n",
    "import matplotlib.pyplot as plt\n",
    "from mpl_toolkits.axes_grid1.colorbar import colorbar\n",
    "import cartopy.crs as ccrs\n",
    "import cartopy.feature as cfeature\n",
    "from cartopy.mpl.gridliner import LONGITUDE_FORMATTER, LATITUDE_FORMATTER\n",
    "import cartopy.io.shapereader as shpreader\n",
    "\n",
    "def set_formatter(axes):\n",
    "    for ax in axes:\n",
    "        gl = ax.gridlines(crs=ccrs.PlateCarree(), draw_labels=True,\n",
    "                          linewidth=0.5, color='k', alpha=0.4, linestyle='-')\n",
    "        gl.xlabels_top = False\n",
    "        gl.ylabels_right = False\n",
    "        gl.xformatter = LONGITUDE_FORMATTER\n",
    "        gl.yformatter = LATITUDE_FORMATTER\n",
    "        gl.xlabel_style = {'size': 7, 'color': 'gray'}\n",
    "        gl.ylabel_style = {'size': 7, 'color': 'grey'} \n",
    "\n",
    "        \n",
    "def set_admin(axes, shp_path):\n",
    "    for ax,shp in zip(axes,shp_path):\n",
    "            admin = list(shpreader.Reader(shp).geometries())\n",
    "            # Add data from Global Administrative Areas Dataset GDAM https://gadm.org/index.html\n",
    "            ax.add_geometries(admin, ccrs.PlateCarree(),\n",
    "                      edgecolor='black', facecolor='none', alpha=1, lw=0.75)\n",
    "    \n",
    "\n",
    "def subIGP(lat,lon,pmds,mds,ads,wds,vmax=None, title=None, label=None, cmap=\"OrRd\", levs=10, figsize=[10, 10],format=\"%.2f\"):\n",
    "\n",
    "    fig, axes =plt.subplots(nrows=4,ncols=1,figsize=figsize, subplot_kw={'projection': ccrs.PlateCarree()})\n",
    "    igp_shp=\"/exports/csce/datastore/geos/users/s1878599/python_code/gadm_data/IGP/IGP.shp\"\n",
    "    shp_path=(igp_shp,igp_shp,igp_shp,igp_shp)\n",
    "    \n",
    "    set_formatter(axes.flatten())\n",
    "    set_admin(axes.flatten(), shp_path)\n",
    "    \n",
    "    #Getting values.\n",
    "    vpm=pmds[0,:,:].values\n",
    "    vm= mds[0,:,:].values\n",
    "    va= ads[0,:,:].values\n",
    "    vw= wds[0,:,:].values\n",
    "    if not vmax is None:  # set vmax in the bar to a fixed costumed value (useful to compare consitently different plots).\n",
    "        vmax=vmax  \n",
    "    else: \n",
    "        import math                # Get the max value in the array to plot.\n",
    "        vmax =np.array([np.nanmax(vpm),np.nanmax(vm),np.nanmax(va),np.nanmax(vw)]).max()       \n",
    "       \n",
    "    vmin=0\n",
    "    print(vmax)\n",
    "    levels = np.linspace(vmin, vmax, levs)  # number of levels for which divide the bar. Customised. \n",
    "    \n",
    "    # premonsoon\n",
    "    cspm=axes[0].contourf(lon,lat,vpm,transform=ccrs.PlateCarree(),cmap=cmap,levels=levels,vmin=vmin,vmax=vmax) #U IGP values.\n",
    "                                                 \n",
    "    # monsoon\n",
    "    csm=axes[1].contourf(lon,lat,vm,transform=ccrs.PlateCarree(),cmap=cmap,levels=levels,vmin=vmin,vmax=vmax) #U IGP values.\n",
    "    #autumn\n",
    "    csa=axes[2].contourf(lon,lat,va,transform=ccrs.PlateCarree(),cmap=cmap,levels=levels,vmin=vmin,vmax=vmax) #U IGP values.\n",
    "    #winter\n",
    "    csw=axes[3].contourf(lon,lat,vw,transform=ccrs.PlateCarree(),cmap=cmap,levels=levels, vmin=vmin,vmax=vmax) #U IGP values.\n",
    "    \n",
    " \n",
    "    axes[0].text(-0.25, 0.55, 'PREMONSOON', va='bottom', ha='center',\n",
    "        rotation='vertical', rotation_mode='anchor',\n",
    "        transform=axes[0].transAxes)\n",
    "    axes[1].text(-0.25, 0.55, 'MONSOON', va='bottom', ha='center',\n",
    "        rotation='vertical', rotation_mode='anchor',\n",
    "        transform=axes[1].transAxes)\n",
    "    axes[2].text(-0.25, 0.55, 'AUTUMN', va='bottom', ha='center',\n",
    "        rotation='vertical', rotation_mode='anchor',\n",
    "        transform=axes[2].transAxes)\n",
    "    axes[3].text(-0.25, 0.55, 'WINTER', va='bottom', ha='center',\n",
    "        rotation='vertical', rotation_mode='anchor',\n",
    "        transform=axes[3].transAxes)\n",
    "    \n",
    "    #set colorbar\n",
    "    cax, kw= mpl.colorbar.make_axes([ax for ax in axes.flat], orientation=\"horizontal\", pad=0.035,shrink=.45, format=format)\n",
    "    cbar=fig.colorbar(csa, cax=cax, **kw)\n",
    "    if label is not None:\n",
    "        cbar.set_label(label)\n",
    "    if title is not None:\n",
    "        axes[0].set_title(title, fontsize=12,pad=20)\n",
    "    fig.tight_layout()\n",
    "    fig.show()"
   ]
  },
  {
   "cell_type": "code",
   "execution_count": 26,
   "metadata": {},
   "outputs": [],
   "source": [
    "lon =at[\"IGP\"].lon.values[:,:]\n",
    "lat =at[\"IGP\"].lat.values[:,:]"
   ]
  },
  {
   "cell_type": "code",
   "execution_count": 29,
   "metadata": {},
   "outputs": [
    {
     "name": "stdout",
     "output_type": "stream",
     "text": [
      "450.40256\n"
     ]
    },
    {
     "data": {
      "image/png": "[encoded data removed]",
      "text/plain": [
       "<Figure size 1080x1080 with 5 Axes>"
      ]
     },
     "metadata": {
      "needs_background": "light"
     },
     "output_type": "display_data"
    }
   ],
   "source": [
    "subIGP(lat,lon,pmt[\"IGP\"].nox*1e3,mt[\"IGP\"].nox*1e3,at[\"IGP\"].nox*1e3,wt[\"IGP\"].nox*1e3, title=\"Average surface $NO_x$\", cmap=\"Purples\", levs=20, label=\"ppbv\", figsize=[15,15],format=\"%.f\")"
   ]
  },
  {
   "cell_type": "code",
   "execution_count": 30,
   "metadata": {},
   "outputs": [],
   "source": [
    "# Put oxidants values in a matrix TODO create a function that take in a variable and put out table with seasonal average values\n",
    "#in a pandas dataframe\n",
    "import pandas as pd\n",
    "\n",
    "data= {'season': [\"premonsoon\",\"premonsoon\",\"premonsoon\",\"monsoon\",\"monsoon\",\"monsoon\",\"autumn\",\"autumn\",\"autumn\",\"winter\",\"winter\",\"winter\"],\n",
    "        'area': [\"upper\",\"middle\",\"lower\",\"upper\",\"middle\",\"lower\",\"upper\",\"middle\",\"lower\",\"upper\",\"middle\",\"lower\"],\n",
    "        'NOx (ppbv)':[nox_pm[\"U_IGP\"]*1e3,nox_pm[\"M_IGP\"]*1e3,nox_pm[\"L_IGP\"]*1e3,nox_m[\"U_IGP\"]*1e3,nox_m[\"M_IGP\"]*1e3,nox_m[\"L_IGP\"]*1e3,nox_a[\"U_IGP\"]*1e3,nox_a[\"M_IGP\"]*1e3,nox_a[\"L_IGP\"]*1e3,nox_w[\"U_IGP\"]*1e3,nox_w[\"M_IGP\"]*1e3,nox_w[\"L_IGP\"]*1e3],\n",
    "        }\n",
    "f = pd.DataFrame (data, columns = [\"season\",\"area\", 'NOx (ppbv)'])\n"
   ]
  },
  {
   "cell_type": "code",
   "execution_count": 31,
   "metadata": {},
   "outputs": [
    {
     "data": {
      "text/html": [
       "<div>\n",
       "<style scoped>\n",
       "    .dataframe tbody tr th:only-of-type {\n",
       "        vertical-align: middle;\n",
       "    }\n",
       "\n",
       "    .dataframe tbody tr th {\n",
       "        vertical-align: top;\n",
       "    }\n",
       "\n",
       "    .dataframe thead th {\n",
       "        text-align: right;\n",
       "    }\n",
       "</style>\n",
       "<table border=\"1\" class=\"dataframe\">\n",
       "  <thead>\n",
       "    <tr style=\"text-align: right;\">\n",
       "      <th></th>\n",
       "      <th>season</th>\n",
       "      <th>area</th>\n",
       "      <th>NOx (ppbv)</th>\n",
       "    </tr>\n",
       "  </thead>\n",
       "  <tbody>\n",
       "    <tr>\n",
       "      <th>0</th>\n",
       "      <td>premonsoon</td>\n",
       "      <td>upper</td>\n",
       "      <td>9.972323</td>\n",
       "    </tr>\n",
       "    <tr>\n",
       "      <th>1</th>\n",
       "      <td>premonsoon</td>\n",
       "      <td>middle</td>\n",
       "      <td>24.794679</td>\n",
       "    </tr>\n",
       "    <tr>\n",
       "      <th>2</th>\n",
       "      <td>premonsoon</td>\n",
       "      <td>lower</td>\n",
       "      <td>12.782271</td>\n",
       "    </tr>\n",
       "    <tr>\n",
       "      <th>3</th>\n",
       "      <td>monsoon</td>\n",
       "      <td>upper</td>\n",
       "      <td>7.907952</td>\n",
       "    </tr>\n",
       "    <tr>\n",
       "      <th>4</th>\n",
       "      <td>monsoon</td>\n",
       "      <td>middle</td>\n",
       "      <td>16.844086</td>\n",
       "    </tr>\n",
       "    <tr>\n",
       "      <th>5</th>\n",
       "      <td>monsoon</td>\n",
       "      <td>lower</td>\n",
       "      <td>15.640048</td>\n",
       "    </tr>\n",
       "    <tr>\n",
       "      <th>6</th>\n",
       "      <td>autumn</td>\n",
       "      <td>upper</td>\n",
       "      <td>14.464073</td>\n",
       "    </tr>\n",
       "    <tr>\n",
       "      <th>7</th>\n",
       "      <td>autumn</td>\n",
       "      <td>middle</td>\n",
       "      <td>32.572892</td>\n",
       "    </tr>\n",
       "    <tr>\n",
       "      <th>8</th>\n",
       "      <td>autumn</td>\n",
       "      <td>lower</td>\n",
       "      <td>22.286313</td>\n",
       "    </tr>\n",
       "    <tr>\n",
       "      <th>9</th>\n",
       "      <td>winter</td>\n",
       "      <td>upper</td>\n",
       "      <td>16.244337</td>\n",
       "    </tr>\n",
       "    <tr>\n",
       "      <th>10</th>\n",
       "      <td>winter</td>\n",
       "      <td>middle</td>\n",
       "      <td>34.207985</td>\n",
       "    </tr>\n",
       "    <tr>\n",
       "      <th>11</th>\n",
       "      <td>winter</td>\n",
       "      <td>lower</td>\n",
       "      <td>27.605534</td>\n",
       "    </tr>\n",
       "  </tbody>\n",
       "</table>\n",
       "</div>"
      ],
      "text/plain": [
       "        season    area  NOx (ppbv)\n",
       "0   premonsoon   upper    9.972323\n",
       "1   premonsoon  middle   24.794679\n",
       "2   premonsoon   lower   12.782271\n",
       "3      monsoon   upper    7.907952\n",
       "4      monsoon  middle   16.844086\n",
       "5      monsoon   lower   15.640048\n",
       "6       autumn   upper   14.464073\n",
       "7       autumn  middle   32.572892\n",
       "8       autumn   lower   22.286313\n",
       "9       winter   upper   16.244337\n",
       "10      winter  middle   34.207985\n",
       "11      winter   lower   27.605534"
      ]
     },
     "execution_count": 31,
     "metadata": {},
     "output_type": "execute_result"
    }
   ],
   "source": [
    "f"
   ]
  },
  {
   "cell_type": "code",
   "execution_count": 26,
   "metadata": {},
   "outputs": [],
   "source": [
    "f.to_csv(\"/exports/csce/datastore/geos/users/s1878599/oxi_igp.csv\")"
   ]
  },
  {
   "cell_type": "code",
   "execution_count": null,
   "metadata": {},
   "outputs": [],
   "source": []
  }
 ],
 "metadata": {
  "kernelspec": {
   "display_name": "Python 3",
   "language": "python",
   "name": "python3"
  },
  "language_info": {
   "codemirror_mode": {
    "name": "ipython",
    "version": 3
   },
   "file_extension": ".py",
   "mimetype": "text/x-python",
   "name": "python",
   "nbconvert_exporter": "python",
   "pygments_lexer": "ipython3",
   "version": "3.7.5"
  }
 },
 "nbformat": 4,
 "nbformat_minor": 2
}
