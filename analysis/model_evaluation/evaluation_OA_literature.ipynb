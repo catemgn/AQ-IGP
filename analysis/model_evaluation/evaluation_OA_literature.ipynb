{
 "cells": [
  {
   "cell_type": "markdown",
   "metadata": {},
   "source": [
    "This notebook extract the model OA values to compare with OA literature data (in OA_literature.xlsx)"
   ]
  },
  {
   "cell_type": "code",
   "execution_count": 1,
   "metadata": {},
   "outputs": [
    {
     "name": "stdout",
     "output_type": "stream",
     "text": [
      "WRFchem outputs data path is: dpath=/geos/d21/s1878599/IGP\n"
     ]
    }
   ],
   "source": [
    "#import modules\n",
    "%run ../load_main.py\n",
    "from WRFChemToolkit.analysis import aerosols_202 as aer, plots as pt, statistics as st, IGP as igp\n",
    "from Air_Quality_notebooks import utils as utl"
   ]
  },
  {
   "cell_type": "code",
   "execution_count": 2,
   "metadata": {},
   "outputs": [],
   "source": [
    "#Load data for each season\n",
    "post_pth=dpath+'/outputs/autumn/wrfout*.nc'\n",
    "win_pth= dpath+'/outputs/winter/wrfout*.nc'\n",
    "mon_pth= dpath+'/outputs/monsoon/wrfout*.nc'\n",
    "pre_pth= dpath+'/outputs/premonsoon/wrfout*.nc'\n",
    "\n",
    "pth_d={\"pre\":pre_pth,\"mon\":mon_pth,\"post\":post_pth,\"win\":win_pth}\n",
    "\n",
    "s=utl.dictdata(pth_d)"
   ]
  },
  {
   "cell_type": "code",
   "execution_count": 3,
   "metadata": {},
   "outputs": [],
   "source": [
    "#Get aerosols for each seasons\n",
    "def get_aer(d):\n",
    "    aer_IGP={}\n",
    "    for s, val in d.items():\n",
    "        aer_IGP.update({s :aer.get_aerosols(val)})\n",
    "    return aer_IGP"
   ]
  },
  {
   "cell_type": "code",
   "execution_count": 4,
   "metadata": {},
   "outputs": [],
   "source": [
    "aer=get_aer(s)"
   ]
  },
  {
   "cell_type": "code",
   "execution_count": 5,
   "metadata": {},
   "outputs": [],
   "source": [
    "# add PM1\n",
    "for s,ds in aer.items():\n",
    "    ds['pm1_POA']=ds.oc_a01/ds.ALT\n",
    "    ds['pm1_SOA'] = (ds.glysoa_r1_a01 +ds.glysoa_r2_a01+ds.glysoa_sfc_a01+ \\\n",
    "    ds.glysoa_oh_a01+ds.glysoa_nh4_a01+ds.asoaX_a01+ \\\n",
    "    ds.asoa1_a01 + ds.asoa2_a01+ ds.asoa3_a01+ds.asoa4_a01+ \\\n",
    "    ds.bsoa1_a01 + ds.bsoa2_a01+ ds.bsoa3_a01+ds.bsoa4_a01+ \\\n",
    "    ds.bsoaX_a01)/ds.ALT"
   ]
  },
  {
   "cell_type": "code",
   "execution_count": 6,
   "metadata": {},
   "outputs": [],
   "source": [
    "# get time average of aerosols\n",
    "def get_taer(d):\n",
    "    aer_IGP={}\n",
    "    for s, val in d.items():\n",
    "        aer_IGP.update({s :st.time_mean(val,'Time')})\n",
    "    return aer_IGP\n",
    "\n",
    "t_aer=get_taer(aer)"
   ]
  },
  {
   "cell_type": "code",
   "execution_count": 7,
   "metadata": {},
   "outputs": [],
   "source": [
    "#get relevant OA data from model\n",
    "def get_OA(ds):\n",
    "    data ={\"pm25_POA\" : ([\"lat\",\"lon\"], ds.pm25_POA.values[0,:,:]),\n",
    "           \"pm10_POA\" : ([\"lat\",\"lon\"], ds.pm10_POA.values[0,:,:]),\n",
    "           \"pm25_SOA\" : ([\"lat\",\"lon\"], ds.pm25_SOA.values[0,:,:]),\n",
    "           \"pm10_SOA\" : ([\"lat\",\"lon\"], ds.pm10_SOA.values[0,:,:]),\n",
    "           \"pm1_POA\" : ([\"lat\",\"lon\"], ds.pm1_POA.values[0,:,:]),\n",
    "           \"pm1_SOA\" : ([\"lat\",\"lon\"], ds.pm1_SOA.values[0,:,:])\n",
    "          }\n",
    "    coords={'lat': (['lat'], ds.XLAT[0,:,0]), 'lon': (['lon'], ds.XLONG[0,0,:])}\n",
    "    oa = xr.Dataset(data, coords=coords)\n",
    "    return oa\n",
    "\n",
    "p={}\n",
    "for k,v in t_aer.items():\n",
    "    p.update({k:get_OA(v)})\n",
    "\n",
    "#put in a dictionary by season\n",
    "oa={\"premonsoon\": p[\"pre\"],\"monsoon\":p[\"mon\"],\"postmonsoon\": p[\"post\"],\"winter\": p[\"win\"]}"
   ]
  },
  {
   "cell_type": "code",
   "execution_count": 8,
   "metadata": {},
   "outputs": [],
   "source": [
    "# function for extracting data at a defined location.\n",
    "def locate(d,lat,lon):\n",
    "    city={}\n",
    "    for s, val in d.items():\n",
    "        city.update({s : val.sel(lat=lat,lon=lon,method='nearest')})\n",
    "    return city"
   ]
  },
  {
   "cell_type": "code",
   "execution_count": 9,
   "metadata": {},
   "outputs": [],
   "source": [
    "#Get OA data at defined locations"
   ]
  },
  {
   "cell_type": "code",
   "execution_count": 10,
   "metadata": {},
   "outputs": [],
   "source": [
    "delhi2=locate(oa,28.63, 77.17)"
   ]
  },
  {
   "cell_type": "code",
   "execution_count": 11,
   "metadata": {},
   "outputs": [
    {
     "data": {
      "text/plain": [
       "{'premonsoon': <xarray.Dataset>\n",
       " Dimensions:   ()\n",
       " Coordinates:\n",
       "     lat       float32 28.635994\n",
       "     lon       float32 77.176445\n",
       " Data variables:\n",
       "     pm25_POA  float32 14.541838\n",
       "     pm10_POA  float32 14.560265\n",
       "     pm25_SOA  float32 5.842578\n",
       "     pm10_SOA  float32 5.9446993\n",
       "     pm1_POA   float32 1.9935104\n",
       "     pm1_SOA   float32 0.5649314,\n",
       " 'monsoon': <xarray.Dataset>\n",
       " Dimensions:   ()\n",
       " Coordinates:\n",
       "     lat       float32 28.635994\n",
       "     lon       float32 77.176445\n",
       " Data variables:\n",
       "     pm25_POA  float32 7.5074177\n",
       "     pm10_POA  float32 7.521887\n",
       "     pm25_SOA  float32 13.564557\n",
       "     pm10_SOA  float32 13.90695\n",
       "     pm1_POA   float32 0.90145224\n",
       "     pm1_SOA   float32 1.0653894,\n",
       " 'postmonsoon': <xarray.Dataset>\n",
       " Dimensions:   ()\n",
       " Coordinates:\n",
       "     lat       float32 28.635994\n",
       "     lon       float32 77.176445\n",
       " Data variables:\n",
       "     pm25_POA  float32 32.64206\n",
       "     pm10_POA  float32 32.725418\n",
       "     pm25_SOA  float32 30.54916\n",
       "     pm10_SOA  float32 30.69449\n",
       "     pm1_POA   float32 2.7521966\n",
       "     pm1_SOA   float32 1.4969075,\n",
       " 'winter': <xarray.Dataset>\n",
       " Dimensions:   ()\n",
       " Coordinates:\n",
       "     lat       float32 28.635994\n",
       "     lon       float32 77.176445\n",
       " Data variables:\n",
       "     pm25_POA  float32 24.134722\n",
       "     pm10_POA  float32 24.170633\n",
       "     pm25_SOA  float32 12.347556\n",
       "     pm10_SOA  float32 12.384161\n",
       "     pm1_POA   float32 2.6412883\n",
       "     pm1_SOA   float32 0.8846609}"
      ]
     },
     "execution_count": 11,
     "metadata": {},
     "output_type": "execute_result"
    }
   ],
   "source": [
    "delhi2"
   ]
  },
  {
   "cell_type": "code",
   "execution_count": 12,
   "metadata": {},
   "outputs": [],
   "source": [
    "kanpur=locate(oa,26.5, 80.3)"
   ]
  },
  {
   "cell_type": "code",
   "execution_count": 13,
   "metadata": {},
   "outputs": [
    {
     "data": {
      "text/plain": [
       "{'premonsoon': <xarray.Dataset>\n",
       " Dimensions:   ()\n",
       " Coordinates:\n",
       "     lat       float32 26.425797\n",
       "     lon       float32 80.292274\n",
       " Data variables:\n",
       "     pm25_POA  float32 12.027101\n",
       "     pm10_POA  float32 12.045838\n",
       "     pm25_SOA  float32 7.23391\n",
       "     pm10_SOA  float32 7.363184\n",
       "     pm1_POA   float32 1.5726775\n",
       "     pm1_SOA   float32 0.6304125,\n",
       " 'monsoon': <xarray.Dataset>\n",
       " Dimensions:   ()\n",
       " Coordinates:\n",
       "     lat       float32 26.425797\n",
       "     lon       float32 80.292274\n",
       " Data variables:\n",
       "     pm25_POA  float32 9.043476\n",
       "     pm10_POA  float32 9.052853\n",
       "     pm25_SOA  float32 11.452474\n",
       "     pm10_SOA  float32 11.652163\n",
       "     pm1_POA   float32 1.2813398\n",
       "     pm1_SOA   float32 1.1395895,\n",
       " 'postmonsoon': <xarray.Dataset>\n",
       " Dimensions:   ()\n",
       " Coordinates:\n",
       "     lat       float32 26.425797\n",
       "     lon       float32 80.292274\n",
       " Data variables:\n",
       "     pm25_POA  float32 26.5065\n",
       "     pm10_POA  float32 26.572266\n",
       "     pm25_SOA  float32 36.237743\n",
       "     pm10_SOA  float32 36.473053\n",
       "     pm1_POA   float32 2.4899635\n",
       "     pm1_SOA   float32 2.183941,\n",
       " 'winter': <xarray.Dataset>\n",
       " Dimensions:   ()\n",
       " Coordinates:\n",
       "     lat       float32 26.425797\n",
       "     lon       float32 80.292274\n",
       " Data variables:\n",
       "     pm25_POA  float32 18.844124\n",
       "     pm10_POA  float32 18.872969\n",
       "     pm25_SOA  float32 16.769976\n",
       "     pm10_SOA  float32 16.839169\n",
       "     pm1_POA   float32 2.1024806\n",
       "     pm1_SOA   float32 1.3610364}"
      ]
     },
     "execution_count": 13,
     "metadata": {},
     "output_type": "execute_result"
    }
   ],
   "source": [
    "kanpur"
   ]
  },
  {
   "cell_type": "code",
   "execution_count": 14,
   "metadata": {},
   "outputs": [],
   "source": [
    "kharagpur=locate(oa,22.02, 87.11)"
   ]
  },
  {
   "cell_type": "code",
   "execution_count": 15,
   "metadata": {},
   "outputs": [
    {
     "data": {
      "text/plain": [
       "{'premonsoon': <xarray.Dataset>\n",
       " Dimensions:   ()\n",
       " Coordinates:\n",
       "     lat       float32 22.07119\n",
       "     lon       float32 87.1471\n",
       " Data variables:\n",
       "     pm25_POA  float32 11.016151\n",
       "     pm10_POA  float32 11.040606\n",
       "     pm25_SOA  float32 1.8303144\n",
       "     pm10_SOA  float32 1.8945693\n",
       "     pm1_POA   float32 1.9134412\n",
       "     pm1_SOA   float32 0.3262849,\n",
       " 'monsoon': <xarray.Dataset>\n",
       " Dimensions:   ()\n",
       " Coordinates:\n",
       "     lat       float32 22.07119\n",
       "     lon       float32 87.1471\n",
       " Data variables:\n",
       "     pm25_POA  float32 17.662724\n",
       "     pm10_POA  float32 17.677055\n",
       "     pm25_SOA  float32 7.0832295\n",
       "     pm10_SOA  float32 7.3085337\n",
       "     pm1_POA   float32 2.9350147\n",
       "     pm1_SOA   float32 1.1581697,\n",
       " 'postmonsoon': <xarray.Dataset>\n",
       " Dimensions:   ()\n",
       " Coordinates:\n",
       "     lat       float32 22.07119\n",
       "     lon       float32 87.1471\n",
       " Data variables:\n",
       "     pm25_POA  float32 39.260952\n",
       "     pm10_POA  float32 39.317608\n",
       "     pm25_SOA  float32 31.158293\n",
       "     pm10_SOA  float32 31.295586\n",
       "     pm1_POA   float32 4.439129\n",
       "     pm1_SOA   float32 2.0320466,\n",
       " 'winter': <xarray.Dataset>\n",
       " Dimensions:   ()\n",
       " Coordinates:\n",
       "     lat       float32 22.07119\n",
       "     lon       float32 87.1471\n",
       " Data variables:\n",
       "     pm25_POA  float32 42.14432\n",
       "     pm10_POA  float32 42.204235\n",
       "     pm25_SOA  float32 20.392637\n",
       "     pm10_SOA  float32 20.47925\n",
       "     pm1_POA   float32 4.7559276\n",
       "     pm1_SOA   float32 1.7073953}"
      ]
     },
     "execution_count": 15,
     "metadata": {},
     "output_type": "execute_result"
    }
   ],
   "source": [
    "kharagpur"
   ]
  },
  {
   "cell_type": "code",
   "execution_count": 16,
   "metadata": {},
   "outputs": [],
   "source": [
    "lahore=locate(oa,31.5799,74.3563)"
   ]
  },
  {
   "cell_type": "code",
   "execution_count": 17,
   "metadata": {},
   "outputs": [
    {
     "data": {
      "text/plain": [
       "{'premonsoon': <xarray.Dataset>\n",
       " Dimensions:   ()\n",
       " Coordinates:\n",
       "     lat       float32 31.511627\n",
       "     lon       float32 74.26834\n",
       " Data variables:\n",
       "     pm25_POA  float32 23.742403\n",
       "     pm10_POA  float32 23.763477\n",
       "     pm25_SOA  float32 6.0004807\n",
       "     pm10_SOA  float32 6.0702605\n",
       "     pm1_POA   float32 3.3171413\n",
       "     pm1_SOA   float32 0.6691562,\n",
       " 'monsoon': <xarray.Dataset>\n",
       " Dimensions:   ()\n",
       " Coordinates:\n",
       "     lat       float32 31.511627\n",
       "     lon       float32 74.26834\n",
       " Data variables:\n",
       "     pm25_POA  float32 12.8311405\n",
       "     pm10_POA  float32 12.855613\n",
       "     pm25_SOA  float32 18.060644\n",
       "     pm10_SOA  float32 18.469982\n",
       "     pm1_POA   float32 1.7834579\n",
       "     pm1_SOA   float32 0.997009,\n",
       " 'postmonsoon': <xarray.Dataset>\n",
       " Dimensions:   ()\n",
       " Coordinates:\n",
       "     lat       float32 31.511627\n",
       "     lon       float32 74.26834\n",
       " Data variables:\n",
       "     pm25_POA  float32 58.27659\n",
       "     pm10_POA  float32 58.409325\n",
       "     pm25_SOA  float32 38.739403\n",
       "     pm10_SOA  float32 38.92387\n",
       "     pm1_POA   float32 5.3402367\n",
       "     pm1_SOA   float32 2.3577614,\n",
       " 'winter': <xarray.Dataset>\n",
       " Dimensions:   ()\n",
       " Coordinates:\n",
       "     lat       float32 31.511627\n",
       "     lon       float32 74.26834\n",
       " Data variables:\n",
       "     pm25_POA  float32 40.923145\n",
       "     pm10_POA  float32 40.96588\n",
       "     pm25_SOA  float32 9.6257925\n",
       "     pm10_SOA  float32 9.641977\n",
       "     pm1_POA   float32 5.1861386\n",
       "     pm1_SOA   float32 0.9971396}"
      ]
     },
     "execution_count": 17,
     "metadata": {},
     "output_type": "execute_result"
    }
   ],
   "source": [
    "lahore"
   ]
  },
  {
   "cell_type": "code",
   "execution_count": 18,
   "metadata": {},
   "outputs": [],
   "source": [
    "patiala=locate(oa,30.2, 76.3)"
   ]
  },
  {
   "cell_type": "code",
   "execution_count": 19,
   "metadata": {},
   "outputs": [
    {
     "data": {
      "text/plain": [
       "{'premonsoon': <xarray.Dataset>\n",
       " Dimensions:   ()\n",
       " Coordinates:\n",
       "     lat       float32 30.263847\n",
       "     lon       float32 76.34556\n",
       " Data variables:\n",
       "     pm25_POA  float32 10.637166\n",
       "     pm10_POA  float32 10.649601\n",
       "     pm25_SOA  float32 5.8359337\n",
       "     pm10_SOA  float32 5.9235554\n",
       "     pm1_POA   float32 1.3330698\n",
       "     pm1_SOA   float32 0.5406581,\n",
       " 'monsoon': <xarray.Dataset>\n",
       " Dimensions:   ()\n",
       " Coordinates:\n",
       "     lat       float32 30.263847\n",
       "     lon       float32 76.34556\n",
       " Data variables:\n",
       "     pm25_POA  float32 7.9660597\n",
       "     pm10_POA  float32 7.9825253\n",
       "     pm25_SOA  float32 16.885798\n",
       "     pm10_SOA  float32 17.269686\n",
       "     pm1_POA   float32 0.83209324\n",
       "     pm1_SOA   float32 1.0456119,\n",
       " 'postmonsoon': <xarray.Dataset>\n",
       " Dimensions:   ()\n",
       " Coordinates:\n",
       "     lat       float32 30.263847\n",
       "     lon       float32 76.34556\n",
       " Data variables:\n",
       "     pm25_POA  float32 32.57851\n",
       "     pm10_POA  float32 32.629406\n",
       "     pm25_SOA  float32 19.969536\n",
       "     pm10_SOA  float32 20.066168\n",
       "     pm1_POA   float32 2.9155235\n",
       "     pm1_SOA   float32 1.4276474,\n",
       " 'winter': <xarray.Dataset>\n",
       " Dimensions:   ()\n",
       " Coordinates:\n",
       "     lat       float32 30.263847\n",
       "     lon       float32 76.34556\n",
       " Data variables:\n",
       "     pm25_POA  float32 21.527609\n",
       "     pm10_POA  float32 21.553762\n",
       "     pm25_SOA  float32 10.201638\n",
       "     pm10_SOA  float32 10.230571\n",
       "     pm1_POA   float32 1.983703\n",
       "     pm1_SOA   float32 0.80208117}"
      ]
     },
     "execution_count": 19,
     "metadata": {},
     "output_type": "execute_result"
    }
   ],
   "source": [
    "patiala"
   ]
  },
  {
   "cell_type": "code",
   "execution_count": 20,
   "metadata": {},
   "outputs": [],
   "source": [
    "kolkata=locate(oa,22.55, 88.33)"
   ]
  },
  {
   "cell_type": "code",
   "execution_count": 21,
   "metadata": {},
   "outputs": [
    {
     "data": {
      "text/plain": [
       "{'premonsoon': <xarray.Dataset>\n",
       " Dimensions:   ()\n",
       " Coordinates:\n",
       "     lat       float32 22.455666\n",
       "     lon       float32 88.39344\n",
       " Data variables:\n",
       "     pm25_POA  float32 10.063578\n",
       "     pm10_POA  float32 10.081475\n",
       "     pm25_SOA  float32 1.3155757\n",
       "     pm10_SOA  float32 1.3657765\n",
       "     pm1_POA   float32 1.9395657\n",
       "     pm1_SOA   float32 0.23465098,\n",
       " 'monsoon': <xarray.Dataset>\n",
       " Dimensions:   ()\n",
       " Coordinates:\n",
       "     lat       float32 22.455666\n",
       "     lon       float32 88.39344\n",
       " Data variables:\n",
       "     pm25_POA  float32 16.741154\n",
       "     pm10_POA  float32 16.755365\n",
       "     pm25_SOA  float32 4.586686\n",
       "     pm10_SOA  float32 4.7619896\n",
       "     pm1_POA   float32 2.995809\n",
       "     pm1_SOA   float32 0.82295823,\n",
       " 'postmonsoon': <xarray.Dataset>\n",
       " Dimensions:   ()\n",
       " Coordinates:\n",
       "     lat       float32 22.455666\n",
       "     lon       float32 88.39344\n",
       " Data variables:\n",
       "     pm25_POA  float32 60.025986\n",
       "     pm10_POA  float32 60.11562\n",
       "     pm25_SOA  float32 29.075203\n",
       "     pm10_SOA  float32 29.20123\n",
       "     pm1_POA   float32 6.307033\n",
       "     pm1_SOA   float32 1.9388757,\n",
       " 'winter': <xarray.Dataset>\n",
       " Dimensions:   ()\n",
       " Coordinates:\n",
       "     lat       float32 22.455666\n",
       "     lon       float32 88.39344\n",
       " Data variables:\n",
       "     pm25_POA  float32 73.70819\n",
       "     pm10_POA  float32 73.84002\n",
       "     pm25_SOA  float32 29.191671\n",
       "     pm10_SOA  float32 29.31028\n",
       "     pm1_POA   float32 6.8998995\n",
       "     pm1_SOA   float32 2.0588}"
      ]
     },
     "execution_count": 21,
     "metadata": {},
     "output_type": "execute_result"
    }
   ],
   "source": [
    "kolkata"
   ]
  },
  {
   "cell_type": "code",
   "execution_count": null,
   "metadata": {},
   "outputs": [],
   "source": []
  }
 ],
 "metadata": {
  "kernelspec": {
   "display_name": "Python 3",
   "language": "python",
   "name": "python3"
  },
  "language_info": {
   "codemirror_mode": {
    "name": "ipython",
    "version": 3
   },
   "file_extension": ".py",
   "mimetype": "text/x-python",
   "name": "python",
   "nbconvert_exporter": "python",
   "pygments_lexer": "ipython3",
   "version": "3.8.2"
  }
 },
 "nbformat": 4,
 "nbformat_minor": 4
}
