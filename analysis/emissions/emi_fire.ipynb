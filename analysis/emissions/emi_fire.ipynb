{
 "cells": [
  {
   "cell_type": "markdown",
   "metadata": {},
   "source": [
    "This notebook calcualte and plot total fire emissions over the IGP. "
   ]
  },
  {
   "cell_type": "code",
   "execution_count": 1,
   "metadata": {},
   "outputs": [
    {
     "name": "stdout",
     "output_type": "stream",
     "text": [
      "WRFchem outputs data path is: dpath=/geos/d21/s1878599/IGP\n"
     ]
    }
   ],
   "source": [
    "# import modules\n",
    "%run ../load_main.py"
   ]
  },
  {
   "cell_type": "markdown",
   "metadata": {},
   "source": [
    "## Define functions"
   ]
  },
  {
   "cell_type": "markdown",
   "metadata": {},
   "source": [
    "### Plot"
   ]
  },
  {
   "cell_type": "code",
   "execution_count": 11,
   "metadata": {},
   "outputs": [],
   "source": [
    "#SPATIAL PLOT OVER IGP\n",
    "\n",
    "import matplotlib as mpl\n",
    "import matplotlib.pyplot as plt\n",
    "import matplotlib.ticker as mticker\n",
    "from mpl_toolkits.axes_grid1.colorbar import colorbar\n",
    "import cartopy.crs as ccrs\n",
    "import cartopy.feature as cfeature\n",
    "from cartopy.mpl.gridliner import LONGITUDE_FORMATTER, LATITUDE_FORMATTER\n",
    "import cartopy.io.shapereader as shpreader\n",
    "\n",
    "def set_formatter(axes):\n",
    "    for ax in axes:\n",
    "        gl = ax.gridlines(crs=ccrs.PlateCarree(), draw_labels=True,\n",
    "                          linewidth=0.5, color='k', alpha=0.4, linestyle='-')\n",
    "        gl.xlabels_top = False\n",
    "        gl.xlabels_bottom = False\n",
    "        gl.ylabels_right = False\n",
    "        gl.ylabels_left = False\n",
    "        gl.ylocator = mticker.FixedLocator([20,25,30,35])\n",
    "        gl.xlocator = mticker.FixedLocator([70,80,90])\n",
    "        \n",
    "        ax.add_feature(cfeature.COASTLINE, lw=0.3)\n",
    "        ax.add_feature(cfeature.BORDERS, lw=0.3)\n",
    "        gl.xlabel_style = {'size': 10, 'color': 'grey'}\n",
    "        gl.ylabel_style = {'size': 10, 'color': 'grey'}\n",
    "\n",
    "     # get lon values only n the last ax\n",
    "        if ax==axes[3]:\n",
    "            gl.xlabels_bottom = True\n",
    "    \n",
    "    \n",
    "def set_admin(axes, shp_path):\n",
    "    for ax,shp in zip(axes,shp_path):\n",
    "            admin = list(shpreader.Reader(shp).geometries())\n",
    "            # Add data from Global Administrative Areas Dataset GDAM https://gadm.org/index.html\n",
    "            ax.add_geometries(admin, ccrs.PlateCarree(),\n",
    "                      edgecolor='black', facecolor='none', alpha=0.9, lw=0.3)\n",
    "            \n",
    "def emiplot(lat,lon,pmds,mds,ads,wds,panels=[\"(b)\",\"(e)\",\"(h)\",\"(k)\"], title=None, label=None, cmap=\"OrRd\",vmax=None, vmin=0,levs=10, delta=None, \n",
    "            figsize=[7, 10],format=\"%.2f\",save=False,spath=None,name=\"plot\",savef='pdf', dpi=100):\n",
    "\n",
    "    fig, axes =plt.subplots(nrows=4,ncols=1,figsize=figsize, subplot_kw={'projection': ccrs.PlateCarree()})\n",
    "    \n",
    "    igp_shp=\"/exports/csce/datastore/geos/users/s1878599/phd_work/IGP/gadm_data/IGP/IGP.shp\"\n",
    "    shp_path=(igp_shp,igp_shp,igp_shp,igp_shp)\n",
    "    \n",
    "    set_formatter(axes.flatten())\n",
    "    set_admin(axes.flatten(), shp_path)\n",
    " \n",
    "    #Getting values.\n",
    "    vpm=pmds[0,:,:].values\n",
    "    vm= mds[0,:,:].values\n",
    "    va= ads[0,:,:].values \n",
    "    vw= wds[0,:,:].values\n",
    "   \n",
    "    import math # Get the max value in the array to plot.\n",
    "    vmax_v =np.array([np.nanmax(vpm),np.nanmax(vm),np.nanmax(va),np.nanmax(vw)]).max()        \n",
    "    vmin=vmin\n",
    "    print(vmax,vmin)\n",
    "    \n",
    "    if vmax is None:\n",
    "        levels = np.linspace(vmin, vmax_v,levs)  # number of levels for which divide the bar. Customised. \n",
    "    else:\n",
    "        levels = np.linspace(vmin, vmax, levs)\n",
    "    \n",
    "    # premonsoon\n",
    "    cspm=axes[0].contourf(lon,lat,vpm,transform=ccrs.PlateCarree(),cmap=cmap,levels=levels, extend=\"both\")\n",
    "    cspm.cmap.set_under('#FFFFFF')\n",
    "    cspm.cmap.set_over('#FFFF00')\n",
    "                                                 \n",
    "    # monsoon\n",
    "    csm=axes[1].contourf(lon,lat,vm,transform=ccrs.PlateCarree(),cmap=cmap,levels=levels, extend=\"both\")\n",
    "    csm.cmap.set_under('#FFFFFF')\n",
    "    csm.cmap.set_over('#FFFF00')\n",
    "    #autumn\n",
    "    csa=axes[2].contourf(lon,lat,va,transform=ccrs.PlateCarree(),cmap=cmap,levels=levels, extend=\"both\")\n",
    "    csa.cmap.set_under('#FFFFFF')\n",
    "    csa.cmap.set_over('#FFFF00')\n",
    "    #winter\n",
    "    csw=axes[3].contourf(lon,lat,vw,transform=ccrs.PlateCarree(),cmap=cmap,levels=levels, extend=\"both\")\n",
    "    csw.cmap.set_under('#FFFFFF')\n",
    "    csw.cmap.set_over('#FFFF00')\n",
    "    \n",
    "\n",
    "    \"\"\"\n",
    "    axes[0].text(-0.2, 0.55, 'PRE-MONSOON', va='bottom', ha='center',\n",
    "        rotation='vertical', rotation_mode='anchor', fontsize=12,\n",
    "        transform=axes[0].transAxes)\n",
    "    axes[1].text(-0.2, 0.55, 'MONSOON', va='bottom', ha='center',\n",
    "        rotation='vertical', rotation_mode='anchor', fontsize=12,\n",
    "        transform=axes[1].transAxes)\n",
    "    axes[2].text(-0.2, 0.55, 'POST-MONSOON', va='bottom', ha='center',\n",
    "        rotation='vertical', rotation_mode='anchor', fontsize=12,\n",
    "        transform=axes[2].transAxes)\n",
    "    axes[3].text(-0.2, 0.55, 'WINTER', va='bottom', ha='center',\n",
    "        rotation='vertical', rotation_mode='anchor', fontsize=12,\n",
    "        transform=axes[3].transAxes)\n",
    "    \"\"\"\n",
    "    \n",
    "    #add panel boxes\n",
    "    panels=panels\n",
    "    for ax,p in zip(fig.axes,panels):\n",
    "        ax.annotate(p, xy=(1, 1), xytext=(-5, -5), fontsize=12,\n",
    "        xycoords='axes fraction', textcoords='offset points',\n",
    "        bbox=dict(facecolor='white',edgecolor='white', alpha=0.8),\n",
    "        horizontalalignment='right', verticalalignment='top')\n",
    "    \n",
    "    \n",
    "    #cbar\n",
    "    cbar_ax = fig.add_axes([0.8, 0.15, 0.04, 0.7])  #[left, bottom, width, height]\n",
    "    cbar= fig.colorbar(csw, cax=cbar_ax,pad=0.1,shrink=0.5, format=format)\n",
    "    cbar.set_label(label,fontsize=13)\n",
    "    cbar.ax.tick_params(labelsize='medium')\n",
    "    \n",
    "    \n",
    "\n",
    "    #reshape spacing between ticks\n",
    "    if delta is None:\n",
    "            delta=vmax/10\n",
    "            cbar.set_ticks([0.001,0.1,0.2,0.3,0.4,0.5,0.6,0.7,0.8,0.9,1.0])\n",
    "            cbar.set_ticklabels([0.001,0.1,0.2,0.3,0.4,0.5,0.6,0.7,0.8,0.9,1.0])\n",
    "    \n",
    "    \n",
    "    #title\n",
    "    if title is not None:\n",
    "        axes[0].set_title(title, fontsize=12,pad=20)\n",
    "    \n",
    "    plt.subplots_adjust(wspace=0.05, hspace=0.05)\n",
    "    \n",
    "    #save\n",
    "    if save:\n",
    "        plt.savefig( spath + name +'.' + savef, format=savef, dpi=dpi,bbox_inches = \"tight\")\n",
    "    \n",
    "    \n",
    "    fig.show()"
   ]
  },
  {
   "cell_type": "markdown",
   "metadata": {},
   "source": [
    "### Emissions"
   ]
  },
  {
   "cell_type": "markdown",
   "metadata": {},
   "source": [
    "The following functions convert emissons rates in emissons inputs(wrffirechemi, wrfchemi,wrfbiochemi) \n",
    "to total emissions for each gridpoint and for all domain. This is done for chemical mechanism MOZART-MOSAIC.\n",
    "Molecular weights for each variable have been derived following the speciation described for the MOZART mechanism in \n",
    "Emmons, Louisa K., et al. \"Description and evaluation of the Model for Ozone and Related chemical Tracers, version 4 (MOZART-4).\" \n",
    "Geoscientific Model Development 3.1 (2010): 43-67 - (Table 2) and relevant updates in Knote, Christoph, et al. \"Simulation of semi-explicit mechanisms of SOA formation from glyoxal in aerosol in a 3-D model.\" \n",
    "Atmospheric Chemistry and Physics 14.12 (2014): 6213-6239 (Table 1)."
   ]
  },
  {
   "cell_type": "code",
   "execution_count": 3,
   "metadata": {},
   "outputs": [],
   "source": [
    "# CALCULATE TOTAL FIRE EMISSIONS.\n",
    "\n",
    "def emi_unirates_fire(ds): \n",
    "    \"uniforms all emissions rates from [mol km-2 hr-1] to [ug m-2 s-1]\"\n",
    "\n",
    "    #NOTE non obvious conversions (based on the fire_map in fire-emis utility): open->BIGALD;acetol -> HYAC, apin->CH10H16\n",
    "    molw ={ \"co\":28, \"no\":30,\"no2\":46,\"so2\":64,\"bigalk\":72,\"bigene\":56, \"c2h4\":28, \"c2h5oh\":46, \"c2h6\":30, \"c3h8\":44, \"c3h6\":42, \n",
    "            \"ch2o\":30, \"ch3cho\":44, \"ch3coch3\":58, \"ch3oh\":32, \"mek\":72, \"toluene\":92, \"nh3\":17,\"open\":98, \"c10h16\":136, \n",
    "           \"ch3cooh\":60, \"cres\":108, \"glyald\":60, \"mgly\":72, \"acetol\":74, \"isop\":68, \"macr\":70, \n",
    "            \"mvk\":70, \"gly\":72}\n",
    "    gug=1e+6 #g to ug.\n",
    "    km2m2=1e+6 # km2 to m2.\n",
    "    hrsec=3600 #hour to sec \n",
    "    conv = gug/(km2m2*hrsec)   # ug m-2 s-1\n",
    "    dsc=ds.copy(deep=True)\n",
    "    for sp in molw.keys():\n",
    "        dsc[\"ebu_in_\"+ sp]= dsc[\"ebu_in_\"+ sp]*molw[sp]*conv  \n",
    "        dsc[\"ebu_in_\"+ sp].attrs[\"units\"]=\"ug m-2 s-1\"\n",
    "\n",
    "    return dsc\n",
    "\n",
    "def calc_hour_emifire(ds):\n",
    "    \"\"\"\n",
    "    Convert wrffirechemi emissions rates to \"g m-2 hour-1\"\n",
    "    \n",
    "    \"\"\"\n",
    "    hrsec=3600 #hour to sec\n",
    "    ugg=1e-6 #ug to g\n",
    "    \n",
    "    dse=ds.copy(deep=True)\n",
    "    \n",
    "    for da in dse.data_vars.values():\n",
    "        if da.name.startswith(\"ebu_in\"):\n",
    "            dse[da.name]=dse[da.name]*ugg*hrsec   # hourly emissions at each gridpoint.\n",
    "            dse[da.name].attrs[\"units\"]=\"g m-2 hour-1\"\n",
    "   \n",
    "    return dse\n",
    "\n",
    "def add_tot_hour_emifire(ds):\n",
    "    \"\"\"\n",
    "     Add total (all species) wrffirechemi emissions in g m-2 hour-1\"\n",
    "    \n",
    "    \"\"\"\n",
    "    \n",
    "    ds[\"tot_emi\"]= xr.DataArray(np.zeros(ds.ebu_in_no.shape), coords=ds.coords, dims=ds.dims)\n",
    "    \n",
    "    \n",
    "    for da in ds.data_vars.values():\n",
    "        if da.name.startswith(\"ebu_in\"):\n",
    "            ds[\"tot_emi\"]=ds[\"tot_emi\"]+ds[da.name]  #adding to total emissions.\n",
    "            \n",
    "    ds[\"tot_emi\"].attrs[\"units\"]= \"g m-2 hour-1\"\n",
    "    \n",
    "def calc_avg_day_emifire(ds):\n",
    "    # Calculate average daily emissions\n",
    "    ds[\"avg_day_emi\"]=ds.tot_emi.sum(\"Time\")/(len(ds.Time)/24)\n",
    "    ds.avg_day_emi.attrs[\"units\"]=\"g m-2 day-1\"\n",
    "    \n",
    "    \n",
    "def calc_emifire(ds):\n",
    "    dse= calc_hour_emifire(emi_unirates_fire(ds))\n",
    "    add_tot_hour_emifire(dse)\n",
    "    calc_avg_day_emifire(dse)\n",
    "    return dse "
   ]
  },
  {
   "cell_type": "markdown",
   "metadata": {},
   "source": [
    "### utils"
   ]
  },
  {
   "cell_type": "code",
   "execution_count": 4,
   "metadata": {},
   "outputs": [],
   "source": [
    "# ADD LAT LON CCORDIANTES TO FIRE EMISSIONS (they don't have it by default)\n",
    "\n",
    "def add_lat_lon_fire(dsf):\n",
    "    #Adding XLAT and XLONG to fire emissions dataset\n",
    "    datapath =dpath+'/outputs/autumn/wrfout_d01_2017-10-18_00:00:00_.nc'\n",
    "    ds = xr.open_dataset(datapath)\n",
    "    \n",
    "    #reshaping XLAT and LONG to ds_fire sizes.\n",
    "    lat =np.resize(ds.XLAT.values,dsf.ebu_in_co.shape)\n",
    "    long =np.resize(ds.XLONG.values,dsf.ebu_in_co.shape)\n",
    "\n",
    "    #adding to ds_fire\n",
    "    dsf['XLAT'] = xr.DataArray(lat, dims = dsf.dims)\n",
    "    dsf['XLONG'] = xr.DataArray(long, dims = dsf.dims)"
   ]
  },
  {
   "cell_type": "markdown",
   "metadata": {},
   "source": [
    "## Calculate and plot total fire emissions"
   ]
  },
  {
   "cell_type": "code",
   "execution_count": 5,
   "metadata": {},
   "outputs": [],
   "source": [
    "#Get seasonal fire emissions\n",
    "fa_pth =dpath+\"/inp_emiss/autumn/emi_base/wrffirechemi_d01_2017-*\"\n",
    "fw_pth =dpath+\"/inp_emiss/winter/emi_base/wrffirechemi_d01_2018-*\"\n",
    "fm_pth =dpath+\"/inp_emiss/monsoon/emi_base/wrffirechemi_d01_2017-*\"\n",
    "fpm_pth=dpath+\"/inp_emiss/premonsoon/emi_base/wrffirechemi_d01_2017-*\"\n",
    "\n",
    "fa= xr.open_mfdataset(fa_pth,concat_dim=\"Time\")\n",
    "fw=xr.open_mfdataset(fw_pth,concat_dim=\"Time\")\n",
    "fm= xr.open_mfdataset(fm_pth,concat_dim=\"Time\")\n",
    "fpm= xr.open_mfdataset(fpm_pth,concat_dim=\"Time\")"
   ]
  },
  {
   "cell_type": "code",
   "execution_count": 6,
   "metadata": {},
   "outputs": [
    {
     "data": {
      "text/plain": [
       "36.0"
      ]
     },
     "execution_count": 6,
     "metadata": {},
     "output_type": "execute_result"
    }
   ],
   "source": [
    "len(fw.Time)/24"
   ]
  },
  {
   "cell_type": "code",
   "execution_count": 7,
   "metadata": {},
   "outputs": [],
   "source": [
    "# Calculate emissions\n",
    "fa_e = calc_emifire(fa)\n",
    "fw_e = calc_emifire(fw)\n",
    "fm_e = calc_emifire(fm)\n",
    "fpm_e = calc_emifire(fpm)"
   ]
  },
  {
   "cell_type": "code",
   "execution_count": 8,
   "metadata": {
    "scrolled": false
   },
   "outputs": [],
   "source": [
    "#Add lat lon\n",
    "add_lat_lon_fire(fa_e)\n",
    "add_lat_lon_fire(fw_e)\n",
    "add_lat_lon_fire(fm_e)\n",
    "add_lat_lon_fire(fpm_e)"
   ]
  },
  {
   "cell_type": "code",
   "execution_count": 9,
   "metadata": {},
   "outputs": [],
   "source": [
    "#subset only over IGP\n",
    "import salem\n",
    "shdf= salem.read_shapefile(\"/exports/csce/datastore/geos/users/s1878599/phd_work/IGP/gadm_data/IGP/IGP.shp\")\n",
    "fae_igp=fa_e.salem.roi(shape=shdf)\n",
    "fwe_igp=fw_e.salem.roi(shape=shdf)\n",
    "fpme_igp=fpm_e.salem.roi(shape=shdf)\n",
    "fme_igp=fm_e.salem.roi(shape=shdf)"
   ]
  },
  {
   "cell_type": "code",
   "execution_count": 12,
   "metadata": {},
   "outputs": [
    {
     "name": "stdout",
     "output_type": "stream",
     "text": [
      "1.0 0.001\n"
     ]
    },
    {
     "data": {
      "image/png": "[encoded data removed]",
      "text/plain": [
       "<Figure size 360x504 with 5 Axes>"
      ]
     },
     "metadata": {
      "needs_background": "light"
     },
     "output_type": "display_data"
    }
   ],
   "source": [
    "#Plot\n",
    "lat = fa_e.XLAT[0,0,:,:]\n",
    "lon  = fa_e.XLONG[0,0,:, :]\n",
    "\n",
    "savepth=\"./\"\n",
    "emiplot(lat,lon,fpme_igp.avg_day_emi,fme_igp.avg_day_emi,fae_igp.avg_day_emi,fwe_igp.avg_day_emi,cmap=\"viridis\",vmin=0.001,vmax=1.0, label=\"g m$^{-2}$ day$^{-1}$\", \n",
    "        levs=11,figsize=[5,7],format=\"%.2f\",save=True, spath=savepth,name=\"emi_fire\",savef='png', dpi=300)"
   ]
  },
  {
   "cell_type": "code",
   "execution_count": null,
   "metadata": {},
   "outputs": [],
   "source": []
  }
 ],
 "metadata": {
  "kernelspec": {
   "display_name": "Python 3",
   "language": "python",
   "name": "python3"
  },
  "language_info": {
   "codemirror_mode": {
    "name": "ipython",
    "version": 3
   },
   "file_extension": ".py",
   "mimetype": "text/x-python",
   "name": "python",
   "nbconvert_exporter": "python",
   "pygments_lexer": "ipython3",
   "version": "3.8.2"
  }
 },
 "nbformat": 4,
 "nbformat_minor": 2
}
