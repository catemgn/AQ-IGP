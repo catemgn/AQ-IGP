{
 "cells": [
  {
   "cell_type": "code",
   "execution_count": 1,
   "metadata": {},
   "outputs": [
    {
     "name": "stderr",
     "output_type": "stream",
     "text": [
      "/usr/lib/python3.6/site-packages/dask/config.py:129: YAMLLoadWarning: calling yaml.load() without Loader=... is deprecated, as the default Loader is unsafe. Please read https://msg.pyyaml.org/load for full details.\n",
      "  data = yaml.load(f.read()) or {}\n"
     ]
    }
   ],
   "source": [
    "#import modules\n",
    "import xarray as xr\n",
    "import numpy as np\n",
    "import pandas as pd\n",
    "import plotly.graph_objects as go\n",
    "\n",
    "#import local module for analysis\n",
    "from WRFChemToolkit.analysis import functions as anly\n",
    "from WRFChemToolkit.plots import functions as plot\n",
    "\n",
    "import matplotlib.pyplot as plt\n",
    "import matplotlib.ticker as mticker\n",
    "\n",
    "from cartopy import config\n",
    "import cartopy.crs as ccrs\n",
    "import cartopy.feature as cfeature\n",
    "from cartopy.mpl.gridliner import LONGITUDE_FORMATTER, LATITUDE_FORMATTER\n",
    "\n",
    "import warnings\n",
    "warnings.filterwarnings('ignore')"
   ]
  },
  {
   "cell_type": "code",
   "execution_count": 86,
   "metadata": {},
   "outputs": [],
   "source": [
    "datapath ='/exports/csce/datastore/geos/users/s1878599/WRFchem4.0/model/WRF/test/em_real_copy/wrfinput_d01'\n",
    "#Merge datasets\n",
    "ds = xr.open_dataset(datapath)"
   ]
  },
  {
   "cell_type": "code",
   "execution_count": 3,
   "metadata": {},
   "outputs": [],
   "source": [
    "def pm25_component_of(dataset, species):\n",
    "    \"\"\"\n",
    "    Sum up the species values for bin sizes (from 1 to 3) making up PM25.\n",
    "    Add the total contribution of the species to PM25 concentration.\n",
    "    TODO change units from mixing ratio to ug/m3.\n",
    "\n",
    "    :param species: name of the chemical species\n",
    "    :type species: string.\n",
    "    :return:\n",
    "    :rtype: xarray DataArray.\n",
    "    \"\"\"\n",
    "    return dataset[species + '_a01'] + dataset[species + '_a02'] + dataset[\n",
    "        species + '_a03']"
   ]
  },
  {
   "cell_type": "code",
   "execution_count": 4,
   "metadata": {},
   "outputs": [],
   "source": [
    "def var_space_mean(ds):\n",
    " \"\"\"\n",
    "  Make the average over '' dimension of a datarray.\n",
    "\n",
    "  :param da:\n",
    "    datarray to be averaged.\n",
    "  :type da: xarray DataArray.\n",
    "  :return:\n",
    "    Time averaged da.\n",
    "  :rtype: xarray DataSet.\n",
    " \"\"\"\n",
    " return xr.Dataset(dict(ds.mean(dim= ['south_north','west_east'],\n",
    "                                   keep_attrs=True).data_vars), coords=dict(ds.coords))"
   ]
  },
  {
   "cell_type": "code",
   "execution_count": 5,
   "metadata": {},
   "outputs": [],
   "source": [
    "#sum up components\n",
    "ds['so4_pm25'] = pm25_component_of(ds,'so4')\n",
    "ds['nh4_pm25'] = pm25_component_of(ds,'nh4')\n",
    "ds['no3_pm25'] = pm25_component_of(ds,'no3')"
   ]
  },
  {
   "cell_type": "code",
   "execution_count": 6,
   "metadata": {},
   "outputs": [],
   "source": [
    "#Black carbon organic carbon BC OC\n",
    "#sum up components\n",
    "ds['oc_pm25'] = pm25_component_of(ds,'oc')\n",
    "ds['bc_pm25'] = pm25_component_of(ds,'bc')"
   ]
  },
  {
   "cell_type": "code",
   "execution_count": 8,
   "metadata": {},
   "outputs": [],
   "source": [
    "#Total PM2.5_dry in Ug/m3 divide by ALT\n",
    "ds['pm25_dust'] = pm25_component_of(ds,'oin')\n",
    "ds['pm25_seas'] = pm25_component_of(ds,'na')\n",
    "\n",
    "ds['pm25_tot_dry'] = (ds['pm25_soa'] + ds['oc_pm25'] + ds['bc_pm25'] + ds['so4_pm25'] +ds['nh4_pm25'] + ds['no3_pm25'] +ds['pm25_dust']+ ds['pm25_seas'])/ds.ALT"
   ]
  },
  {
   "cell_type": "code",
   "execution_count": 8,
   "metadata": {},
   "outputs": [],
   "source": [
    "def space_subset(dataset, lat_lim, long_lim ):\n",
    "    \"\"\"\n",
    "    Extract spatial subset of data given lat and long limits.\n",
    "    \n",
    "    \n",
    "    \"\"\"\n",
    "    \n",
    "    s_subset= ds.where((long_lim[0] < ds.XLONG) & (ds.XLONG < long_lim[1])\n",
    "         & (lat_lim[0] < ds.XLAT) & (ds.XLAT < lat_lim[1]), drop=True)\n",
    "  \n",
    "    return s_subset"
   ]
  },
  {
   "cell_type": "code",
   "execution_count": 11,
   "metadata": {},
   "outputs": [],
   "source": [
    "space_subset = space_subset(ds,[20,35], [60,90])  #delhi ncr"
   ]
  },
  {
   "cell_type": "code",
   "execution_count": 20,
   "metadata": {},
   "outputs": [],
   "source": [
    "import matplotlib.pyplot as plt\n",
    "import cartopy.crs as ccrs\n",
    "import cartopy.feature as cfeature\n",
    "import cartopy.io.shapereader as shpreader\n",
    "from cartopy.mpl.gridliner import LONGITUDE_FORMATTER, LATITUDE_FORMATTER\n",
    "\n",
    "\n",
    "def var_plot_2D(dataset, var_name, level, title):\n",
    "    \n",
    "    var = dataset[var_name][0,:,:,:]\n",
    "    \n",
    "    #draw map\n",
    "    ax = plt.subplot(projection=ccrs.PlateCarree())\n",
    "    \n",
    "    # draw coastlines and borders\n",
    "    ax.add_feature(cfeature.COASTLINE)\n",
    "    ax.add_feature(cfeature.BORDERS, lw=0.5)\n",
    "    \n",
    "    #draw meridians and parallels\n",
    "    gl = ax.gridlines(crs=ccrs.PlateCarree(), draw_labels=True,\n",
    "                  linewidth=0.5, color='k', alpha=0.4, linestyle='-')\n",
    "    gl.xlabels_top = False\n",
    "    gl.ylabels_right = False\n",
    "    gl.xformatter = LONGITUDE_FORMATTER\n",
    "    gl.yformatter = LATITUDE_FORMATTER\n",
    "    gl.xlabel_style = {'size': 10, 'color': 'gray'}\n",
    "    gl.ylabel_style = {'size': 10, 'color': 'grey'}\n",
    "    \n",
    "    #plot SURFACE data\n",
    "    long = dataset.XLONG.values[0,:,:]\n",
    "    lat  = dataset.XLAT.values[0,:,:]\n",
    "    var_values= var[level,:,:] \n",
    "    res = 15 #controls the resolution for the map plotting.\n",
    "    \n",
    "    cs=plt.contourf( long, lat, var_values, res,\n",
    "             transform=ccrs.PlateCarree(), cmap=plt.cm.YlGnBu)\n",
    "\n",
    "    #colorbar\n",
    "    cbar = plt.colorbar(cs) # pad=0.2 #format='%.2e'\n",
    "    cbar.set_label(var.units)\n",
    "    ax.set_title(title)\n",
    "    \n",
    "    #plotting parameters\n",
    "    plt.rcParams['figure.figsize'] = [10, 5]\n"
   ]
  },
  {
   "cell_type": "code",
   "execution_count": 46,
   "metadata": {},
   "outputs": [],
   "source": [
    "def timeavg(ds):\n",
    "     return xr.Dataset(dict(ds.mean(dim='Time', keep_attrs=True).data_vars), coords = dict(ds.coords))"
   ]
  },
  {
   "cell_type": "code",
   "execution_count": 80,
   "metadata": {},
   "outputs": [
    {
     "data": {
      "image/png": "[encoded data removed]",
      "text/plain": [
       "<Figure size 720x360 with 2 Axes>"
      ]
     },
     "metadata": {
      "needs_background": "light"
     },
     "output_type": "display_data"
    }
   ],
   "source": [
    "var_plot_2D(ds, 'no2',0, 'no upper')"
   ]
  },
  {
   "cell_type": "code",
   "execution_count": 73,
   "metadata": {
    "scrolled": false
   },
   "outputs": [
    {
     "data": {
      "text/plain": [
       "<bound method ImplementsDatasetReduce._reduce_method.<locals>.wrapped_func of <xarray.Dataset>\n",
       "Dimensions:               (DIM0012: 5, Time: 1, bottom_top: 39, bottom_top_stag: 40, dust_erosion_dimension: 3, klevs_for_fire: 1, land_cat_stag: 20, months_per_year_stag: 12, num_ext_model_couple_dom_stag: 1, soil_cat_stag: 16, soil_layers_stag: 4, south_north: 119, south_north_stag: 120, urban_vertical_layers_stag: 15, west_east: 169, west_east_stag: 170)\n",
       "Coordinates:\n",
       "    XLAT                  (Time, south_north, west_east) float32 16.689293 ... 38.23912\n",
       "    XLONG                 (Time, south_north, west_east) float32 64.551346 ... 99.448654\n",
       "    XLAT_U                (Time, south_north, west_east_stag) float32 ...\n",
       "    XLONG_U               (Time, south_north, west_east_stag) float32 ...\n",
       "    XLAT_V                (Time, south_north_stag, west_east) float32 ...\n",
       "    XLONG_V               (Time, south_north_stag, west_east) float32 ...\n",
       "Dimensions without coordinates: DIM0012, Time, bottom_top, bottom_top_stag, dust_erosion_dimension, klevs_for_fire, land_cat_stag, months_per_year_stag, num_ext_model_couple_dom_stag, soil_cat_stag, soil_layers_stag, south_north, south_north_stag, urban_vertical_layers_stag, west_east, west_east_stag\n",
       "Data variables:\n",
       "    Times                 (Time) |S19 ...\n",
       "    UST_T                 (Time, south_north, west_east) float32 0.0 0.0 ... 0.0\n",
       "    ebu_in_co             (Time, klevs_for_fire, south_north, west_east) float32 0.0 ... 0.0\n",
       "    ebu_in_no             (Time, klevs_for_fire, south_north, west_east) float32 0.0 ... 0.0\n",
       "    ebu_in_bigalk         (Time, klevs_for_fire, south_north, west_east) float32 0.0 ... 0.0\n",
       "    ebu_in_bigene         (Time, klevs_for_fire, south_north, west_east) float32 0.0 ... 0.0\n",
       "    ebu_in_c2h4           (Time, klevs_for_fire, south_north, west_east) float32 0.0 ... 0.0\n",
       "    ebu_in_c2h5oh         (Time, klevs_for_fire, south_north, west_east) float32 0.0 ... 0.0\n",
       "    ebu_in_c2h6           (Time, klevs_for_fire, south_north, west_east) float32 0.0 ... 0.0\n",
       "    ebu_in_c3h6           (Time, klevs_for_fire, south_north, west_east) float32 0.0 ... 0.0\n",
       "    ebu_in_c3h8           (Time, klevs_for_fire, south_north, west_east) float32 0.0 ... 0.0\n",
       "    ebu_in_ch2o           (Time, klevs_for_fire, south_north, west_east) float32 0.0 ... 0.0\n",
       "    ebu_in_ch3cho         (Time, klevs_for_fire, south_north, west_east) float32 0.0 ... 0.0\n",
       "    ebu_in_ch3coch3       (Time, klevs_for_fire, south_north, west_east) float32 0.0 ... 0.0\n",
       "    ebu_in_ch3oh          (Time, klevs_for_fire, south_north, west_east) float32 0.0 ... 0.0\n",
       "    ebu_in_mek            (Time, klevs_for_fire, south_north, west_east) float32 0.0 ... 0.0\n",
       "    ebu_in_so2            (Time, klevs_for_fire, south_north, west_east) float32 0.0 ... 0.0\n",
       "    ebu_in_toluene        (Time, klevs_for_fire, south_north, west_east) float32 0.0 ... 0.0\n",
       "    ebu_in_nh3            (Time, klevs_for_fire, south_north, west_east) float32 0.0 ... 0.0\n",
       "    ebu_in_no2            (Time, klevs_for_fire, south_north, west_east) float32 0.0 ... 0.0\n",
       "    ebu_in_open           (Time, klevs_for_fire, south_north, west_east) float32 0.0 ... 0.0\n",
       "    ebu_in_c10h16         (Time, klevs_for_fire, south_north, west_east) float32 0.0 ... 0.0\n",
       "    ebu_in_mgly           (Time, klevs_for_fire, south_north, west_east) float32 0.0 ... 0.0\n",
       "    ebu_in_ch3cooh        (Time, klevs_for_fire, south_north, west_east) float32 0.0 ... 0.0\n",
       "    ebu_in_cres           (Time, klevs_for_fire, south_north, west_east) float32 0.0 ... 0.0\n",
       "    ebu_in_glyald         (Time, klevs_for_fire, south_north, west_east) float32 0.0 ... 0.0\n",
       "    ebu_in_gly            (Time, klevs_for_fire, south_north, west_east) float32 0.0 ... 0.0\n",
       "    ebu_in_acetol         (Time, klevs_for_fire, south_north, west_east) float32 0.0 ... 0.0\n",
       "    ebu_in_isop           (Time, klevs_for_fire, south_north, west_east) float32 0.0 ... 0.0\n",
       "    ebu_in_macr           (Time, klevs_for_fire, south_north, west_east) float32 0.0 ... 0.0\n",
       "    ebu_in_mvk            (Time, klevs_for_fire, south_north, west_east) float32 0.0 ... 0.0\n",
       "    ebu_in_pm25           (Time, klevs_for_fire, south_north, west_east) float32 0.0 ... 0.0\n",
       "    ebu_in_pm10           (Time, klevs_for_fire, south_north, west_east) float32 0.0 ... 0.0\n",
       "    ebu_in_oc             (Time, klevs_for_fire, south_north, west_east) float32 0.0 ... 0.0\n",
       "    ebu_in_bc             (Time, klevs_for_fire, south_north, west_east) float32 0.0 ... 0.0\n",
       "    MEAN_FCT_AGTF         (Time, south_north, west_east) float32 0.0 0.0 ... 0.0\n",
       "    MEAN_FCT_AGEF         (Time, south_north, west_east) float32 0.0 0.0 ... 0.0\n",
       "    MEAN_FCT_AGSV         (Time, south_north, west_east) float32 0.0 0.0 ... 0.0\n",
       "    MEAN_FCT_AGGR         (Time, south_north, west_east) float32 0.0 0.0 ... 0.0\n",
       "    FIRESIZE_AGTF         (Time, south_north, west_east) float32 0.0 0.0 ... 0.0\n",
       "    FIRESIZE_AGEF         (Time, south_north, west_east) float32 0.0 0.0 ... 0.0\n",
       "    FIRESIZE_AGSV         (Time, south_north, west_east) float32 0.0 0.0 ... 0.0\n",
       "    FIRESIZE_AGGR         (Time, south_north, west_east) float32 0.0 0.0 ... 0.0\n",
       "    SEBIO_ISO             (Time, south_north, west_east) float32 0.0 0.0 ... 0.0\n",
       "    SEBIO_OLI             (Time, south_north, west_east) float32 0.0 0.0 ... 0.0\n",
       "    SEBIO_API             (Time, south_north, west_east) float32 0.0 0.0 ... 0.0\n",
       "    SEBIO_LIM             (Time, south_north, west_east) float32 0.0 0.0 ... 0.0\n",
       "    SEBIO_XYL             (Time, south_north, west_east) float32 0.0 0.0 ... 0.0\n",
       "    SEBIO_HC3             (Time, south_north, west_east) float32 0.0 0.0 ... 0.0\n",
       "    SEBIO_ETE             (Time, south_north, west_east) float32 0.0 0.0 ... 0.0\n",
       "    SEBIO_OLT             (Time, south_north, west_east) float32 0.0 0.0 ... 0.0\n",
       "    SEBIO_KET             (Time, south_north, west_east) float32 0.0 0.0 ... 0.0\n",
       "    SEBIO_ALD             (Time, south_north, west_east) float32 0.0 0.0 ... 0.0\n",
       "    SEBIO_HCHO            (Time, south_north, west_east) float32 0.0 0.0 ... 0.0\n",
       "    SEBIO_ETH             (Time, south_north, west_east) float32 0.0 0.0 ... 0.0\n",
       "    SEBIO_ORA2            (Time, south_north, west_east) float32 0.0 0.0 ... 0.0\n",
       "    SEBIO_CO              (Time, south_north, west_east) float32 0.0 0.0 ... 0.0\n",
       "    SEBIO_NR              (Time, south_north, west_east) float32 0.0 0.0 ... 0.0\n",
       "    NOAG_GROW             (Time, south_north, west_east) float32 0.0 0.0 ... 0.0\n",
       "    NOAG_NONGROW          (Time, south_north, west_east) float32 0.0 0.0 ... 0.0\n",
       "    NONONAG               (Time, south_north, west_east) float32 0.0 0.0 ... 0.0\n",
       "    SLAI                  (Time, south_north, west_east) float32 0.0 0.0 ... 0.0\n",
       "    SEBIO_SESQ            (Time, south_north, west_east) float32 0.0 0.0 ... 0.0\n",
       "    SEBIO_MBO             (Time, south_north, west_east) float32 0.0 0.0 ... 0.0\n",
       "    MSEBIO_ISOP           (Time, south_north, west_east) float32 0.0 0.0 ... 0.0\n",
       "    MLAI                  (Time, months_per_year_stag, south_north, west_east) float32 0.0 ... 0.0\n",
       "    PFTP_BT               (Time, south_north, west_east) float32 0.0 0.0 ... 0.0\n",
       "    PFTP_NT               (Time, south_north, west_east) float32 0.0 0.0 ... 0.0\n",
       "    PFTP_SB               (Time, south_north, west_east) float32 0.0 0.0 ... 0.0\n",
       "    PFTP_HB               (Time, south_north, west_east) float32 0.0 0.0 ... 0.0\n",
       "    MTSA                  (Time, months_per_year_stag, south_north, west_east) float32 0.0 ... 0.0\n",
       "    MSWDOWN               (Time, months_per_year_stag, south_north, west_east) float32 0.0 ... 0.0\n",
       "    BACKG_OH              (Time, bottom_top, south_north, west_east) float32 0.0 ... 0.0\n",
       "    BACKG_H2O2            (Time, bottom_top, south_north, west_east) float32 0.0 ... 0.0\n",
       "    BACKG_NO3             (Time, bottom_top, south_north, west_east) float32 0.0 ... 0.0\n",
       "    EROD_DRI              (Time, dust_erosion_dimension, south_north, west_east) float32 0.0 ... 0.0\n",
       "    LAI_VEGMASK           (Time, south_north, west_east) float32 0.0 0.0 ... 0.0\n",
       "    CLAYFRAC              (Time, south_north, west_east) float32 0.0 ... 0.26009527\n",
       "    SANDFRAC              (Time, south_north, west_east) float32 0.0 ... 0.40990472\n",
       "    CLAYFRAC_NGA          (Time, south_north, west_east) float32 0.0 0.0 ... 0.0\n",
       "    SANDFRAC_NGA          (Time, south_north, west_east) float32 0.0 0.0 ... 0.0\n",
       "    DMS_0                 (Time, south_north, west_east) float32 0.0 0.0 ... 0.0\n",
       "    LU_INDEX              (Time, south_north, west_east) float32 17.0 ... 10.0\n",
       "    ZNU                   (Time, bottom_top) float32 0.99690735 ... 0.002947813\n",
       "    ZNW                   (Time, bottom_top_stag) float32 1.0 0.9938147 ... 0.0\n",
       "    ZS                    (Time, soil_layers_stag) float32 0.05 0.25 ... 1.5\n",
       "    DZS                   (Time, soil_layers_stag) float32 0.1 0.3 0.6 1.0\n",
       "    VAR_SSO               (Time, south_north, west_east) float32 0.0 ... 2859.7979\n",
       "    EROD                  (Time, dust_erosion_dimension, south_north, west_east) float32 0.0 ... 0.0\n",
       "    U                     (Time, bottom_top, south_north, west_east_stag) float32 1.759263 ... 15.172129\n",
       "    V                     (Time, bottom_top, south_north_stag, west_east) float32 -5.935911 ... -0.22107705\n",
       "    W                     (Time, bottom_top_stag, south_north, west_east) float32 0.0 ... 0.0\n",
       "    PH                    (Time, bottom_top_stag, south_north, west_east) float32 0.0 ... 7473.3594\n",
       "    PHB                   (Time, bottom_top_stag, south_north, west_east) float32 0.0 ... 195212.31\n",
       "    T                     (Time, bottom_top, south_north, west_east) float32 0.43771362 ... 192.6304\n",
       "    THM                   (Time, bottom_top, south_north, west_east) float32 9.447968 ... 192.63763\n",
       "    T_INIT                (Time, bottom_top, south_north, west_east) float32 -9.903351 ... 163.43707\n",
       "    MU                    (Time, south_north, west_east) float32 164.74219 ... 1568.7969\n",
       "    MUB                   (Time, south_north, west_east) float32 95000.0 ... 56183.273\n",
       "    P                     (Time, bottom_top, south_north, west_east) float32 559.9531 ... 0.0053710938\n",
       "    PB                    (Time, bottom_top, south_north, west_east) float32 99706.2 ... 5280.042\n",
       "    FNM                   (Time, bottom_top) float32 0.0 ... 0.52652085\n",
       "    FNP                   (Time, bottom_top) float32 0.0 ... 0.47347918\n",
       "    RDNW                  (Time, bottom_top) float32 -161.67383 ... -169.61728\n",
       "    RDN                   (Time, bottom_top) float32 0.0 ... -160.6205\n",
       "    DNW                   (Time, bottom_top) float32 -0.006185293 ... -0.005895626\n",
       "    DN                    (Time, bottom_top) float32 0.0 ... -0.0062258556\n",
       "    T_BASE                (Time, bottom_top) float32 0.0 0.0 0.0 ... 0.0 0.0 0.0\n",
       "    CFN                   (Time) float32 1.4734793\n",
       "    CFN1                  (Time) float32 -0.47347918\n",
       "    STEP_NUMBER           (Time) int32 0\n",
       "    THIS_IS_AN_IDEAL_RUN  (Time) int32 0\n",
       "    P_HYD                 (Time, bottom_top, south_north, west_east) float32 100266.16 ... 5280.0474\n",
       "    Q2                    (Time, south_north, west_east) float32 0.019239612 ... 0.0012458449\n",
       "    T2                    (Time, south_north, west_east) float32 300.94183 ... 267.1602\n",
       "    TH2                   (Time, south_north, west_east) float32 300.71338 ... 305.43207\n",
       "    PSFC                  (Time, south_north, west_east) float32 100568.83 ... 62768.03\n",
       "    U10                   (Time, south_north, west_east) float32 1.7115874 ... 1.6130811\n",
       "    V10                   (Time, south_north, west_east) float32 -5.6953125 ... -0.8248322\n",
       "    RDX                   (Time) float32 5e-05\n",
       "    RDY                   (Time) float32 5e-05\n",
       "    DTS                   (Time) float32 0.0\n",
       "    DTSEPS                (Time) float32 0.0\n",
       "    RESM                  (Time) float32 0.0\n",
       "    ZETATOP               (Time) float32 0.0\n",
       "    CF1                   (Time) float32 1.8286586\n",
       "    CF2                   (Time) float32 -1.1352139\n",
       "    CF3                   (Time) float32 0.3065553\n",
       "    QVAPOR                (Time, bottom_top, south_north, west_east) float32 0.018646544 ... 9.123951e-06\n",
       "    QCLOUD                (Time, bottom_top, south_north, west_east) float32 0.0 ... 0.0\n",
       "    QRAIN                 (Time, bottom_top, south_north, west_east) float32 0.0 ... 0.0\n",
       "    QICE                  (Time, bottom_top, south_north, west_east) float32 0.0 ... 0.0\n",
       "    QSNOW                 (Time, bottom_top, south_north, west_east) float32 0.0 ... 0.0\n",
       "    QGRAUP                (Time, bottom_top, south_north, west_east) float32 0.0 ... 0.0\n",
       "    QNICE                 (Time, bottom_top, south_north, west_east) float32 0.0 ... 0.0\n",
       "    QNSNOW                (Time, bottom_top, south_north, west_east) float32 0.0 ... 0.0\n",
       "    QNRAIN                (Time, bottom_top, south_north, west_east) float32 0.0 ... 0.0\n",
       "    QNGRAUPEL             (Time, bottom_top, south_north, west_east) float32 0.0 ... 0.0\n",
       "    QNDROP                (Time, bottom_top, south_north, west_east) float32 0.0 ... 0.0\n",
       "    FCX                   (Time, DIM0012) float32 0.0 0.0 0.0 0.0 0.0\n",
       "    GCX                   (Time, DIM0012) float32 0.0 0.0 0.0 0.0 0.0\n",
       "    TOPOSLPX              (Time, south_north, west_east) float32 0.0 0.0 ... 0.0\n",
       "    TOPOSLPY              (Time, south_north, west_east) float32 0.0 0.0 ... 0.0\n",
       "    SHDMAX                (Time, south_north, west_east) float32 0.0 ... 37.442104\n",
       "    SHDMIN                (Time, south_north, west_east) float32 0.0 ... 9.802105\n",
       "    SNOALB                (Time, south_north, west_east) float32 0.08 ... 0.704941\n",
       "    LANDUSEF              (Time, land_cat_stag, south_north, west_east) float32 0.0 ... 0.0\n",
       "    SOILCTOP              (Time, soil_cat_stag, south_north, west_east) float32 0.0 ... 0.12631579\n",
       "    SOILCBOT              (Time, soil_cat_stag, south_north, west_east) float32 0.0 ... 0.12631579\n",
       "    TSLB                  (Time, soil_layers_stag, south_north, west_east) float32 301.4467 ... 274.04248\n",
       "    BUILD_AREA_FRACTION   (Time, south_north, west_east) float32 0.0 0.0 ... 0.0\n",
       "    HEIGHT_HISTOGRAMS     (Time, urban_vertical_layers_stag, south_north, west_east) float32 0.0 ... 0.0\n",
       "    BUILD_SURF_RATIO      (Time, south_north, west_east) float32 0.0 0.0 ... 0.0\n",
       "    BUILD_HEIGHT          (Time, south_north, west_east) float32 0.0 0.0 ... 0.0\n",
       "    SMOIS                 (Time, soil_layers_stag, south_north, west_east) float32 1.0 ... 0.3591395\n",
       "    SH2O                  (Time, soil_layers_stag, south_north, west_east) float32 1.0 ... 0.0\n",
       "    SMCREL                (Time, soil_layers_stag, south_north, west_east) float32 0.0 ... 0.0\n",
       "    SEAICE                (Time, south_north, west_east) float32 0.0 0.0 ... 0.0\n",
       "    IVGTYP                (Time, south_north, west_east) int32 17 17 ... 10 10\n",
       "    ISLTYP                (Time, south_north, west_east) int32 14 14 14 ... 6 6\n",
       "    VEGFRA                (Time, south_north, west_east) float32 0.0 ... 15.582596\n",
       "    SNOW                  (Time, south_north, west_east) float32 0.0 ... 3.571751\n",
       "    SNOWH                 (Time, south_north, west_east) float32 0.0 ... 0.017858755\n",
       "    CANWAT                (Time, south_north, west_east) float32 0.0 0.0 ... 0.0\n",
       "    FNDSNOWH              (Time) int32 1\n",
       "    FNDSOILW              (Time) int32 1\n",
       "    FNDALBSI              (Time) int32 0\n",
       "    FNDSNOWSI             (Time) int32 0\n",
       "    FNDICEDEPTH           (Time) int32 0\n",
       "    LAKE_DEPTH            (Time, south_north, west_east) float32 10.0 ... 10.0\n",
       "    UOCE                  (Time, south_north, west_east) float32 0.0 0.0 ... 0.0\n",
       "    VOCE                  (Time, south_north, west_east) float32 0.0 0.0 ... 0.0\n",
       "    FRC_URB2D             (Time, south_north, west_east) float32 0.0 0.0 ... 0.0\n",
       "    LAI                   (Time, south_north, west_east) float32 0.0 ... 0.22837211\n",
       "    VAR                   (Time, south_north, west_east) float32 0.0 ... 142.03\n",
       "    MAPFAC_M              (Time, south_north, west_east) float32 0.90411 ... 1.1026069\n",
       "    MAPFAC_U              (Time, south_north, west_east_stag) float32 0.90411 ... 1.1026069\n",
       "    MAPFAC_V              (Time, south_north_stag, west_east) float32 0.90364087 ... 1.1038457\n",
       "    MAPFAC_MX             (Time, south_north, west_east) float32 0.90411 ... 1.1026069\n",
       "    MAPFAC_MY             (Time, south_north, west_east) float32 0.90411 ... 1.1026069\n",
       "    MAPFAC_UX             (Time, south_north, west_east_stag) float32 0.90411 ... 1.1026069\n",
       "    MAPFAC_UY             (Time, south_north, west_east_stag) float32 0.90411 ... 1.1026069\n",
       "    MAPFAC_VX             (Time, south_north_stag, west_east) float32 0.90364087 ... 1.1038457\n",
       "    MF_VX_INV             (Time, south_north_stag, west_east) float32 1.1066344 ... 0.9059237\n",
       "    MAPFAC_VY             (Time, south_north_stag, west_east) float32 0.90364087 ... 1.1038457\n",
       "    F                     (Time, south_north, west_east) float32 4.188255e-05 ... 9.0266905e-05\n",
       "    E                     (Time, south_north, west_east) float32 0.00013969665 ... 0.00011454776\n",
       "    SINALPHA              (Time, south_north, west_east) float32 -0.0 ... -0.0\n",
       "    COSALPHA              (Time, south_north, west_east) float32 1.0 1.0 ... 1.0\n",
       "    HGT                   (Time, south_north, west_east) float32 0.0 ... 3991.72\n",
       "    TSK                   (Time, south_north, west_east) float32 301.4467 ... 265.82693\n",
       "    U_BASE                (Time, bottom_top) float32 0.0 0.0 0.0 ... 0.0 0.0 0.0\n",
       "    V_BASE                (Time, bottom_top) float32 0.0 0.0 0.0 ... 0.0 0.0 0.0\n",
       "    QV_BASE               (Time, bottom_top) float32 0.0 0.0 0.0 ... 0.0 0.0 0.0\n",
       "    Z_BASE                (Time, bottom_top) float32 0.0 0.0 0.0 ... 0.0 0.0 0.0\n",
       "    U_FRAME               (Time) float32 0.0\n",
       "    V_FRAME               (Time) float32 0.0\n",
       "    P_TOP                 (Time) float32 5000.0\n",
       "    GOT_VAR_SSO           (Time) int32 1\n",
       "    LAT_LL_T              (Time) float32 0.0\n",
       "    LAT_UL_T              (Time) float32 0.0\n",
       "    LAT_UR_T              (Time) float32 0.0\n",
       "    LAT_LR_T              (Time) float32 0.0\n",
       "    LAT_LL_U              (Time) float32 0.0\n",
       "    LAT_UL_U              (Time) float32 0.0\n",
       "    LAT_UR_U              (Time) float32 0.0\n",
       "    LAT_LR_U              (Time) float32 0.0\n",
       "    LAT_LL_V              (Time) float32 0.0\n",
       "    LAT_UL_V              (Time) float32 0.0\n",
       "    LAT_UR_V              (Time) float32 0.0\n",
       "    LAT_LR_V              (Time) float32 0.0\n",
       "    LAT_LL_D              (Time) float32 0.0\n",
       "    LAT_UL_D              (Time) float32 0.0\n",
       "    LAT_UR_D              (Time) float32 0.0\n",
       "    LAT_LR_D              (Time) float32 0.0\n",
       "    LON_LL_T              (Time) float32 0.0\n",
       "    LON_UL_T              (Time) float32 0.0\n",
       "    LON_UR_T              (Time) float32 0.0\n",
       "    LON_LR_T              (Time) float32 0.0\n",
       "    LON_LL_U              (Time) float32 0.0\n",
       "    LON_UL_U              (Time) float32 0.0\n",
       "    LON_UR_U              (Time) float32 0.0\n",
       "    LON_LR_U              (Time) float32 0.0\n",
       "    LON_LL_V              (Time) float32 0.0\n",
       "    LON_UL_V              (Time) float32 0.0\n",
       "    LON_UR_V              (Time) float32 0.0\n",
       "    LON_LR_V              (Time) float32 0.0\n",
       "    LON_LL_D              (Time) float32 0.0\n",
       "    LON_UL_D              (Time) float32 0.0\n",
       "    LON_UR_D              (Time) float32 0.0\n",
       "    LON_LR_D              (Time) float32 0.0\n",
       "    T00                   (Time) float32 290.0\n",
       "    P00                   (Time) float32 100000.0\n",
       "    TLP                   (Time) float32 50.0\n",
       "    TISO                  (Time) float32 200.0\n",
       "    TLP_STRAT             (Time) float32 -11.0\n",
       "    P_STRAT               (Time) float32 0.0\n",
       "    CLAT                  (Time, south_north, west_east) float32 16.689293 ... 38.23912\n",
       "    ALBBCK                (Time, south_north, west_east) float32 0.08 ... 0.11343522\n",
       "    TMN                   (Time, south_north, west_east) float32 301.4467 ... 264.99014\n",
       "    XLAND                 (Time, south_north, west_east) float32 2.0 2.0 ... 1.0\n",
       "    CPLMASK               (Time, num_ext_model_couple_dom_stag, south_north, west_east) float32 0.0 ... 0.0\n",
       "    SNOWC                 (Time, south_north, west_east) float32 0.0 0.0 ... 0.0\n",
       "    SR                    (Time, south_north, west_east) float32 0.0 0.0 ... 0.0\n",
       "    SAVE_TOPO_FROM_REAL   (Time) int32 1\n",
       "    LAKEFLAG              (Time) int32 0\n",
       "    LAKE_DEPTH_FLAG       (Time) int32 0\n",
       "    C1H                   (Time, bottom_top) float32 1.0134718 ... -0.0\n",
       "    C2H                   (Time, bottom_top) float32 -1279.825 ... 95000.0\n",
       "    C1F                   (Time, bottom_top_stag) float32 1.0 1.0303003 ... 0.0\n",
       "    C2F                   (Time, bottom_top_stag) float32 0.0 ... 95000.0\n",
       "    C3H                   (Time, bottom_top) float32 0.9968657 0.9896282 ... 0.0\n",
       "    C4H                   (Time, bottom_top) float32 3.9580464 ... 280.04224\n",
       "    C3F                   (Time, bottom_top_stag) float32 1.0 0.9937314 ... 0.0\n",
       "    C4F                   (Time, bottom_top_stag) float32 0.0 7.916093 ... 0.0\n",
       "    PCB                   (Time, south_north, west_east) float32 0.0 0.0 ... 0.0\n",
       "    PC                    (Time, south_north, west_east) float32 0.0 0.0 ... 0.0\n",
       "    LANDMASK              (Time, south_north, west_east) float32 0.0 0.0 ... 1.0\n",
       "    LAKEMASK              (Time, south_north, west_east) float32 0.0 0.0 ... 0.0\n",
       "    SST                   (Time, south_north, west_east) float32 301.4467 ... 265.82693\n",
       "    o3                    (Time, bottom_top, south_north, west_east) float32 0.03815993 ... 2.104052\n",
       "    no                    (Time, bottom_top, south_north, west_east) float32 3.822838e-08 ... 0.00027059467\n",
       "    no2                   (Time, bottom_top, south_north, west_east) float32 9.9159646e-05 ... 0.00056605146\n",
       "    no3                   (Time, bottom_top, south_north, west_east) float32 5.3587164e-06 ... 4.7784914e-07\n",
       "    nh3                   (Time, bottom_top, south_north, west_east) float32 5.6189278e-05 ... 3.3631681e-16\n",
       "    hno3                  (Time, bottom_top, south_north, west_east) float32 0.00029753952 ... 0.0036914938\n",
       "    hno4                  (Time, bottom_top, south_north, west_east) float32 2.8489933e-09 ... 6.0739898e-05\n",
       "    n2o5                  (Time, bottom_top, south_north, west_east) float32 7.264551e-07 ... 0.0001624952\n",
       "    ho                    (Time, bottom_top, south_north, west_east) float32 1.4938517e-10 ... 5.6660813e-08\n",
       "    ho2                   (Time, bottom_top, south_north, west_east) float32 7.1988275e-08 ... 4.1343435e-07\n",
       "    h2o2                  (Time, bottom_top, south_north, west_east) float32 0.0018795002 ... 2.0314366e-05\n",
       "    ch4                   (Time, bottom_top, south_north, west_east) float32 1.9992468 ... 1.4421463\n",
       "    co                    (Time, bottom_top, south_north, west_east) float32 0.11709361 ... 0.01618558\n",
       "    ch3o2                 (Time, bottom_top, south_north, west_east) float32 1.8087212e-06 ... 2.9202702e-08\n",
       "    ch3ooh                (Time, bottom_top, south_north, west_east) float32 0.0007805605 ... 7.2397745e-07\n",
       "    hcho                  (Time, bottom_top, south_north, west_east) float32 0.0004120832 ... 8.639926e-06\n",
       "    ch3oh                 (Time, bottom_top, south_north, west_east) float32 0.0008104233 ... 1.3997098e-06\n",
       "    c2h4                  (Time, bottom_top, south_north, west_east) float32 1.2497261e-05 ... 8.908855e-14\n",
       "    ald                   (Time, bottom_top, south_north, west_east) float32 4.7554837e-05 ... 1.4573592e-07\n",
       "    ch3cooh               (Time, bottom_top, south_north, west_east) float32 0.00012425211 ... 2.1448752e-08\n",
       "    acet                  (Time, bottom_top, south_north, west_east) float32 0.0007304767 ... 3.6476365e-08\n",
       "    mgly                  (Time, bottom_top, south_north, west_east) float32 1.4969585e-06 ... 8.5004107e-13\n",
       "    paa                   (Time, bottom_top, south_north, west_east) float32 0.00016489276 ... 1.36641285e-08\n",
       "    pan                   (Time, bottom_top, south_north, west_east) float32 5.3357703e-06 ... 2.9450043e-06\n",
       "    mpan                  (Time, bottom_top, south_north, west_east) float32 1.6589854e-09 ... 3.1959633e-18\n",
       "    macr                  (Time, bottom_top, south_north, west_east) float32 4.7778627e-08 ... 6.0687537e-18\n",
       "    mvk                   (Time, bottom_top, south_north, west_east) float32 1.01815054e-07 ... 5.001669e-18\n",
       "    c2h6                  (Time, bottom_top, south_north, west_east) float32 0.0007785132 ... 0.000110279405\n",
       "    c3h6                  (Time, bottom_top, south_north, west_east) float32 5.0805947e-06 ... 2.9808858e-18\n",
       "    c3h8                  (Time, bottom_top, south_north, west_east) float32 9.235713e-05 ... 5.1885618e-08\n",
       "    c2h5oh                (Time, bottom_top, south_north, west_east) float32 7.48467e-06 ... 7.979172e-12\n",
       "    onit                  (Time, bottom_top, south_north, west_east) float32 9.956017e-06 ... 7.6933826e-10\n",
       "    onitr                 (Time, bottom_top, south_north, west_east) float32 7.5311e-09 ... 2.2348737e-19\n",
       "    isopr                 (Time, bottom_top, south_north, west_east) float32 1.742001e-09 ... 3.417937e-28\n",
       "    isopn                 (Time, bottom_top, south_north, west_east) float32 2.0293199e-10 ... 2.0472767e-30\n",
       "    acetol                (Time, bottom_top, south_north, west_east) float32 9.436128e-06 ... 6.3758634e-13\n",
       "    glyald                (Time, bottom_top, south_north, west_east) float32 1.1794884e-06 ... 4.9240122e-14\n",
       "    hydrald               (Time, bottom_top, south_north, west_east) float32 5.0374624e-08 ... 3.7732673e-19\n",
       "    mek                   (Time, bottom_top, south_north, west_east) float32 0.00027504037 ... 2.8930758e-10\n",
       "    bigene                (Time, bottom_top, south_north, west_east) float32 6.768829e-09 ... 1.7965093e-25\n",
       "    open                  (Time, bottom_top, south_north, west_east) float32 1.0588903e-07 ... 1.863825e-15\n",
       "    bigalk                (Time, bottom_top, south_north, west_east) float32 5.1582356e-05 ... 1.3234135e-11\n",
       "    tol                   (Time, bottom_top, south_north, west_east) float32 5.5337177e-06 ... 2.681439e-15\n",
       "    cres                  (Time, bottom_top, south_north, west_east) float32 1.0857279e-05 ... 5.131159e-12\n",
       "    dms                   (Time, bottom_top, south_north, west_east) float32 8.832103e-05 ... 1.8043375e-20\n",
       "    so2                   (Time, bottom_top, south_north, west_east) float32 0.00037165423 ... 1.0283943e-08\n",
       "    sulf                  (Time, bottom_top, south_north, west_east) float32 0.00075350795 ... 9.883058e-05\n",
       "    oc_a01                (Time, bottom_top, south_north, west_east) float32 0.046439208 ... 0.05405784\n",
       "    oc_a02                (Time, bottom_top, south_north, west_east) float32 0.1230395 ... 0.1432248\n",
       "    oc_a03                (Time, bottom_top, south_north, west_east) float32 0.029058743 ... 0.033825997\n",
       "    oc_a04                (Time, bottom_top, south_north, west_east) float32 0.00050308846 ... 0.00058563775\n",
       "    bc_a01                (Time, bottom_top, south_north, west_east) float32 0.04351776 ... 0.016639782\n",
       "    bc_a02                (Time, bottom_top, south_north, west_east) float32 0.016959436 ... 0.006484739\n",
       "    bc_a03                (Time, bottom_top, south_north, west_east) float32 0.00026994004 ... 0.00010321631\n",
       "    bc_a04                (Time, bottom_top, south_north, west_east) float32 1.11877135e-07 ... 4.2778186e-08\n",
       "    so4_a01               (Time, bottom_top, south_north, west_east) float32 0.061016493 ... 0.008002962\n",
       "    so4_a02               (Time, bottom_top, south_north, west_east) float32 1.1765023 ... 0.1543108\n",
       "    so4_a03               (Time, bottom_top, south_north, west_east) float32 1.1951323 ... 0.1567543\n",
       "    so4_a04               (Time, bottom_top, south_north, west_east) float32 0.064247996 ... 0.008426809\n",
       "    no3_a01               (Time, bottom_top, south_north, west_east) float32 0.0 ... 0.0028805682\n",
       "    no3_a02               (Time, bottom_top, south_north, west_east) float32 0.0 ... 0.05554227\n",
       "    no3_a03               (Time, bottom_top, south_north, west_east) float32 0.0 ... 0.056421787\n",
       "    no3_a04               (Time, bottom_top, south_north, west_east) float32 0.0 ... 0.0030331262\n",
       "    nh4_a01               (Time, bottom_top, south_north, west_east) float32 0.016928349 ... 0.0029057618\n",
       "    nh4_a02               (Time, bottom_top, south_north, west_east) float32 0.3264075 ... 0.05602805\n",
       "    nh4_a03               (Time, bottom_top, south_north, west_east) float32 0.33157617 ... 0.056915257\n",
       "    nh4_a04               (Time, bottom_top, south_north, west_east) float32 0.017824896 ... 0.0030596545\n",
       "    na_a01                (Time, bottom_top, south_north, west_east) float32 0.0071632373 ... 1.7971495e-05\n",
       "    na_a02                (Time, bottom_top, south_north, west_east) float32 0.014326475 ... 3.594299e-05\n",
       "    na_a03                (Time, bottom_top, south_north, west_east) float32 0.30124006 ... 1.8061648e-05\n",
       "    na_a04                (Time, bottom_top, south_north, west_east) float32 0.59624183 ... 1.740835e-10\n",
       "    cl_a01                (Time, bottom_top, south_north, west_east) float32 0.010744856 ... 2.6957243e-05\n",
       "    cl_a02                (Time, bottom_top, south_north, west_east) float32 0.021489711 ... 5.3914486e-05\n",
       "    cl_a03                (Time, bottom_top, south_north, west_east) float32 0.4518601 ... 2.7092474e-05\n",
       "    cl_a04                (Time, bottom_top, south_north, west_east) float32 0.8943627 ... 2.6112526e-10\n",
       "    oin_a01               (Time, bottom_top, south_north, west_east) float32 4.979622 ... 0.09201807\n",
       "    oin_a02               (Time, bottom_top, south_north, west_east) float32 11.414073 ... 0.11886433\n",
       "    oin_a03               (Time, bottom_top, south_north, west_east) float32 31.092907 ... 0.08712621\n",
       "    oin_a04               (Time, bottom_top, south_north, west_east) float32 2.7005913 ... 4.1603007e-06\n",
       "    num_a01               (Time, bottom_top, south_north, west_east) float32 259353360.0 ... 97542380.0\n",
       "    num_a02               (Time, bottom_top, south_north, west_east) float32 202598370.0 ... 17240696.0\n",
       "    num_a03               (Time, bottom_top, south_north, west_east) float32 5990572.0 ... 458277.28\n",
       "    num_a04               (Time, bottom_top, south_north, west_east) float32 63812.094 ... 565.4901\n",
       "    so4_pm25              (Time, bottom_top, south_north, west_east) float32 2.432651 ... 0.31906807\n",
       "    nh4_pm25              (Time, bottom_top, south_north, west_east) float32 0.674912 ... 0.11584906\n",
       "    no3_pm25              (Time, bottom_top, south_north, west_east) float32 0.0 ... 0.11484463\n",
       "    oc_pm25               (Time, bottom_top, south_north, west_east) float32 0.19853745 ... 0.23110864\n",
       "    bc_pm25               (Time, bottom_top, south_north, west_east) float32 0.060747135 ... 0.023227738\n",
       "Attributes:\n",
       "    TITLE:                            OUTPUT FROM REAL_EM V4.0.2 PREPROCESSOR\n",
       "    START_DATE:                      2017-10-11_00:00:00\n",
       "    SIMULATION_START_DATE:           2017-10-11_00:00:00\n",
       "    WEST-EAST_GRID_DIMENSION:        170\n",
       "    SOUTH-NORTH_GRID_DIMENSION:      120\n",
       "    BOTTOM-TOP_GRID_DIMENSION:       40\n",
       "    DX:                              20000.0\n",
       "    DY:                              20000.0\n",
       "    AERCU_OPT:                       0\n",
       "    AERCU_FCT:                       1.0\n",
       "    IDEAL_CASE:                      0\n",
       "    DIFF_6TH_SLOPEOPT:               0\n",
       "    AUTO_LEVELS_OPT:                 2\n",
       "    DIFF_6TH_THRESH:                 0.1\n",
       "    DZBOT:                           50.0\n",
       "    DZSTRETCH_S:                     1.3\n",
       "    DZSTRETCH_U:                     1.1\n",
       "    GRIDTYPE:                        C\n",
       "    DIFF_OPT:                        1\n",
       "    KM_OPT:                          4\n",
       "    DAMP_OPT:                        1\n",
       "    DAMPCOEF:                        0.05\n",
       "    KHDIF:                           0.0\n",
       "    KVDIF:                           0.0\n",
       "    MP_PHYSICS:                      10\n",
       "    RA_LW_PHYSICS:                   4\n",
       "    RA_SW_PHYSICS:                   4\n",
       "    SF_SFCLAY_PHYSICS:               2\n",
       "    SF_SURFACE_PHYSICS:              2\n",
       "    BL_PBL_PHYSICS:                  2\n",
       "    CU_PHYSICS:                      5\n",
       "    SF_LAKE_PHYSICS:                 0\n",
       "    SURFACE_INPUT_SOURCE:            1\n",
       "    SST_UPDATE:                      0\n",
       "    GRID_FDDA:                       0\n",
       "    GFDDA_INTERVAL_M:                0\n",
       "    GFDDA_END_H:                     0\n",
       "    GRID_SFDDA:                      0\n",
       "    SGFDDA_INTERVAL_M:               0\n",
       "    SGFDDA_END_H:                    0\n",
       "    HYPSOMETRIC_OPT:                 2\n",
       "    USE_THETA_M:                     1\n",
       "    USE_MAXW_LEVEL:                  0\n",
       "    USE_TROP_LEVEL:                  0\n",
       "    GWD_OPT:                         0\n",
       "    SF_URBAN_PHYSICS:                2\n",
       "    SF_SURFACE_MOSAIC:               0\n",
       "    SF_OCEAN_PHYSICS:                0\n",
       "    SIMULATION_INITIALIZATION_TYPE:  REAL-DATA CASE\n",
       "    WEST-EAST_PATCH_START_UNSTAG:    1\n",
       "    WEST-EAST_PATCH_END_UNSTAG:      169\n",
       "    WEST-EAST_PATCH_START_STAG:      1\n",
       "    WEST-EAST_PATCH_END_STAG:        170\n",
       "    SOUTH-NORTH_PATCH_START_UNSTAG:  1\n",
       "    SOUTH-NORTH_PATCH_END_UNSTAG:    119\n",
       "    SOUTH-NORTH_PATCH_START_STAG:    1\n",
       "    SOUTH-NORTH_PATCH_END_STAG:      120\n",
       "    BOTTOM-TOP_PATCH_START_UNSTAG:   1\n",
       "    BOTTOM-TOP_PATCH_END_UNSTAG:     39\n",
       "    BOTTOM-TOP_PATCH_START_STAG:     1\n",
       "    BOTTOM-TOP_PATCH_END_STAG:       40\n",
       "    GRID_ID:                         1\n",
       "    PARENT_ID:                       1\n",
       "    I_PARENT_START:                  1\n",
       "    J_PARENT_START:                  1\n",
       "    PARENT_GRID_RATIO:               1\n",
       "    DT:                              120.0\n",
       "    CEN_LAT:                         27.999992\n",
       "    CEN_LON:                         82.0\n",
       "    TRUELAT1:                        30.0\n",
       "    TRUELAT2:                        60.0\n",
       "    MOAD_CEN_LAT:                    27.999992\n",
       "    STAND_LON:                       82.0\n",
       "    POLE_LAT:                        90.0\n",
       "    POLE_LON:                        0.0\n",
       "    GMT:                             0.0\n",
       "    JULYR:                           2017\n",
       "    JULDAY:                          284\n",
       "    MAP_PROJ:                        3\n",
       "    MAP_PROJ_CHAR:                   Mercator\n",
       "    MMINLU:                          MODIFIED_IGBP_MODIS_NOAH\n",
       "    NUM_LAND_CAT:                    20\n",
       "    ISWATER:                         17\n",
       "    ISLAKE:                          -1\n",
       "    ISICE:                           15\n",
       "    ISURBAN:                         13\n",
       "    ISOILWATER:                      14\n",
       "    HYBRID_OPT:                      2\n",
       "    ETAC:                            0.2>"
      ]
     },
     "execution_count": 73,
     "metadata": {},
     "output_type": "execute_result"
    }
   ],
   "source": [
    "ds.var"
   ]
  },
  {
   "cell_type": "code",
   "execution_count": 48,
   "metadata": {},
   "outputs": [],
   "source": [
    "average = timeavg(var_space_mean(ds))"
   ]
  },
  {
   "cell_type": "code",
   "execution_count": 69,
   "metadata": {},
   "outputs": [
    {
     "data": {
      "application/vnd.plotly.v1+json": {
       "config": {
        "plotlyServerURL": "https://plot.ly"
       },
       "data": [
        {
         "mode": "markers",
         "type": "scatter",
         "x": [
          0.9278953075408936,
          0.8871943354606628,
          0.7286636233329773,
          0.4851734936237335,
          0.348394513130188,
          0.24460594356060028,
          0.1394970864057541,
          0.09335960447788239,
          0.09566570818424225,
          0.13969507813453674,
          0.19492186605930328,
          0.2405477911233902,
          0.21895122528076172,
          0.1391439586877823,
          0.07776787877082825,
          0.07832813262939453,
          0.09499775618314743,
          0.11561074107885361,
          0.1436225175857544,
          0.16478194296360016,
          0.17264321446418762,
          0.1801242083311081,
          0.18652008473873138,
          0.19301444292068481,
          0.1985527127981186,
          0.20426379144191742,
          0.20319584012031555,
          0.19922801852226257,
          0.1973837912082672,
          0.19324004650115967,
          0.1764390915632248,
          0.16237711906433105,
          0.14912323653697968,
          0.13002905249595642,
          0.09942478686571121,
          0.0672663077712059,
          0.062491606920957565,
          0.05189239978790283,
          0.03495941311120987
         ],
         "y": [
          830.494873046875,
          824.982666015625,
          818.0619506835938,
          809.4381713867188,
          798.8074340820312,
          785.8735961914062,
          770.3781127929688,
          752.1416015625,
          731.10302734375,
          707.347900390625,
          681.116943359375,
          652.7877197265625,
          622.831298828125,
          591.685546875,
          559.4931640625,
          526.1665649414062,
          491.6246032714844,
          455.8204650878906,
          418.9262390136719,
          382.72503662109375,
          348.75140380859375,
          316.89703369140625,
          287.08465576171875,
          259.2498474121094,
          233.44700622558594,
          209.93966674804688,
          188.79095458984375,
          169.77296447753906,
          152.67088317871094,
          137.29164123535156,
          123.46167755126953,
          111.0248794555664,
          99.84090423583984,
          89.7835464477539,
          80.7392807006836,
          72.60609436035156,
          65.29216766357422,
          58.715023040771484,
          52.80043029785156
         ]
        }
       ],
       "layout": {
        "template": {
         "data": {
          "bar": [
           {
            "error_x": {
             "color": "#2a3f5f"
            },
            "error_y": {
             "color": "#2a3f5f"
            },
            "marker": {
             "line": {
              "color": "#E5ECF6",
              "width": 0.5
             }
            },
            "type": "bar"
           }
          ],
          "barpolar": [
           {
            "marker": {
             "line": {
              "color": "#E5ECF6",
              "width": 0.5
             }
            },
            "type": "barpolar"
           }
          ],
          "carpet": [
           {
            "aaxis": {
             "endlinecolor": "#2a3f5f",
             "gridcolor": "white",
             "linecolor": "white",
             "minorgridcolor": "white",
             "startlinecolor": "#2a3f5f"
            },
            "baxis": {
             "endlinecolor": "#2a3f5f",
             "gridcolor": "white",
             "linecolor": "white",
             "minorgridcolor": "white",
             "startlinecolor": "#2a3f5f"
            },
            "type": "carpet"
           }
          ],
          "choropleth": [
           {
            "colorbar": {
             "outlinewidth": 0,
             "ticks": ""
            },
            "type": "choropleth"
           }
          ],
          "contour": [
           {
            "colorbar": {
             "outlinewidth": 0,
             "ticks": ""
            },
            "colorscale": [
             [
              0,
              "#0d0887"
             ],
             [
              0.1111111111111111,
              "#46039f"
             ],
             [
              0.2222222222222222,
              "#7201a8"
             ],
             [
              0.3333333333333333,
              "#9c179e"
             ],
             [
              0.4444444444444444,
              "#bd3786"
             ],
             [
              0.5555555555555556,
              "#d8576b"
             ],
             [
              0.6666666666666666,
              "#ed7953"
             ],
             [
              0.7777777777777778,
              "#fb9f3a"
             ],
             [
              0.8888888888888888,
              "#fdca26"
             ],
             [
              1,
              "#f0f921"
             ]
            ],
            "type": "contour"
           }
          ],
          "contourcarpet": [
           {
            "colorbar": {
             "outlinewidth": 0,
             "ticks": ""
            },
            "type": "contourcarpet"
           }
          ],
          "heatmap": [
           {
            "colorbar": {
             "outlinewidth": 0,
             "ticks": ""
            },
            "colorscale": [
             [
              0,
              "#0d0887"
             ],
             [
              0.1111111111111111,
              "#46039f"
             ],
             [
              0.2222222222222222,
              "#7201a8"
             ],
             [
              0.3333333333333333,
              "#9c179e"
             ],
             [
              0.4444444444444444,
              "#bd3786"
             ],
             [
              0.5555555555555556,
              "#d8576b"
             ],
             [
              0.6666666666666666,
              "#ed7953"
             ],
             [
              0.7777777777777778,
              "#fb9f3a"
             ],
             [
              0.8888888888888888,
              "#fdca26"
             ],
             [
              1,
              "#f0f921"
             ]
            ],
            "type": "heatmap"
           }
          ],
          "heatmapgl": [
           {
            "colorbar": {
             "outlinewidth": 0,
             "ticks": ""
            },
            "colorscale": [
             [
              0,
              "#0d0887"
             ],
             [
              0.1111111111111111,
              "#46039f"
             ],
             [
              0.2222222222222222,
              "#7201a8"
             ],
             [
              0.3333333333333333,
              "#9c179e"
             ],
             [
              0.4444444444444444,
              "#bd3786"
             ],
             [
              0.5555555555555556,
              "#d8576b"
             ],
             [
              0.6666666666666666,
              "#ed7953"
             ],
             [
              0.7777777777777778,
              "#fb9f3a"
             ],
             [
              0.8888888888888888,
              "#fdca26"
             ],
             [
              1,
              "#f0f921"
             ]
            ],
            "type": "heatmapgl"
           }
          ],
          "histogram": [
           {
            "marker": {
             "colorbar": {
              "outlinewidth": 0,
              "ticks": ""
             }
            },
            "type": "histogram"
           }
          ],
          "histogram2d": [
           {
            "colorbar": {
             "outlinewidth": 0,
             "ticks": ""
            },
            "colorscale": [
             [
              0,
              "#0d0887"
             ],
             [
              0.1111111111111111,
              "#46039f"
             ],
             [
              0.2222222222222222,
              "#7201a8"
             ],
             [
              0.3333333333333333,
              "#9c179e"
             ],
             [
              0.4444444444444444,
              "#bd3786"
             ],
             [
              0.5555555555555556,
              "#d8576b"
             ],
             [
              0.6666666666666666,
              "#ed7953"
             ],
             [
              0.7777777777777778,
              "#fb9f3a"
             ],
             [
              0.8888888888888888,
              "#fdca26"
             ],
             [
              1,
              "#f0f921"
             ]
            ],
            "type": "histogram2d"
           }
          ],
          "histogram2dcontour": [
           {
            "colorbar": {
             "outlinewidth": 0,
             "ticks": ""
            },
            "colorscale": [
             [
              0,
              "#0d0887"
             ],
             [
              0.1111111111111111,
              "#46039f"
             ],
             [
              0.2222222222222222,
              "#7201a8"
             ],
             [
              0.3333333333333333,
              "#9c179e"
             ],
             [
              0.4444444444444444,
              "#bd3786"
             ],
             [
              0.5555555555555556,
              "#d8576b"
             ],
             [
              0.6666666666666666,
              "#ed7953"
             ],
             [
              0.7777777777777778,
              "#fb9f3a"
             ],
             [
              0.8888888888888888,
              "#fdca26"
             ],
             [
              1,
              "#f0f921"
             ]
            ],
            "type": "histogram2dcontour"
           }
          ],
          "mesh3d": [
           {
            "colorbar": {
             "outlinewidth": 0,
             "ticks": ""
            },
            "type": "mesh3d"
           }
          ],
          "parcoords": [
           {
            "line": {
             "colorbar": {
              "outlinewidth": 0,
              "ticks": ""
             }
            },
            "type": "parcoords"
           }
          ],
          "scatter": [
           {
            "marker": {
             "colorbar": {
              "outlinewidth": 0,
              "ticks": ""
             }
            },
            "type": "scatter"
           }
          ],
          "scatter3d": [
           {
            "line": {
             "colorbar": {
              "outlinewidth": 0,
              "ticks": ""
             }
            },
            "marker": {
             "colorbar": {
              "outlinewidth": 0,
              "ticks": ""
             }
            },
            "type": "scatter3d"
           }
          ],
          "scattercarpet": [
           {
            "marker": {
             "colorbar": {
              "outlinewidth": 0,
              "ticks": ""
             }
            },
            "type": "scattercarpet"
           }
          ],
          "scattergeo": [
           {
            "marker": {
             "colorbar": {
              "outlinewidth": 0,
              "ticks": ""
             }
            },
            "type": "scattergeo"
           }
          ],
          "scattergl": [
           {
            "marker": {
             "colorbar": {
              "outlinewidth": 0,
              "ticks": ""
             }
            },
            "type": "scattergl"
           }
          ],
          "scattermapbox": [
           {
            "marker": {
             "colorbar": {
              "outlinewidth": 0,
              "ticks": ""
             }
            },
            "type": "scattermapbox"
           }
          ],
          "scatterpolar": [
           {
            "marker": {
             "colorbar": {
              "outlinewidth": 0,
              "ticks": ""
             }
            },
            "type": "scatterpolar"
           }
          ],
          "scatterpolargl": [
           {
            "marker": {
             "colorbar": {
              "outlinewidth": 0,
              "ticks": ""
             }
            },
            "type": "scatterpolargl"
           }
          ],
          "scatterternary": [
           {
            "marker": {
             "colorbar": {
              "outlinewidth": 0,
              "ticks": ""
             }
            },
            "type": "scatterternary"
           }
          ],
          "surface": [
           {
            "colorbar": {
             "outlinewidth": 0,
             "ticks": ""
            },
            "colorscale": [
             [
              0,
              "#0d0887"
             ],
             [
              0.1111111111111111,
              "#46039f"
             ],
             [
              0.2222222222222222,
              "#7201a8"
             ],
             [
              0.3333333333333333,
              "#9c179e"
             ],
             [
              0.4444444444444444,
              "#bd3786"
             ],
             [
              0.5555555555555556,
              "#d8576b"
             ],
             [
              0.6666666666666666,
              "#ed7953"
             ],
             [
              0.7777777777777778,
              "#fb9f3a"
             ],
             [
              0.8888888888888888,
              "#fdca26"
             ],
             [
              1,
              "#f0f921"
             ]
            ],
            "type": "surface"
           }
          ],
          "table": [
           {
            "cells": {
             "fill": {
              "color": "#EBF0F8"
             },
             "line": {
              "color": "white"
             }
            },
            "header": {
             "fill": {
              "color": "#C8D4E3"
             },
             "line": {
              "color": "white"
             }
            },
            "type": "table"
           }
          ]
         },
         "layout": {
          "annotationdefaults": {
           "arrowcolor": "#2a3f5f",
           "arrowhead": 0,
           "arrowwidth": 1
          },
          "colorscale": {
           "diverging": [
            [
             0,
             "#8e0152"
            ],
            [
             0.1,
             "#c51b7d"
            ],
            [
             0.2,
             "#de77ae"
            ],
            [
             0.3,
             "#f1b6da"
            ],
            [
             0.4,
             "#fde0ef"
            ],
            [
             0.5,
             "#f7f7f7"
            ],
            [
             0.6,
             "#e6f5d0"
            ],
            [
             0.7,
             "#b8e186"
            ],
            [
             0.8,
             "#7fbc41"
            ],
            [
             0.9,
             "#4d9221"
            ],
            [
             1,
             "#276419"
            ]
           ],
           "sequential": [
            [
             0,
             "#0d0887"
            ],
            [
             0.1111111111111111,
             "#46039f"
            ],
            [
             0.2222222222222222,
             "#7201a8"
            ],
            [
             0.3333333333333333,
             "#9c179e"
            ],
            [
             0.4444444444444444,
             "#bd3786"
            ],
            [
             0.5555555555555556,
             "#d8576b"
            ],
            [
             0.6666666666666666,
             "#ed7953"
            ],
            [
             0.7777777777777778,
             "#fb9f3a"
            ],
            [
             0.8888888888888888,
             "#fdca26"
            ],
            [
             1,
             "#f0f921"
            ]
           ],
           "sequentialminus": [
            [
             0,
             "#0d0887"
            ],
            [
             0.1111111111111111,
             "#46039f"
            ],
            [
             0.2222222222222222,
             "#7201a8"
            ],
            [
             0.3333333333333333,
             "#9c179e"
            ],
            [
             0.4444444444444444,
             "#bd3786"
            ],
            [
             0.5555555555555556,
             "#d8576b"
            ],
            [
             0.6666666666666666,
             "#ed7953"
            ],
            [
             0.7777777777777778,
             "#fb9f3a"
            ],
            [
             0.8888888888888888,
             "#fdca26"
            ],
            [
             1,
             "#f0f921"
            ]
           ]
          },
          "colorway": [
           "#636efa",
           "#EF553B",
           "#00cc96",
           "#ab63fa",
           "#FFA15A",
           "#19d3f3",
           "#FF6692",
           "#B6E880",
           "#FF97FF",
           "#FECB52"
          ],
          "font": {
           "color": "#2a3f5f"
          },
          "geo": {
           "bgcolor": "white",
           "lakecolor": "white",
           "landcolor": "#E5ECF6",
           "showlakes": true,
           "showland": true,
           "subunitcolor": "white"
          },
          "hoverlabel": {
           "align": "left"
          },
          "hovermode": "closest",
          "mapbox": {
           "style": "light"
          },
          "paper_bgcolor": "white",
          "plot_bgcolor": "#E5ECF6",
          "polar": {
           "angularaxis": {
            "gridcolor": "white",
            "linecolor": "white",
            "ticks": ""
           },
           "bgcolor": "#E5ECF6",
           "radialaxis": {
            "gridcolor": "white",
            "linecolor": "white",
            "ticks": ""
           }
          },
          "scene": {
           "xaxis": {
            "backgroundcolor": "#E5ECF6",
            "gridcolor": "white",
            "gridwidth": 2,
            "linecolor": "white",
            "showbackground": true,
            "ticks": "",
            "zerolinecolor": "white"
           },
           "yaxis": {
            "backgroundcolor": "#E5ECF6",
            "gridcolor": "white",
            "gridwidth": 2,
            "linecolor": "white",
            "showbackground": true,
            "ticks": "",
            "zerolinecolor": "white"
           },
           "zaxis": {
            "backgroundcolor": "#E5ECF6",
            "gridcolor": "white",
            "gridwidth": 2,
            "linecolor": "white",
            "showbackground": true,
            "ticks": "",
            "zerolinecolor": "white"
           }
          },
          "shapedefaults": {
           "line": {
            "color": "#2a3f5f"
           }
          },
          "ternary": {
           "aaxis": {
            "gridcolor": "white",
            "linecolor": "white",
            "ticks": ""
           },
           "baxis": {
            "gridcolor": "white",
            "linecolor": "white",
            "ticks": ""
           },
           "bgcolor": "#E5ECF6",
           "caxis": {
            "gridcolor": "white",
            "linecolor": "white",
            "ticks": ""
           }
          },
          "title": {
           "x": 0.05
          },
          "xaxis": {
           "automargin": true,
           "gridcolor": "white",
           "linecolor": "white",
           "ticks": "",
           "zerolinecolor": "white",
           "zerolinewidth": 2
          },
          "yaxis": {
           "automargin": true,
           "gridcolor": "white",
           "linecolor": "white",
           "ticks": "",
           "zerolinecolor": "white",
           "zerolinewidth": 2
          }
         }
        },
        "title": {
         "text": "Vertical profile"
        },
        "xaxis": {
         "title": {
          "text": "no3_a03 ug/kg-dryair"
         }
        },
        "yaxis": {
         "title": {
          "text": "hydrostatic pressure hPa"
         }
        }
       }
      },
      "text/html": [
       "<div>\n",
       "        \n",
       "        \n",
       "            <div id=\"75b68a3f-f867-4c56-992f-981bbd8b8641\" class=\"plotly-graph-div\" style=\"height:525px; width:100%;\"></div>\n",
       "            <script type=\"text/javascript\">\n",
       "                require([\"plotly\"], function(Plotly) {\n",
       "                    window.PLOTLYENV=window.PLOTLYENV || {};\n",
       "                    \n",
       "                if (document.getElementById(\"75b68a3f-f867-4c56-992f-981bbd8b8641\")) {\n",
       "                    Plotly.newPlot(\n",
       "                        '75b68a3f-f867-4c56-992f-981bbd8b8641',\n",
       "                        [{\"mode\": \"markers\", \"type\": \"scatter\", \"x\": [0.9278953075408936, 0.8871943354606628, 0.7286636233329773, 0.4851734936237335, 0.348394513130188, 0.24460594356060028, 0.1394970864057541, 0.09335960447788239, 0.09566570818424225, 0.13969507813453674, 0.19492186605930328, 0.2405477911233902, 0.21895122528076172, 0.1391439586877823, 0.07776787877082825, 0.07832813262939453, 0.09499775618314743, 0.11561074107885361, 0.1436225175857544, 0.16478194296360016, 0.17264321446418762, 0.1801242083311081, 0.18652008473873138, 0.19301444292068481, 0.1985527127981186, 0.20426379144191742, 0.20319584012031555, 0.19922801852226257, 0.1973837912082672, 0.19324004650115967, 0.1764390915632248, 0.16237711906433105, 0.14912323653697968, 0.13002905249595642, 0.09942478686571121, 0.0672663077712059, 0.062491606920957565, 0.05189239978790283, 0.03495941311120987], \"y\": [830.494873046875, 824.982666015625, 818.0619506835938, 809.4381713867188, 798.8074340820312, 785.8735961914062, 770.3781127929688, 752.1416015625, 731.10302734375, 707.347900390625, 681.116943359375, 652.7877197265625, 622.831298828125, 591.685546875, 559.4931640625, 526.1665649414062, 491.6246032714844, 455.8204650878906, 418.9262390136719, 382.72503662109375, 348.75140380859375, 316.89703369140625, 287.08465576171875, 259.2498474121094, 233.44700622558594, 209.93966674804688, 188.79095458984375, 169.77296447753906, 152.67088317871094, 137.29164123535156, 123.46167755126953, 111.0248794555664, 99.84090423583984, 89.7835464477539, 80.7392807006836, 72.60609436035156, 65.29216766357422, 58.715023040771484, 52.80043029785156]}],\n",
       "                        {\"template\": {\"data\": {\"bar\": [{\"error_x\": {\"color\": \"#2a3f5f\"}, \"error_y\": {\"color\": \"#2a3f5f\"}, \"marker\": {\"line\": {\"color\": \"#E5ECF6\", \"width\": 0.5}}, \"type\": \"bar\"}], \"barpolar\": [{\"marker\": {\"line\": {\"color\": \"#E5ECF6\", \"width\": 0.5}}, \"type\": \"barpolar\"}], \"carpet\": [{\"aaxis\": {\"endlinecolor\": \"#2a3f5f\", \"gridcolor\": \"white\", \"linecolor\": \"white\", \"minorgridcolor\": \"white\", \"startlinecolor\": \"#2a3f5f\"}, \"baxis\": {\"endlinecolor\": \"#2a3f5f\", \"gridcolor\": \"white\", \"linecolor\": \"white\", \"minorgridcolor\": \"white\", \"startlinecolor\": \"#2a3f5f\"}, \"type\": \"carpet\"}], \"choropleth\": [{\"colorbar\": {\"outlinewidth\": 0, \"ticks\": \"\"}, \"type\": \"choropleth\"}], \"contour\": [{\"colorbar\": {\"outlinewidth\": 0, \"ticks\": \"\"}, \"colorscale\": [[0.0, \"#0d0887\"], [0.1111111111111111, \"#46039f\"], [0.2222222222222222, \"#7201a8\"], [0.3333333333333333, \"#9c179e\"], [0.4444444444444444, \"#bd3786\"], [0.5555555555555556, \"#d8576b\"], [0.6666666666666666, \"#ed7953\"], [0.7777777777777778, \"#fb9f3a\"], [0.8888888888888888, \"#fdca26\"], [1.0, \"#f0f921\"]], \"type\": \"contour\"}], \"contourcarpet\": [{\"colorbar\": {\"outlinewidth\": 0, \"ticks\": \"\"}, \"type\": \"contourcarpet\"}], \"heatmap\": [{\"colorbar\": {\"outlinewidth\": 0, \"ticks\": \"\"}, \"colorscale\": [[0.0, \"#0d0887\"], [0.1111111111111111, \"#46039f\"], [0.2222222222222222, \"#7201a8\"], [0.3333333333333333, \"#9c179e\"], [0.4444444444444444, \"#bd3786\"], [0.5555555555555556, \"#d8576b\"], [0.6666666666666666, \"#ed7953\"], [0.7777777777777778, \"#fb9f3a\"], [0.8888888888888888, \"#fdca26\"], [1.0, \"#f0f921\"]], \"type\": \"heatmap\"}], \"heatmapgl\": [{\"colorbar\": {\"outlinewidth\": 0, \"ticks\": \"\"}, \"colorscale\": [[0.0, \"#0d0887\"], [0.1111111111111111, \"#46039f\"], [0.2222222222222222, \"#7201a8\"], [0.3333333333333333, \"#9c179e\"], [0.4444444444444444, \"#bd3786\"], [0.5555555555555556, \"#d8576b\"], [0.6666666666666666, \"#ed7953\"], [0.7777777777777778, \"#fb9f3a\"], [0.8888888888888888, \"#fdca26\"], [1.0, \"#f0f921\"]], \"type\": \"heatmapgl\"}], \"histogram\": [{\"marker\": {\"colorbar\": {\"outlinewidth\": 0, \"ticks\": \"\"}}, \"type\": \"histogram\"}], \"histogram2d\": [{\"colorbar\": {\"outlinewidth\": 0, \"ticks\": \"\"}, \"colorscale\": [[0.0, \"#0d0887\"], [0.1111111111111111, \"#46039f\"], [0.2222222222222222, \"#7201a8\"], [0.3333333333333333, \"#9c179e\"], [0.4444444444444444, \"#bd3786\"], [0.5555555555555556, \"#d8576b\"], [0.6666666666666666, \"#ed7953\"], [0.7777777777777778, \"#fb9f3a\"], [0.8888888888888888, \"#fdca26\"], [1.0, \"#f0f921\"]], \"type\": \"histogram2d\"}], \"histogram2dcontour\": [{\"colorbar\": {\"outlinewidth\": 0, \"ticks\": \"\"}, \"colorscale\": [[0.0, \"#0d0887\"], [0.1111111111111111, \"#46039f\"], [0.2222222222222222, \"#7201a8\"], [0.3333333333333333, \"#9c179e\"], [0.4444444444444444, \"#bd3786\"], [0.5555555555555556, \"#d8576b\"], [0.6666666666666666, \"#ed7953\"], [0.7777777777777778, \"#fb9f3a\"], [0.8888888888888888, \"#fdca26\"], [1.0, \"#f0f921\"]], \"type\": \"histogram2dcontour\"}], \"mesh3d\": [{\"colorbar\": {\"outlinewidth\": 0, \"ticks\": \"\"}, \"type\": \"mesh3d\"}], \"parcoords\": [{\"line\": {\"colorbar\": {\"outlinewidth\": 0, \"ticks\": \"\"}}, \"type\": \"parcoords\"}], \"scatter\": [{\"marker\": {\"colorbar\": {\"outlinewidth\": 0, \"ticks\": \"\"}}, \"type\": \"scatter\"}], \"scatter3d\": [{\"line\": {\"colorbar\": {\"outlinewidth\": 0, \"ticks\": \"\"}}, \"marker\": {\"colorbar\": {\"outlinewidth\": 0, \"ticks\": \"\"}}, \"type\": \"scatter3d\"}], \"scattercarpet\": [{\"marker\": {\"colorbar\": {\"outlinewidth\": 0, \"ticks\": \"\"}}, \"type\": \"scattercarpet\"}], \"scattergeo\": [{\"marker\": {\"colorbar\": {\"outlinewidth\": 0, \"ticks\": \"\"}}, \"type\": \"scattergeo\"}], \"scattergl\": [{\"marker\": {\"colorbar\": {\"outlinewidth\": 0, \"ticks\": \"\"}}, \"type\": \"scattergl\"}], \"scattermapbox\": [{\"marker\": {\"colorbar\": {\"outlinewidth\": 0, \"ticks\": \"\"}}, \"type\": \"scattermapbox\"}], \"scatterpolar\": [{\"marker\": {\"colorbar\": {\"outlinewidth\": 0, \"ticks\": \"\"}}, \"type\": \"scatterpolar\"}], \"scatterpolargl\": [{\"marker\": {\"colorbar\": {\"outlinewidth\": 0, \"ticks\": \"\"}}, \"type\": \"scatterpolargl\"}], \"scatterternary\": [{\"marker\": {\"colorbar\": {\"outlinewidth\": 0, \"ticks\": \"\"}}, \"type\": \"scatterternary\"}], \"surface\": [{\"colorbar\": {\"outlinewidth\": 0, \"ticks\": \"\"}, \"colorscale\": [[0.0, \"#0d0887\"], [0.1111111111111111, \"#46039f\"], [0.2222222222222222, \"#7201a8\"], [0.3333333333333333, \"#9c179e\"], [0.4444444444444444, \"#bd3786\"], [0.5555555555555556, \"#d8576b\"], [0.6666666666666666, \"#ed7953\"], [0.7777777777777778, \"#fb9f3a\"], [0.8888888888888888, \"#fdca26\"], [1.0, \"#f0f921\"]], \"type\": \"surface\"}], \"table\": [{\"cells\": {\"fill\": {\"color\": \"#EBF0F8\"}, \"line\": {\"color\": \"white\"}}, \"header\": {\"fill\": {\"color\": \"#C8D4E3\"}, \"line\": {\"color\": \"white\"}}, \"type\": \"table\"}]}, \"layout\": {\"annotationdefaults\": {\"arrowcolor\": \"#2a3f5f\", \"arrowhead\": 0, \"arrowwidth\": 1}, \"colorscale\": {\"diverging\": [[0, \"#8e0152\"], [0.1, \"#c51b7d\"], [0.2, \"#de77ae\"], [0.3, \"#f1b6da\"], [0.4, \"#fde0ef\"], [0.5, \"#f7f7f7\"], [0.6, \"#e6f5d0\"], [0.7, \"#b8e186\"], [0.8, \"#7fbc41\"], [0.9, \"#4d9221\"], [1, \"#276419\"]], \"sequential\": [[0.0, \"#0d0887\"], [0.1111111111111111, \"#46039f\"], [0.2222222222222222, \"#7201a8\"], [0.3333333333333333, \"#9c179e\"], [0.4444444444444444, \"#bd3786\"], [0.5555555555555556, \"#d8576b\"], [0.6666666666666666, \"#ed7953\"], [0.7777777777777778, \"#fb9f3a\"], [0.8888888888888888, \"#fdca26\"], [1.0, \"#f0f921\"]], \"sequentialminus\": [[0.0, \"#0d0887\"], [0.1111111111111111, \"#46039f\"], [0.2222222222222222, \"#7201a8\"], [0.3333333333333333, \"#9c179e\"], [0.4444444444444444, \"#bd3786\"], [0.5555555555555556, \"#d8576b\"], [0.6666666666666666, \"#ed7953\"], [0.7777777777777778, \"#fb9f3a\"], [0.8888888888888888, \"#fdca26\"], [1.0, \"#f0f921\"]]}, \"colorway\": [\"#636efa\", \"#EF553B\", \"#00cc96\", \"#ab63fa\", \"#FFA15A\", \"#19d3f3\", \"#FF6692\", \"#B6E880\", \"#FF97FF\", \"#FECB52\"], \"font\": {\"color\": \"#2a3f5f\"}, \"geo\": {\"bgcolor\": \"white\", \"lakecolor\": \"white\", \"landcolor\": \"#E5ECF6\", \"showlakes\": true, \"showland\": true, \"subunitcolor\": \"white\"}, \"hoverlabel\": {\"align\": \"left\"}, \"hovermode\": \"closest\", \"mapbox\": {\"style\": \"light\"}, \"paper_bgcolor\": \"white\", \"plot_bgcolor\": \"#E5ECF6\", \"polar\": {\"angularaxis\": {\"gridcolor\": \"white\", \"linecolor\": \"white\", \"ticks\": \"\"}, \"bgcolor\": \"#E5ECF6\", \"radialaxis\": {\"gridcolor\": \"white\", \"linecolor\": \"white\", \"ticks\": \"\"}}, \"scene\": {\"xaxis\": {\"backgroundcolor\": \"#E5ECF6\", \"gridcolor\": \"white\", \"gridwidth\": 2, \"linecolor\": \"white\", \"showbackground\": true, \"ticks\": \"\", \"zerolinecolor\": \"white\"}, \"yaxis\": {\"backgroundcolor\": \"#E5ECF6\", \"gridcolor\": \"white\", \"gridwidth\": 2, \"linecolor\": \"white\", \"showbackground\": true, \"ticks\": \"\", \"zerolinecolor\": \"white\"}, \"zaxis\": {\"backgroundcolor\": \"#E5ECF6\", \"gridcolor\": \"white\", \"gridwidth\": 2, \"linecolor\": \"white\", \"showbackground\": true, \"ticks\": \"\", \"zerolinecolor\": \"white\"}}, \"shapedefaults\": {\"line\": {\"color\": \"#2a3f5f\"}}, \"ternary\": {\"aaxis\": {\"gridcolor\": \"white\", \"linecolor\": \"white\", \"ticks\": \"\"}, \"baxis\": {\"gridcolor\": \"white\", \"linecolor\": \"white\", \"ticks\": \"\"}, \"bgcolor\": \"#E5ECF6\", \"caxis\": {\"gridcolor\": \"white\", \"linecolor\": \"white\", \"ticks\": \"\"}}, \"title\": {\"x\": 0.05}, \"xaxis\": {\"automargin\": true, \"gridcolor\": \"white\", \"linecolor\": \"white\", \"ticks\": \"\", \"zerolinecolor\": \"white\", \"zerolinewidth\": 2}, \"yaxis\": {\"automargin\": true, \"gridcolor\": \"white\", \"linecolor\": \"white\", \"ticks\": \"\", \"zerolinecolor\": \"white\", \"zerolinewidth\": 2}}}, \"title\": {\"text\": \"Vertical profile\"}, \"xaxis\": {\"title\": {\"text\": \"no3_a03 ug/kg-dryair\"}}, \"yaxis\": {\"title\": {\"text\": \"hydrostatic pressure hPa\"}}},\n",
       "                        {\"responsive\": true}\n",
       "                    ).then(function(){\n",
       "                            \n",
       "var gd = document.getElementById('75b68a3f-f867-4c56-992f-981bbd8b8641');\n",
       "var x = new MutationObserver(function (mutations, observer) {{\n",
       "        var display = window.getComputedStyle(gd).display;\n",
       "        if (!display || display === 'none') {{\n",
       "            console.log([gd, 'removed!']);\n",
       "            Plotly.purge(gd);\n",
       "            observer.disconnect();\n",
       "        }}\n",
       "}});\n",
       "\n",
       "// Listen for the removal of the full notebook cells\n",
       "var notebookContainer = gd.closest('#notebook-container');\n",
       "if (notebookContainer) {{\n",
       "    x.observe(notebookContainer, {childList: true});\n",
       "}}\n",
       "\n",
       "// Listen for the clearing of the current output cell\n",
       "var outputEl = gd.closest('.output');\n",
       "if (outputEl) {{\n",
       "    x.observe(outputEl, {childList: true});\n",
       "}}\n",
       "\n",
       "                        })\n",
       "                };\n",
       "                });\n",
       "            </script>\n",
       "        </div>"
      ]
     },
     "metadata": {},
     "output_type": "display_data"
    }
   ],
   "source": [
    "#Plot over hydrotatic pressure\n",
    "fig = go.Figure()\n",
    "fig.add_trace(go.Scatter(x=average['no3_a03'], y= average.P_HYD*0.01,\n",
    "                    mode='markers',\n",
    "                    ))\n",
    "# Edit the layout\n",
    "fig.update_layout(title='Vertical profile',\n",
    "                   xaxis_title='no3_a03' +' '+ average['no3_a03'].units,\n",
    "                   yaxis_title='hydrostatic pressure hPa')\n",
    "fig.show()"
   ]
  },
  {
   "cell_type": "code",
   "execution_count": 87,
   "metadata": {},
   "outputs": [],
   "source": [
    "datapath ='/exports/csce/datastore/geos/users/s1878599/WRFchem4.0/model/WRF/test/em_real_copy/wrfbdy_d01'\n",
    "#Merge datasets\n",
    "bdy = xr.open_dataset(datapath)"
   ]
  },
  {
   "cell_type": "code",
   "execution_count": null,
   "metadata": {},
   "outputs": [],
   "source": []
  },
  {
   "cell_type": "code",
   "execution_count": 89,
   "metadata": {},
   "outputs": [
    {
     "ename": "AttributeError",
     "evalue": "'Dataset' object has no attribute 'coord'",
     "output_type": "error",
     "traceback": [
      "\u001b[0;31m---------------------------------------------------------------------------\u001b[0m",
      "\u001b[0;31mAttributeError\u001b[0m                            Traceback (most recent call last)",
      "\u001b[0;32m<ipython-input-89-0d5698b1c54c>\u001b[0m in \u001b[0;36m<module>\u001b[0;34m\u001b[0m\n\u001b[0;32m----> 1\u001b[0;31m \u001b[0mbdy\u001b[0m\u001b[0;34m.\u001b[0m\u001b[0mcoord\u001b[0m\u001b[0;34m\u001b[0m\u001b[0;34m\u001b[0m\u001b[0m\n\u001b[0m",
      "\u001b[0;32m/usr/lib/python3.6/site-packages/xarray/core/common.py\u001b[0m in \u001b[0;36m__getattr__\u001b[0;34m(self, name)\u001b[0m\n\u001b[1;32m    177\u001b[0m                     \u001b[0;32mreturn\u001b[0m \u001b[0msource\u001b[0m\u001b[0;34m[\u001b[0m\u001b[0mname\u001b[0m\u001b[0;34m]\u001b[0m\u001b[0;34m\u001b[0m\u001b[0;34m\u001b[0m\u001b[0m\n\u001b[1;32m    178\u001b[0m         raise AttributeError(\"%r object has no attribute %r\" %\n\u001b[0;32m--> 179\u001b[0;31m                              (type(self).__name__, name))\n\u001b[0m\u001b[1;32m    180\u001b[0m \u001b[0;34m\u001b[0m\u001b[0m\n\u001b[1;32m    181\u001b[0m     \u001b[0;32mdef\u001b[0m \u001b[0m__setattr__\u001b[0m\u001b[0;34m(\u001b[0m\u001b[0mself\u001b[0m\u001b[0;34m,\u001b[0m \u001b[0mname\u001b[0m\u001b[0;34m,\u001b[0m \u001b[0mvalue\u001b[0m\u001b[0;34m)\u001b[0m\u001b[0;34m:\u001b[0m\u001b[0;34m\u001b[0m\u001b[0;34m\u001b[0m\u001b[0m\n",
      "\u001b[0;31mAttributeError\u001b[0m: 'Dataset' object has no attribute 'coord'"
     ]
    }
   ],
   "source": [
    "bdy.coord"
   ]
  },
  {
   "cell_type": "code",
   "execution_count": null,
   "metadata": {},
   "outputs": [],
   "source": []
  }
 ],
 "metadata": {
  "kernelspec": {
   "display_name": "Python 3",
   "language": "python",
   "name": "python3"
  },
  "language_info": {
   "codemirror_mode": {
    "name": "ipython",
    "version": 3
   },
   "file_extension": ".py",
   "mimetype": "text/x-python",
   "name": "python",
   "nbconvert_exporter": "python",
   "pygments_lexer": "ipython3",
   "version": "3.6.8"
  }
 },
 "nbformat": 4,
 "nbformat_minor": 2
}
