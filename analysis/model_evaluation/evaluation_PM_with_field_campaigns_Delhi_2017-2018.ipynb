{
 "cells": [
  {
   "cell_type": "markdown",
   "metadata": {},
   "source": [
    "This notebook extract the model PM composition values to compare with PM literature data of filed campaings in Delhi 2017-2018:\n",
    "\n",
    "1) Gani, S., Bhandari, S., Seraj, S., Wang, D. S., Patel, K., Soni, P., … Apte, J. S. (2019). Submicron\n",
    "aerosol composition in the world’s most polluted megacity: the Delhi Aerosol Supersite study.\n",
    "Atmospheric Chemistry and Physics, 19(10), 6843–6859. https://doi.org/10.5194/acp-19-6843-2019\n",
    "\n",
    "2) Patel, K., Bhandari, S., Gani, S., Campmier, M. J., Kumar, P., Habib, G., … Hildebrandt Ruiz, L.\n",
    "(2021). Sources and Dynamics of Submicron Aerosol during the Autumn Onset of the Air Pollution\n",
    "Season in Delhi, India. ACS Earth and Space Chemistry, 5(1), 118–128.\n",
    "https://doi.org/10.1021/acsearthspacechem.0c00340\n",
    "\n",
    "3) Gunthe, S.S., Liu, P., Panda, U. et al. Enhanced aerosol particle growth sustained by high continental\n",
    "chlorine emission in India. Nat. Geosci. 14, 77–84 (2021). https://doi.org/10.1038/s41561-020-00677-x"
   ]
  },
  {
   "cell_type": "code",
   "execution_count": 1,
   "metadata": {},
   "outputs": [
    {
     "name": "stdout",
     "output_type": "stream",
     "text": [
      "WRFchem outputs data path is: dpath=/geos/d21/s1878599/IGP\n"
     ]
    }
   ],
   "source": [
    "#import modules\n",
    "%run ../load_main.py\n",
    "from WRFChemToolkit.analysis import aerosols_202 as aer, plots as pt, statistics as st, IGP as igp\n",
    "from Air_Quality_notebooks import utils as utl"
   ]
  },
  {
   "cell_type": "code",
   "execution_count": 2,
   "metadata": {},
   "outputs": [],
   "source": [
    "#Load data for each season\n",
    "post_pth=dpath+'/outputs/autumn/wrfout*.nc'\n",
    "win_pth= dpath+'/outputs/winter/wrfout*.nc'\n",
    "mon_pth= dpath+'/outputs/monsoon/wrfout*.nc'\n",
    "pre_pth= dpath+'/outputs/premonsoon/wrfout*.nc'\n",
    "\n",
    "pth_d={\"pre\":pre_pth,\"mon\":mon_pth,\"post\":post_pth,\"win\":win_pth}\n",
    "\n",
    "s=utl.dictdata(pth_d)"
   ]
  },
  {
   "cell_type": "code",
   "execution_count": 3,
   "metadata": {},
   "outputs": [],
   "source": [
    "#Get aerosols for each seasons\n",
    "def get_aer(d):\n",
    "    aer_IGP={}\n",
    "    for s, val in d.items():\n",
    "        aer_IGP.update({s :aer.get_aerosols(val)})\n",
    "    return aer_IGP"
   ]
  },
  {
   "cell_type": "code",
   "execution_count": 4,
   "metadata": {},
   "outputs": [],
   "source": [
    "aer=get_aer(s)"
   ]
  },
  {
   "cell_type": "code",
   "execution_count": 5,
   "metadata": {},
   "outputs": [],
   "source": [
    "# add PM1\n",
    "for s,ds in aer.items():\n",
    "    ds['pm1_POA']=ds.oc_a01/ds.ALT\n",
    "    ds['pm1_SOA'] = (ds.glysoa_r1_a01 +ds.glysoa_r2_a01+ds.glysoa_sfc_a01+ \\\n",
    "    ds.glysoa_oh_a01+ds.glysoa_nh4_a01+ds.asoaX_a01+ \\\n",
    "    ds.asoa1_a01 + ds.asoa2_a01+ ds.asoa3_a01+ds.asoa4_a01+ \\\n",
    "    ds.bsoa1_a01 + ds.bsoa2_a01+ ds.bsoa3_a01+ds.bsoa4_a01+ \\\n",
    "    ds.bsoaX_a01)/ds.ALT\n",
    "    ds['pm1_no3']=ds.no3_a01/ds.ALT\n",
    "    ds['pm1_sulf']=ds.so4_a01/ds.ALT\n",
    "    ds['pm1_amm']=ds.nh4_a01/ds.ALT\n",
    "    ds['pm1_cl']=ds.cl_a01/ds.ALT\n",
    "    ds['pm1_na']=ds.na_a01/ds.ALT\n",
    "    ds['pm1_bc']=ds.bc_a01/ds.ALT\n",
    "    ds['pm1_oth']=ds.oin_a01/ds.ALT\n",
    "    ds['pm1_water']=ds.water_a01/ds.ALT"
   ]
  },
  {
   "cell_type": "code",
   "execution_count": 6,
   "metadata": {},
   "outputs": [],
   "source": [
    "# get time average of aerosols\n",
    "def get_taer(d):\n",
    "    aer_IGP={}\n",
    "    for s, val in d.items():\n",
    "        aer_IGP.update({s :st.time_mean(val,'Time')})\n",
    "    return aer_IGP\n",
    "\n",
    "t_aer=get_taer(aer)"
   ]
  },
  {
   "cell_type": "code",
   "execution_count": 7,
   "metadata": {},
   "outputs": [],
   "source": [
    "#get relevant OA data from model\n",
    "def get_pm1(ds):\n",
    "    data ={\"pm1_no3\" : ([\"lat\",\"lon\"], ds.pm1_no3.values[0,:,:]),\n",
    "           \"pm1_sulf\" : ([\"lat\",\"lon\"], ds.pm1_sulf.values[0,:,:]),\n",
    "           \"pm1_amm\" : ([\"lat\",\"lon\"], ds.pm1_amm.values[0,:,:]),\n",
    "           \"pm1_cl\" : ([\"lat\",\"lon\"], ds.pm1_cl.values[0,:,:]),\n",
    "           \"pm1_na\" : ([\"lat\",\"lon\"], ds.pm1_na.values[0,:,:]),\n",
    "           \"pm1_bc\" : ([\"lat\",\"lon\"], ds.pm1_bc.values[0,:,:]),\n",
    "           \"pm1_oth\" : ([\"lat\",\"lon\"], ds.pm1_oth.values[0,:,:]),\n",
    "           \"pm1_SOA\" : ([\"lat\",\"lon\"], ds.pm1_SOA.values[0,:,:]),\n",
    "           \"pm1_POA\" : ([\"lat\",\"lon\"], ds.pm1_POA.values[0,:,:]),\n",
    "           \"pm1_water\" : ([\"lat\",\"lon\"], ds.pm1_water.values[0,:,:])\n",
    "          }\n",
    "    coords={'lat': (['lat'], ds.XLAT[0,:,0]), 'lon': (['lon'], ds.XLONG[0,0,:])}\n",
    "    oa = xr.Dataset(data, coords=coords)\n",
    "    return oa\n",
    "\n",
    "p={}\n",
    "for k,v in t_aer.items():\n",
    "    p.update({k:get_pm1(v)})\n",
    "\n",
    "#put in a dictionary by season\n",
    "pm1={\"premonsoon\": p[\"pre\"],\"monsoon\":p[\"mon\"],\"postmonsoon\": p[\"post\"],\"winter\": p[\"win\"]}"
   ]
  },
  {
   "cell_type": "code",
   "execution_count": 8,
   "metadata": {},
   "outputs": [],
   "source": [
    "def get_pm25(ds):\n",
    "    data ={\"pm25_no3\" : ([\"lat\",\"lon\"], ds.pm25_no3.values[0,:,:]),\n",
    "           \"pm25_sulf\" : ([\"lat\",\"lon\"], ds.pm25_so4.values[0,:,:]),\n",
    "           \"pm25_amm\" : ([\"lat\",\"lon\"], ds.pm25_nh4.values[0,:,:]),\n",
    "           \"pm25_cl\" : ([\"lat\",\"lon\"], ds.pm25_cl.values[0,:,:]),\n",
    "           \"pm25_na\" : ([\"lat\",\"lon\"], ds.pm25_na.values[0,:,:]),\n",
    "           \"pm25_bc\" : ([\"lat\",\"lon\"], ds.pm25_bc.values[0,:,:]),\n",
    "           \"pm25_oth\" : ([\"lat\",\"lon\"], ds.pm25_oin.values[0,:,:]),\n",
    "           \"pm25_SOA\" : ([\"lat\",\"lon\"], ds.pm25_SOA.values[0,:,:]),\n",
    "           \"pm25_POA\" : ([\"lat\",\"lon\"], ds.pm25_POA.values[0,:,:]),\n",
    "           \"pm25_water\" : ([\"lat\",\"lon\"], ds.pm25_water.values[0,:,:])\n",
    "          }\n",
    "    coords={'lat': (['lat'], ds.XLAT[0,:,0]), 'lon': (['lon'], ds.XLONG[0,0,:])}\n",
    "    oa = xr.Dataset(data, coords=coords)\n",
    "    return oa\n",
    "\n",
    "p={}\n",
    "for k,v in t_aer.items():\n",
    "    p.update({k:get_pm25(v)})\n",
    "\n",
    "#put in a dictionary by season\n",
    "pm25={\"premonsoon\": p[\"pre\"],\"monsoon\":p[\"mon\"],\"postmonsoon\": p[\"post\"],\"winter\": p[\"win\"]}"
   ]
  },
  {
   "cell_type": "code",
   "execution_count": 9,
   "metadata": {},
   "outputs": [],
   "source": [
    "# function for extracting data at a defined location.\n",
    "def locate(d,lat,lon):\n",
    "    city={}\n",
    "    for s, val in d.items():\n",
    "        city.update({s : val.sel(lat=lat,lon=lon,method='nearest')})\n",
    "    return city"
   ]
  },
  {
   "cell_type": "markdown",
   "metadata": {},
   "source": [
    "### Get data at site locations"
   ]
  },
  {
   "cell_type": "code",
   "execution_count": 10,
   "metadata": {},
   "outputs": [],
   "source": [
    "# Indian Meteorological Department campus (28.59° N, 77.22° E; 200 m above sea level) during February–March 2018"
   ]
  },
  {
   "cell_type": "code",
   "execution_count": 11,
   "metadata": {},
   "outputs": [],
   "source": [
    "delhi_pm1=locate(pm1,28.59, 77.22)"
   ]
  },
  {
   "cell_type": "code",
   "execution_count": 12,
   "metadata": {},
   "outputs": [
    {
     "data": {
      "text/plain": [
       "{'premonsoon': <xarray.Dataset>\n",
       " Dimensions:    ()\n",
       " Coordinates:\n",
       "     lat        float32 28.635994\n",
       "     lon        float32 77.176445\n",
       " Data variables:\n",
       "     pm1_no3    float32 1.3288438\n",
       "     pm1_sulf   float32 0.6682795\n",
       "     pm1_amm    float32 0.63721114\n",
       "     pm1_cl     float32 0.0\n",
       "     pm1_na     float32 0.0005808556\n",
       "     pm1_bc     float32 1.6482668\n",
       "     pm1_oth    float32 8.634319\n",
       "     pm1_SOA    float32 0.5649314\n",
       "     pm1_POA    float32 1.9935104\n",
       "     pm1_water  float32 0.0,\n",
       " 'monsoon': <xarray.Dataset>\n",
       " Dimensions:    ()\n",
       " Coordinates:\n",
       "     lat        float32 28.635994\n",
       "     lon        float32 77.176445\n",
       " Data variables:\n",
       "     pm1_no3    float32 0.34521493\n",
       "     pm1_sulf   float32 0.54404986\n",
       "     pm1_amm    float32 0.2929685\n",
       "     pm1_cl     float32 6.235312e-05\n",
       "     pm1_na     float32 0.014704865\n",
       "     pm1_bc     float32 0.6333708\n",
       "     pm1_oth    float32 3.6659646\n",
       "     pm1_SOA    float32 1.0653894\n",
       "     pm1_POA    float32 0.90145224\n",
       "     pm1_water  float32 0.24802607,\n",
       " 'postmonsoon': <xarray.Dataset>\n",
       " Dimensions:    ()\n",
       " Coordinates:\n",
       "     lat        float32 28.635994\n",
       "     lon        float32 77.176445\n",
       " Data variables:\n",
       "     pm1_no3    float32 3.0939717\n",
       "     pm1_sulf   float32 0.47015876\n",
       "     pm1_amm    float32 1.0767912\n",
       "     pm1_cl     float32 0.0\n",
       "     pm1_na     float32 6.685999e-05\n",
       "     pm1_bc     float32 2.2031522\n",
       "     pm1_oth    float32 14.897776\n",
       "     pm1_SOA    float32 1.4969075\n",
       "     pm1_POA    float32 2.7521966\n",
       "     pm1_water  float32 0.0,\n",
       " 'winter': <xarray.Dataset>\n",
       " Dimensions:    ()\n",
       " Coordinates:\n",
       "     lat        float32 28.635994\n",
       "     lon        float32 77.176445\n",
       " Data variables:\n",
       "     pm1_no3    float32 2.3534667\n",
       "     pm1_sulf   float32 0.35321388\n",
       "     pm1_amm    float32 0.81727487\n",
       "     pm1_cl     float32 1.5000007e-05\n",
       "     pm1_na     float32 0.00010707162\n",
       "     pm1_bc     float32 2.3245358\n",
       "     pm1_oth    float32 12.123269\n",
       "     pm1_SOA    float32 0.8846609\n",
       "     pm1_POA    float32 2.6412883\n",
       "     pm1_water  float32 0.1903223}"
      ]
     },
     "execution_count": 12,
     "metadata": {},
     "output_type": "execute_result"
    }
   ],
   "source": [
    "delhi_pm1"
   ]
  },
  {
   "cell_type": "code",
   "execution_count": 13,
   "metadata": {},
   "outputs": [],
   "source": [
    "delhi_pm25=locate(pm25,28.59, 77.22)"
   ]
  },
  {
   "cell_type": "code",
   "execution_count": 14,
   "metadata": {},
   "outputs": [
    {
     "data": {
      "text/plain": [
       "{'premonsoon': <xarray.Dataset>\n",
       " Dimensions:     ()\n",
       " Coordinates:\n",
       "     lat         float32 28.635994\n",
       "     lon         float32 77.176445\n",
       " Data variables:\n",
       "     pm25_no3    float32 5.2856216\n",
       "     pm25_sulf   float32 10.760208\n",
       "     pm25_amm    float32 5.4573684\n",
       "     pm25_cl     float32 0.0\n",
       "     pm25_na     float32 0.15582713\n",
       "     pm25_bc     float32 9.718925\n",
       "     pm25_oth    float32 84.85145\n",
       "     pm25_SOA    float32 5.842578\n",
       "     pm25_POA    float32 14.541838\n",
       "     pm25_water  float32 0.0,\n",
       " 'monsoon': <xarray.Dataset>\n",
       " Dimensions:     ()\n",
       " Coordinates:\n",
       "     lat         float32 28.635994\n",
       "     lon         float32 77.176445\n",
       " Data variables:\n",
       "     pm25_no3    float32 8.301301\n",
       "     pm25_sulf   float32 7.96247\n",
       "     pm25_amm    float32 3.7080252\n",
       "     pm25_cl     float32 0.3041731\n",
       "     pm25_na     float32 2.3590672\n",
       "     pm25_bc     float32 3.974393\n",
       "     pm25_oth    float32 25.867722\n",
       "     pm25_SOA    float32 13.564557\n",
       "     pm25_POA    float32 7.5074177\n",
       "     pm25_water  float32 5.664592,\n",
       " 'postmonsoon': <xarray.Dataset>\n",
       " Dimensions:     ()\n",
       " Coordinates:\n",
       "     lat         float32 28.635994\n",
       "     lon         float32 77.176445\n",
       " Data variables:\n",
       "     pm25_no3    float32 72.91114\n",
       "     pm25_sulf   float32 22.378452\n",
       "     pm25_amm    float32 29.596907\n",
       "     pm25_cl     float32 1.02812295e-19\n",
       "     pm25_na     float32 0.030021254\n",
       "     pm25_bc     float32 18.53525\n",
       "     pm25_oth    float32 125.7502\n",
       "     pm25_SOA    float32 30.54916\n",
       "     pm25_POA    float32 32.64206\n",
       "     pm25_water  float32 0.00059190724,\n",
       " 'winter': <xarray.Dataset>\n",
       " Dimensions:     ()\n",
       " Coordinates:\n",
       "     lat         float32 28.635994\n",
       "     lon         float32 77.176445\n",
       " Data variables:\n",
       "     pm25_no3    float32 42.37737\n",
       "     pm25_sulf   float32 11.045629\n",
       "     pm25_amm    float32 16.450146\n",
       "     pm25_cl     float32 6.405246e-05\n",
       "     pm25_na     float32 0.037056543\n",
       "     pm25_bc     float32 16.272322\n",
       "     pm25_oth    float32 84.84846\n",
       "     pm25_SOA    float32 12.347556\n",
       "     pm25_POA    float32 24.134722\n",
       "     pm25_water  float32 4.2962146}"
      ]
     },
     "execution_count": 14,
     "metadata": {},
     "output_type": "execute_result"
    }
   ],
   "source": [
    "delhi_pm25"
   ]
  },
  {
   "cell_type": "code",
   "execution_count": 15,
   "metadata": {},
   "outputs": [],
   "source": [
    " #Delhi Aerosol Supersite is located at the Indian Institute of Technology Delhi (IITD) #28°32′42″N 77°11′32″E"
   ]
  },
  {
   "cell_type": "code",
   "execution_count": 16,
   "metadata": {},
   "outputs": [],
   "source": [
    "delhi_itt_pm1=locate(pm1,28.54, 77.19)"
   ]
  },
  {
   "cell_type": "code",
   "execution_count": 17,
   "metadata": {},
   "outputs": [
    {
     "data": {
      "text/plain": [
       "{'premonsoon': <xarray.Dataset>\n",
       " Dimensions:    ()\n",
       " Coordinates:\n",
       "     lat        float32 28.453522\n",
       "     lon        float32 77.176445\n",
       " Data variables:\n",
       "     pm1_no3    float32 1.1008006\n",
       "     pm1_sulf   float32 0.640723\n",
       "     pm1_amm    float32 0.5605\n",
       "     pm1_cl     float32 0.0\n",
       "     pm1_na     float32 0.0005900841\n",
       "     pm1_bc     float32 1.2528666\n",
       "     pm1_oth    float32 6.04013\n",
       "     pm1_SOA    float32 0.5208318\n",
       "     pm1_POA    float32 1.6350513\n",
       "     pm1_water  float32 0.0,\n",
       " 'monsoon': <xarray.Dataset>\n",
       " Dimensions:    ()\n",
       " Coordinates:\n",
       "     lat        float32 28.453522\n",
       "     lon        float32 77.176445\n",
       " Data variables:\n",
       "     pm1_no3    float32 0.32435223\n",
       "     pm1_sulf   float32 0.5216729\n",
       "     pm1_amm    float32 0.27821356\n",
       "     pm1_cl     float32 5.363794e-05\n",
       "     pm1_na     float32 0.015289012\n",
       "     pm1_bc     float32 0.4702625\n",
       "     pm1_oth    float32 2.5680542\n",
       "     pm1_SOA    float32 1.0407314\n",
       "     pm1_POA    float32 0.7839068\n",
       "     pm1_water  float32 0.25637048,\n",
       " 'postmonsoon': <xarray.Dataset>\n",
       " Dimensions:    ()\n",
       " Coordinates:\n",
       "     lat        float32 28.453522\n",
       "     lon        float32 77.176445\n",
       " Data variables:\n",
       "     pm1_no3    float32 2.7978292\n",
       "     pm1_sulf   float32 0.45177427\n",
       "     pm1_amm    float32 0.9837228\n",
       "     pm1_cl     float32 0.0\n",
       "     pm1_na     float32 6.0348662e-05\n",
       "     pm1_bc     float32 1.7720429\n",
       "     pm1_oth    float32 11.535805\n",
       "     pm1_SOA    float32 1.4733995\n",
       "     pm1_POA    float32 2.3664656\n",
       "     pm1_water  float32 0.0,\n",
       " 'winter': <xarray.Dataset>\n",
       " Dimensions:    ()\n",
       " Coordinates:\n",
       "     lat        float32 28.453522\n",
       "     lon        float32 77.176445\n",
       " Data variables:\n",
       "     pm1_no3    float32 2.299097\n",
       "     pm1_sulf   float32 0.3469952\n",
       "     pm1_amm    float32 0.79915005\n",
       "     pm1_cl     float32 1.34657175e-05\n",
       "     pm1_na     float32 0.000104631166\n",
       "     pm1_bc     float32 1.8343899\n",
       "     pm1_oth    float32 8.578856\n",
       "     pm1_SOA    float32 0.88143915\n",
       "     pm1_POA    float32 2.2199209\n",
       "     pm1_water  float32 0.23550284}"
      ]
     },
     "execution_count": 17,
     "metadata": {},
     "output_type": "execute_result"
    }
   ],
   "source": [
    "delhi_itt_pm1"
   ]
  },
  {
   "cell_type": "code",
   "execution_count": 18,
   "metadata": {},
   "outputs": [],
   "source": [
    "delhi_itt_pm25=locate(pm25,28.54, 77.19)"
   ]
  },
  {
   "cell_type": "code",
   "execution_count": 19,
   "metadata": {},
   "outputs": [
    {
     "data": {
      "text/plain": [
       "{'premonsoon': <xarray.Dataset>\n",
       " Dimensions:     ()\n",
       " Coordinates:\n",
       "     lat         float32 28.453522\n",
       "     lon         float32 77.176445\n",
       " Data variables:\n",
       "     pm25_no3    float32 4.2712884\n",
       "     pm25_sulf   float32 10.274269\n",
       "     pm25_amm    float32 4.978221\n",
       "     pm25_cl     float32 0.0\n",
       "     pm25_na     float32 0.15771586\n",
       "     pm25_bc     float32 7.5719786\n",
       "     pm25_oth    float32 71.82492\n",
       "     pm25_SOA    float32 5.304442\n",
       "     pm25_POA    float32 12.141348\n",
       "     pm25_water  float32 0.0,\n",
       " 'monsoon': <xarray.Dataset>\n",
       " Dimensions:     ()\n",
       " Coordinates:\n",
       "     lat         float32 28.453522\n",
       "     lon         float32 77.176445\n",
       " Data variables:\n",
       "     pm25_no3    float32 7.8055415\n",
       "     pm25_sulf   float32 7.813029\n",
       "     pm25_amm    float32 3.5226157\n",
       "     pm25_cl     float32 0.35903913\n",
       "     pm25_na     float32 2.3753662\n",
       "     pm25_bc     float32 3.2591705\n",
       "     pm25_oth    float32 20.511951\n",
       "     pm25_SOA    float32 13.223827\n",
       "     pm25_POA    float32 6.92114\n",
       "     pm25_water  float32 5.641274,\n",
       " 'postmonsoon': <xarray.Dataset>\n",
       " Dimensions:     ()\n",
       " Coordinates:\n",
       "     lat         float32 28.453522\n",
       "     lon         float32 77.176445\n",
       " Data variables:\n",
       "     pm25_no3    float32 73.504944\n",
       "     pm25_sulf   float32 22.879564\n",
       "     pm25_amm    float32 29.95786\n",
       "     pm25_cl     float32 0.0\n",
       "     pm25_na     float32 0.030091118\n",
       "     pm25_bc     float32 16.482988\n",
       "     pm25_oth    float32 108.25945\n",
       "     pm25_SOA    float32 31.3306\n",
       "     pm25_POA    float32 30.486053\n",
       "     pm25_water  float32 0.0,\n",
       " 'winter': <xarray.Dataset>\n",
       " Dimensions:     ()\n",
       " Coordinates:\n",
       "     lat         float32 28.453522\n",
       "     lon         float32 77.176445\n",
       " Data variables:\n",
       "     pm25_no3    float32 42.439346\n",
       "     pm25_sulf   float32 11.2777\n",
       "     pm25_amm    float32 16.555012\n",
       "     pm25_cl     float32 5.812494e-05\n",
       "     pm25_na     float32 0.037513908\n",
       "     pm25_bc     float32 13.621245\n",
       "     pm25_oth    float32 63.66371\n",
       "     pm25_SOA    float32 12.486251\n",
       "     pm25_POA    float32 21.44063\n",
       "     pm25_water  float32 4.782646}"
      ]
     },
     "execution_count": 19,
     "metadata": {},
     "output_type": "execute_result"
    }
   ],
   "source": [
    "delhi_itt_pm25"
   ]
  },
  {
   "cell_type": "code",
   "execution_count": null,
   "metadata": {},
   "outputs": [],
   "source": []
  }
 ],
 "metadata": {
  "kernelspec": {
   "display_name": "Python 3",
   "language": "python",
   "name": "python3"
  },
  "language_info": {
   "codemirror_mode": {
    "name": "ipython",
    "version": 3
   },
   "file_extension": ".py",
   "mimetype": "text/x-python",
   "name": "python",
   "nbconvert_exporter": "python",
   "pygments_lexer": "ipython3",
   "version": "3.8.2"
  }
 },
 "nbformat": 4,
 "nbformat_minor": 4
}
