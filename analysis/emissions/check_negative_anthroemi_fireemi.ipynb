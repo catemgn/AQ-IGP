{
 "cells": [
  {
   "cell_type": "markdown",
   "metadata": {},
   "source": [
    "This notebook is for checking if preprocessing tools of anthro_emiss and fire_emiss leave some small negative values in emissions."
   ]
  },
  {
   "cell_type": "code",
   "execution_count": 1,
   "metadata": {},
   "outputs": [
    {
     "name": "stdout",
     "output_type": "stream",
     "text": [
      "WRFchem outputs data path is: dpath=/geos/d21/s1878599/IGP\n"
     ]
    }
   ],
   "source": [
    "# load modules\n",
    "%run ../load_main.py"
   ]
  },
  {
   "cell_type": "markdown",
   "metadata": {},
   "source": [
    "## Check Fire"
   ]
  },
  {
   "cell_type": "code",
   "execution_count": 2,
   "metadata": {},
   "outputs": [],
   "source": [
    "#Get data\n",
    "pth= dpath +'/inp_emiss/premonsoon/emi_base/wrffirechemi*'\n",
    "fire = xr.open_mfdataset(pth, concat_dim=\"Time\")"
   ]
  },
  {
   "cell_type": "code",
   "execution_count": 3,
   "metadata": {},
   "outputs": [],
   "source": [
    "# check if any value is less than 0.\n",
    "for v in fire.data_vars.values():\n",
    "    if v.name != \"Times\":\n",
    "        if v.values.min() < 0.0: \n",
    "            print(v.name)\n",
    "            print(v.values.min())"
   ]
  },
  {
   "cell_type": "code",
   "execution_count": 4,
   "metadata": {},
   "outputs": [],
   "source": [
    "# reset minimum to zero if necessary and save new files.\n",
    "import os\n",
    "inp_pth= dpath +'/inp_emiss/premonsoon/emi_base/'\n",
    "out_pth = dpath +'/inp_emiss/premonsoon/emi_base/neg_checked/'\n",
    "\n",
    "for file in os.listdir(inp_pth):\n",
    "    if file.startswith('wrffirechemi'):\n",
    "        ds = xr.open_dataset(inp_pth + file) # open fire file.\n",
    "        for v in ds.data_vars.values():\n",
    "            if v.name != \"Times\":\n",
    "                v.values = v.values.clip(min=0)\n",
    "                ds.to_netcdf(out_pth + file,format = 'NETCDF3_64BIT')  # Save to netCDF file."
   ]
  },
  {
   "cell_type": "markdown",
   "metadata": {},
   "source": [
    "## Check Anthro"
   ]
  },
  {
   "cell_type": "code",
   "execution_count": 5,
   "metadata": {},
   "outputs": [],
   "source": [
    "#Get data\n",
    "pth= dpath +'/inp_emiss/premonsoon/emi_base/wrffirechemi*'\n",
    "fire = xr.open_mfdataset(pth, concat_dim=\"Time\")"
   ]
  },
  {
   "cell_type": "code",
   "execution_count": 6,
   "metadata": {},
   "outputs": [],
   "source": [
    "# check if any value is less than 0.\n",
    "for v in fire.data_vars.values():\n",
    "    if v.name != \"Times\":\n",
    "        if v.values.min() < 0.0: \n",
    "            print(v.name)\n",
    "            print(v.values.min())"
   ]
  },
  {
   "cell_type": "code",
   "execution_count": 7,
   "metadata": {},
   "outputs": [],
   "source": [
    "# reset minimum to zero if necessary and save new files.\n",
    "inp_pth= dpath +'/inp_emiss/premonsoon/emi_base/'\n",
    "out_pth = dpath +'/inp_emiss/premonsoon/emi_base/neg_checked/'\n",
    "\n",
    "for file in os.listdir(inp_pth):\n",
    "    if file.startswith('wrfchemi'):\n",
    "        ds = xr.open_dataset(inp_pth + file) # open fire file.\n",
    "        for v in ds.data_vars.values():\n",
    "            if v.name != \"Times\":\n",
    "                v.values = v.values.clip(min=0)\n",
    "                ds.to_netcdf(out_pth + file,format = 'NETCDF3_64BIT')  # Save to netCDF file."
   ]
  },
  {
   "cell_type": "code",
   "execution_count": null,
   "metadata": {},
   "outputs": [],
   "source": []
  }
 ],
 "metadata": {
  "kernelspec": {
   "display_name": "Python 3",
   "language": "python",
   "name": "python3"
  },
  "language_info": {
   "codemirror_mode": {
    "name": "ipython",
    "version": 3
   },
   "file_extension": ".py",
   "mimetype": "text/x-python",
   "name": "python",
   "nbconvert_exporter": "python",
   "pygments_lexer": "ipython3",
   "version": "3.8.2"
  }
 },
 "nbformat": 4,
 "nbformat_minor": 2
}
